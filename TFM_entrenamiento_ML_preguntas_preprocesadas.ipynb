{
  "cells": [
    {
      "cell_type": "markdown",
      "metadata": {
        "id": "view-in-github",
        "colab_type": "text"
      },
      "source": [
        "<a href=\"https://colab.research.google.com/github/deysi-caraballo/tfm/blob/main/TFM_entrenamiento_ML_preguntas_preprocesadas.ipynb\" target=\"_parent\"><img src=\"https://colab.research.google.com/assets/colab-badge.svg\" alt=\"Open In Colab\"/></a>"
      ]
    },
    {
      "cell_type": "markdown",
      "metadata": {
        "id": "BDOxpA9USsMA"
      },
      "source": [
        "# Importación del dataset crudo en formato Parquet"
      ]
    },
    {
      "cell_type": "markdown",
      "metadata": {
        "id": "TRh2e3D9SUAd"
      },
      "source": [
        "En primer lugar, nos preparamos para descargar el fichero Parquet de datos crudos desde Google Cloud Storage hasta nuestro sistema de ficheros local de Google Colab"
      ]
    },
    {
      "cell_type": "code",
      "execution_count": 7,
      "metadata": {
        "id": "0SeUFDOwSgqA"
      },
      "outputs": [],
      "source": [
        "import os\n",
        "import google.auth"
      ]
    },
    {
      "cell_type": "code",
      "execution_count": 8,
      "metadata": {
        "id": "Cau3jH6JSvd1"
      },
      "outputs": [],
      "source": [
        "os.environ[\"GOOGLE_APPLICATION_CREDENTIALS\"] = '/content/sa.json'"
      ]
    },
    {
      "cell_type": "code",
      "execution_count": 9,
      "metadata": {
        "id": "xa-wlDEsRha5"
      },
      "outputs": [],
      "source": [
        "!export GOOGLE_APPLICATION_CREDENTIALS=/content/sa.json"
      ]
    },
    {
      "cell_type": "code",
      "execution_count": 10,
      "metadata": {
        "colab": {
          "base_uri": "https://localhost:8080/"
        },
        "id": "UsWRzErOSHdU",
        "outputId": "fe64a8b2-980b-4694-e7a7-b4642a9dee88"
      },
      "outputs": [
        {
          "output_type": "stream",
          "name": "stdout",
          "text": [
            "/content/sa.json\n"
          ]
        }
      ],
      "source": [
        "!echo $GOOGLE_APPLICATION_CREDENTIALS"
      ]
    },
    {
      "cell_type": "code",
      "execution_count": 11,
      "metadata": {
        "colab": {
          "base_uri": "https://localhost:8080/"
        },
        "id": "cMt0ha1xIJsa",
        "outputId": "d10f7752-499e-4421-8136-5fe2c089d5d1"
      },
      "outputs": [
        {
          "output_type": "stream",
          "name": "stdout",
          "text": [
            "\u001b[1;33mWARNING:\u001b[0m You do not appear to have access to project [800463162730] or it does not exist.\n",
            "Are you sure you wish to set property [core/project] to 800463162730?\n",
            "\n",
            "Do you want to continue (Y/n)?  Y\n",
            "\n",
            "Updated property [core/project].\n"
          ]
        }
      ],
      "source": [
        "!gcloud config set project '800463162730' #'snappy-guard-389922'"
      ]
    },
    {
      "cell_type": "code",
      "execution_count": 12,
      "metadata": {
        "colab": {
          "base_uri": "https://localhost:8080/"
        },
        "id": "zMTDg4ymJxNz",
        "outputId": "4fcd6867-7c4f-4ebb-bef9-60f800468e2e"
      },
      "outputs": [
        {
          "output_type": "stream",
          "name": "stdout",
          "text": [
            "\n",
            "You are already authenticated with \n",
            "'tfm-pasalera@snappy-guard-389922.iam.gserviceaccount.com'.\n",
            "Do you wish to proceed and overwrite existing credentials?\n",
            "\n",
            "Do you want to continue (Y/n)?  Y\n",
            "\n",
            "\n",
            "Authenticated with service account credentials for: [tfm-pasalera@snappy-guard-389922.iam.gserviceaccount.com].\n",
            "Your current project is [800463162730].  You can change this setting by running:\n",
            "  $ gcloud config set project PROJECT_ID\n"
          ]
        }
      ],
      "source": [
        "!gcloud auth login --cred-file=$GOOGLE_APPLICATION_CREDENTIALS"
      ]
    },
    {
      "cell_type": "code",
      "execution_count": 13,
      "metadata": {
        "id": "llDJ92bxIhsA",
        "colab": {
          "base_uri": "https://localhost:8080/"
        },
        "outputId": "6ab97d18-27d0-4edf-a375-f18e9e61c5ad"
      },
      "outputs": [
        {
          "output_type": "stream",
          "name": "stdout",
          "text": [
            "Copying gs://dataprep-staging-f1ae6292-d58f-4922-af3a-1cf0b5492123/mendoza.dc6@gmail.com/jobrun/preguntas-preprocesado-aumentado.parquet...\n",
            "\\ [1 files][  9.2 MiB/  9.2 MiB]                                                \n",
            "Operation completed over 1 objects/9.2 MiB.                                      \n"
          ]
        }
      ],
      "source": [
        "!gsutil cp gs://dataprep-staging-f1ae6292-d58f-4922-af3a-1cf0b5492123/mendoza.dc6@gmail.com/jobrun/preguntas-preprocesado-aumentado.parquet /content/preguntas-preprocesado.parquet"
      ]
    },
    {
      "cell_type": "markdown",
      "metadata": {
        "id": "0613SGdJS3AQ"
      },
      "source": [
        "# Lectura del fichero Parquet como DataFrame de pandas"
      ]
    },
    {
      "cell_type": "code",
      "execution_count": 14,
      "metadata": {
        "colab": {
          "base_uri": "https://localhost:8080/"
        },
        "id": "0dW0AyvpATLE",
        "outputId": "118b488f-5f3c-4646-9475-b00fc685fa60"
      },
      "outputs": [
        {
          "output_type": "stream",
          "name": "stdout",
          "text": [
            "Requirement already satisfied: pandas in /usr/local/lib/python3.10/dist-packages (1.5.3)\n",
            "Requirement already satisfied: python-dateutil>=2.8.1 in /usr/local/lib/python3.10/dist-packages (from pandas) (2.8.2)\n",
            "Requirement already satisfied: pytz>=2020.1 in /usr/local/lib/python3.10/dist-packages (from pandas) (2022.7.1)\n",
            "Requirement already satisfied: numpy>=1.21.0 in /usr/local/lib/python3.10/dist-packages (from pandas) (1.22.4)\n",
            "Requirement already satisfied: six>=1.5 in /usr/local/lib/python3.10/dist-packages (from python-dateutil>=2.8.1->pandas) (1.16.0)\n"
          ]
        }
      ],
      "source": [
        "!pip install pandas"
      ]
    },
    {
      "cell_type": "code",
      "execution_count": 15,
      "metadata": {
        "id": "yVf6eAP4Pw8O",
        "colab": {
          "base_uri": "https://localhost:8080/"
        },
        "outputId": "c134b55b-390b-4f92-84f1-073432c78333"
      },
      "outputs": [
        {
          "output_type": "stream",
          "name": "stdout",
          "text": [
            "Collecting python-snappy\n",
            "  Downloading python_snappy-0.6.1-cp310-cp310-manylinux_2_12_x86_64.manylinux2010_x86_64.whl (55 kB)\n",
            "\u001b[?25l     \u001b[90m━━━━━━━━━━━━━━━━━━━━━━━━━━━━━━━━━━━━━━━━\u001b[0m \u001b[32m0.0/55.9 kB\u001b[0m \u001b[31m?\u001b[0m eta \u001b[36m-:--:--\u001b[0m\r\u001b[2K     \u001b[90m━━━━━━━━━━━━━━━━━━━━━━━━━━━━━━━━━━━━━━━━\u001b[0m \u001b[32m55.9/55.9 kB\u001b[0m \u001b[31m7.0 MB/s\u001b[0m eta \u001b[36m0:00:00\u001b[0m\n",
            "\u001b[?25hInstalling collected packages: python-snappy\n",
            "Successfully installed python-snappy-0.6.1\n"
          ]
        }
      ],
      "source": [
        "!pip install python-snappy"
      ]
    },
    {
      "cell_type": "code",
      "execution_count": 3,
      "metadata": {
        "id": "SERpGWaJRkmT"
      },
      "outputs": [],
      "source": [
        "import pandas as pd\n",
        "\n",
        "preguntas_df = pd.read_parquet('/content/preguntas-preprocesado.parquet', engine='pyarrow')"
      ]
    },
    {
      "cell_type": "code",
      "execution_count": 4,
      "metadata": {
        "id": "WAY5Nbxxc19i",
        "colab": {
          "base_uri": "https://localhost:8080/",
          "height": 424
        },
        "outputId": "19d8214f-9770-45b3-9365-70127037585b"
      },
      "outputs": [
        {
          "output_type": "execute_result",
          "data": {
            "text/plain": [
              "                                                  texto  id_ministerio  split\n",
              "0     ¿Qué inversiones fueron realizadas, detallando...             11  train\n",
              "1     ¿Cuál es el estado de ejecución presupuestaria...             11  train\n",
              "2     ¿Cuál es la variación anual del alumnado en la...             14  train\n",
              "3     ¿Cuál es la media de edad de los miembros de l...              4  train\n",
              "4     ¿Qué presupuesto y actuaciones tiene prevista ...              7  train\n",
              "...                                                 ...            ...    ...\n",
              "1515  ¿Cuál es el número de abogados/as del turno de...              3   test\n",
              "4616  ¿Qué previsión contempla el Gobierno en la eje...              5   test\n",
              "4309  Entre 1 de enero de 2018 y 31 de marzo del mis...              5   test\n",
              "4847  El Instituto Elcano ha venido elaborando el ''...              6   test\n",
              "6201  Río o barranco de Barranc dels Mussols a su pa...             11   test\n",
              "\n",
              "[22970 rows x 3 columns]"
            ],
            "text/html": [
              "\n",
              "\n",
              "  <div id=\"df-b5f47a04-049e-4eac-beba-0a011b09d720\">\n",
              "    <div class=\"colab-df-container\">\n",
              "      <div>\n",
              "<style scoped>\n",
              "    .dataframe tbody tr th:only-of-type {\n",
              "        vertical-align: middle;\n",
              "    }\n",
              "\n",
              "    .dataframe tbody tr th {\n",
              "        vertical-align: top;\n",
              "    }\n",
              "\n",
              "    .dataframe thead th {\n",
              "        text-align: right;\n",
              "    }\n",
              "</style>\n",
              "<table border=\"1\" class=\"dataframe\">\n",
              "  <thead>\n",
              "    <tr style=\"text-align: right;\">\n",
              "      <th></th>\n",
              "      <th>texto</th>\n",
              "      <th>id_ministerio</th>\n",
              "      <th>split</th>\n",
              "    </tr>\n",
              "  </thead>\n",
              "  <tbody>\n",
              "    <tr>\n",
              "      <th>0</th>\n",
              "      <td>¿Qué inversiones fueron realizadas, detallando...</td>\n",
              "      <td>11</td>\n",
              "      <td>train</td>\n",
              "    </tr>\n",
              "    <tr>\n",
              "      <th>1</th>\n",
              "      <td>¿Cuál es el estado de ejecución presupuestaria...</td>\n",
              "      <td>11</td>\n",
              "      <td>train</td>\n",
              "    </tr>\n",
              "    <tr>\n",
              "      <th>2</th>\n",
              "      <td>¿Cuál es la variación anual del alumnado en la...</td>\n",
              "      <td>14</td>\n",
              "      <td>train</td>\n",
              "    </tr>\n",
              "    <tr>\n",
              "      <th>3</th>\n",
              "      <td>¿Cuál es la media de edad de los miembros de l...</td>\n",
              "      <td>4</td>\n",
              "      <td>train</td>\n",
              "    </tr>\n",
              "    <tr>\n",
              "      <th>4</th>\n",
              "      <td>¿Qué presupuesto y actuaciones tiene prevista ...</td>\n",
              "      <td>7</td>\n",
              "      <td>train</td>\n",
              "    </tr>\n",
              "    <tr>\n",
              "      <th>...</th>\n",
              "      <td>...</td>\n",
              "      <td>...</td>\n",
              "      <td>...</td>\n",
              "    </tr>\n",
              "    <tr>\n",
              "      <th>1515</th>\n",
              "      <td>¿Cuál es el número de abogados/as del turno de...</td>\n",
              "      <td>3</td>\n",
              "      <td>test</td>\n",
              "    </tr>\n",
              "    <tr>\n",
              "      <th>4616</th>\n",
              "      <td>¿Qué previsión contempla el Gobierno en la eje...</td>\n",
              "      <td>5</td>\n",
              "      <td>test</td>\n",
              "    </tr>\n",
              "    <tr>\n",
              "      <th>4309</th>\n",
              "      <td>Entre 1 de enero de 2018 y 31 de marzo del mis...</td>\n",
              "      <td>5</td>\n",
              "      <td>test</td>\n",
              "    </tr>\n",
              "    <tr>\n",
              "      <th>4847</th>\n",
              "      <td>El Instituto Elcano ha venido elaborando el ''...</td>\n",
              "      <td>6</td>\n",
              "      <td>test</td>\n",
              "    </tr>\n",
              "    <tr>\n",
              "      <th>6201</th>\n",
              "      <td>Río o barranco de Barranc dels Mussols a su pa...</td>\n",
              "      <td>11</td>\n",
              "      <td>test</td>\n",
              "    </tr>\n",
              "  </tbody>\n",
              "</table>\n",
              "<p>22970 rows × 3 columns</p>\n",
              "</div>\n",
              "      <button class=\"colab-df-convert\" onclick=\"convertToInteractive('df-b5f47a04-049e-4eac-beba-0a011b09d720')\"\n",
              "              title=\"Convert this dataframe to an interactive table.\"\n",
              "              style=\"display:none;\">\n",
              "\n",
              "  <svg xmlns=\"http://www.w3.org/2000/svg\" height=\"24px\"viewBox=\"0 0 24 24\"\n",
              "       width=\"24px\">\n",
              "    <path d=\"M0 0h24v24H0V0z\" fill=\"none\"/>\n",
              "    <path d=\"M18.56 5.44l.94 2.06.94-2.06 2.06-.94-2.06-.94-.94-2.06-.94 2.06-2.06.94zm-11 1L8.5 8.5l.94-2.06 2.06-.94-2.06-.94L8.5 2.5l-.94 2.06-2.06.94zm10 10l.94 2.06.94-2.06 2.06-.94-2.06-.94-.94-2.06-.94 2.06-2.06.94z\"/><path d=\"M17.41 7.96l-1.37-1.37c-.4-.4-.92-.59-1.43-.59-.52 0-1.04.2-1.43.59L10.3 9.45l-7.72 7.72c-.78.78-.78 2.05 0 2.83L4 21.41c.39.39.9.59 1.41.59.51 0 1.02-.2 1.41-.59l7.78-7.78 2.81-2.81c.8-.78.8-2.07 0-2.86zM5.41 20L4 18.59l7.72-7.72 1.47 1.35L5.41 20z\"/>\n",
              "  </svg>\n",
              "      </button>\n",
              "\n",
              "\n",
              "\n",
              "    <div id=\"df-0b2dd3e0-ccae-47e0-ab0e-c74dcc71f698\">\n",
              "      <button class=\"colab-df-quickchart\" onclick=\"quickchart('df-0b2dd3e0-ccae-47e0-ab0e-c74dcc71f698')\"\n",
              "              title=\"Suggest charts.\"\n",
              "              style=\"display:none;\">\n",
              "\n",
              "<svg xmlns=\"http://www.w3.org/2000/svg\" height=\"24px\"viewBox=\"0 0 24 24\"\n",
              "     width=\"24px\">\n",
              "    <g>\n",
              "        <path d=\"M19 3H5c-1.1 0-2 .9-2 2v14c0 1.1.9 2 2 2h14c1.1 0 2-.9 2-2V5c0-1.1-.9-2-2-2zM9 17H7v-7h2v7zm4 0h-2V7h2v10zm4 0h-2v-4h2v4z\"/>\n",
              "    </g>\n",
              "</svg>\n",
              "      </button>\n",
              "    </div>\n",
              "\n",
              "<style>\n",
              "  .colab-df-quickchart {\n",
              "    background-color: #E8F0FE;\n",
              "    border: none;\n",
              "    border-radius: 50%;\n",
              "    cursor: pointer;\n",
              "    display: none;\n",
              "    fill: #1967D2;\n",
              "    height: 32px;\n",
              "    padding: 0 0 0 0;\n",
              "    width: 32px;\n",
              "  }\n",
              "\n",
              "  .colab-df-quickchart:hover {\n",
              "    background-color: #E2EBFA;\n",
              "    box-shadow: 0px 1px 2px rgba(60, 64, 67, 0.3), 0px 1px 3px 1px rgba(60, 64, 67, 0.15);\n",
              "    fill: #174EA6;\n",
              "  }\n",
              "\n",
              "  [theme=dark] .colab-df-quickchart {\n",
              "    background-color: #3B4455;\n",
              "    fill: #D2E3FC;\n",
              "  }\n",
              "\n",
              "  [theme=dark] .colab-df-quickchart:hover {\n",
              "    background-color: #434B5C;\n",
              "    box-shadow: 0px 1px 3px 1px rgba(0, 0, 0, 0.15);\n",
              "    filter: drop-shadow(0px 1px 2px rgba(0, 0, 0, 0.3));\n",
              "    fill: #FFFFFF;\n",
              "  }\n",
              "</style>\n",
              "\n",
              "    <script>\n",
              "      async function quickchart(key) {\n",
              "        const containerElement = document.querySelector('#' + key);\n",
              "        const charts = await google.colab.kernel.invokeFunction(\n",
              "            'suggestCharts', [key], {});\n",
              "      }\n",
              "    </script>\n",
              "\n",
              "      <script>\n",
              "\n",
              "function displayQuickchartButton(domScope) {\n",
              "  let quickchartButtonEl =\n",
              "    domScope.querySelector('#df-0b2dd3e0-ccae-47e0-ab0e-c74dcc71f698 button.colab-df-quickchart');\n",
              "  quickchartButtonEl.style.display =\n",
              "    google.colab.kernel.accessAllowed ? 'block' : 'none';\n",
              "}\n",
              "\n",
              "        displayQuickchartButton(document);\n",
              "      </script>\n",
              "      <style>\n",
              "    .colab-df-container {\n",
              "      display:flex;\n",
              "      flex-wrap:wrap;\n",
              "      gap: 12px;\n",
              "    }\n",
              "\n",
              "    .colab-df-convert {\n",
              "      background-color: #E8F0FE;\n",
              "      border: none;\n",
              "      border-radius: 50%;\n",
              "      cursor: pointer;\n",
              "      display: none;\n",
              "      fill: #1967D2;\n",
              "      height: 32px;\n",
              "      padding: 0 0 0 0;\n",
              "      width: 32px;\n",
              "    }\n",
              "\n",
              "    .colab-df-convert:hover {\n",
              "      background-color: #E2EBFA;\n",
              "      box-shadow: 0px 1px 2px rgba(60, 64, 67, 0.3), 0px 1px 3px 1px rgba(60, 64, 67, 0.15);\n",
              "      fill: #174EA6;\n",
              "    }\n",
              "\n",
              "    [theme=dark] .colab-df-convert {\n",
              "      background-color: #3B4455;\n",
              "      fill: #D2E3FC;\n",
              "    }\n",
              "\n",
              "    [theme=dark] .colab-df-convert:hover {\n",
              "      background-color: #434B5C;\n",
              "      box-shadow: 0px 1px 3px 1px rgba(0, 0, 0, 0.15);\n",
              "      filter: drop-shadow(0px 1px 2px rgba(0, 0, 0, 0.3));\n",
              "      fill: #FFFFFF;\n",
              "    }\n",
              "  </style>\n",
              "\n",
              "      <script>\n",
              "        const buttonEl =\n",
              "          document.querySelector('#df-b5f47a04-049e-4eac-beba-0a011b09d720 button.colab-df-convert');\n",
              "        buttonEl.style.display =\n",
              "          google.colab.kernel.accessAllowed ? 'block' : 'none';\n",
              "\n",
              "        async function convertToInteractive(key) {\n",
              "          const element = document.querySelector('#df-b5f47a04-049e-4eac-beba-0a011b09d720');\n",
              "          const dataTable =\n",
              "            await google.colab.kernel.invokeFunction('convertToInteractive',\n",
              "                                                     [key], {});\n",
              "          if (!dataTable) return;\n",
              "\n",
              "          const docLinkHtml = 'Like what you see? Visit the ' +\n",
              "            '<a target=\"_blank\" href=https://colab.research.google.com/notebooks/data_table.ipynb>data table notebook</a>'\n",
              "            + ' to learn more about interactive tables.';\n",
              "          element.innerHTML = '';\n",
              "          dataTable['output_type'] = 'display_data';\n",
              "          await google.colab.output.renderOutput(dataTable, element);\n",
              "          const docLink = document.createElement('div');\n",
              "          docLink.innerHTML = docLinkHtml;\n",
              "          element.appendChild(docLink);\n",
              "        }\n",
              "      </script>\n",
              "    </div>\n",
              "  </div>\n"
            ]
          },
          "metadata": {},
          "execution_count": 4
        }
      ],
      "source": [
        "preguntas_df = preguntas_df[['texto', 'id_ministerio', 'split']]\n",
        "preguntas_df"
      ]
    },
    {
      "cell_type": "markdown",
      "source": [
        "Definimos la lista de ministerios para que sea mostrada posteriormente en los reportes de evaluación"
      ],
      "metadata": {
        "id": "LPRSaoyBZtax"
      }
    },
    {
      "cell_type": "code",
      "source": [
        "lista_ministerios = ['M. de Defensa',\\\n",
        "                     'M. de Justicia',\\\n",
        "                     'M. del Interior',\\\n",
        "                     'M. de Fomento',\\\n",
        "                     'M. de Asuntos Exteriores y de Cooperación',\\\n",
        "                     'M. de Hacienda y Función Pública',\\\n",
        "                     'M. de Empleo y Seguridad Social',\\\n",
        "                     'M. de Economía, Industria y Competitividad',\\\n",
        "                     'M. de Energía, Turismo y Agenda Digital',\\\n",
        "                     'M. de Agricultura y Pesca, Alimentación y Medio Ambiente',\\\n",
        "                     'M. de la Presidencia y para las Administraciones Territoriales',\\\n",
        "                     'M. de Sanidad, Servicios Sociales e Igualdad',\\\n",
        "                     'M. de Educación, Cultura y Deporte']"
      ],
      "metadata": {
        "id": "GgQp7DEmZ6ar"
      },
      "execution_count": 33,
      "outputs": []
    },
    {
      "cell_type": "markdown",
      "metadata": {
        "id": "DDE-2ZHsTDYg"
      },
      "source": [
        "# Análisis del dataset crudo"
      ]
    },
    {
      "cell_type": "markdown",
      "metadata": {
        "id": "_kdDm_IdVYxZ"
      },
      "source": [
        "Antes de continuar, vamos a verificar que los documentos están correctamente balanceados para todos los posibles ministerios. Para ello, vamos a representar gráficamente cuántos documentos hay en nuestro conjunto de entrenamiento por cada posible ministerio."
      ]
    },
    {
      "cell_type": "code",
      "execution_count": 18,
      "metadata": {
        "id": "NDwe-XCpSC3G",
        "colab": {
          "base_uri": "https://localhost:8080/",
          "height": 453
        },
        "outputId": "3a9429c1-b661-42b5-f25c-f4d569f82583"
      },
      "outputs": [
        {
          "output_type": "display_data",
          "data": {
            "text/plain": [
              "<Figure size 640x480 with 1 Axes>"
            ],
            "image/png": "[encoded data removed]"
          },
          "metadata": {}
        }
      ],
      "source": [
        "import matplotlib.pyplot as plt\n",
        "\n",
        "preguntas_df[preguntas_df['split'] == 'train'][\"id_ministerio\"].value_counts(ascending=True).plot.barh()\n",
        "plt.title(\"Número de preguntas por ministerio\")\n",
        "plt.rcParams['figure.figsize'] = [20, 50]\n",
        "plt.show()"
      ]
    },
    {
      "cell_type": "markdown",
      "source": [
        "Efectivamente, el trabajo realizado en el notebook de optimización del dataset ha sido bueno y ha producido un dataset de entrenamiento equilibrado.\n",
        "\n",
        "Separamos ahora nuestros datasets de entrenamiento y test en dos dataframes diferentes"
      ],
      "metadata": {
        "id": "MvHL5W06LqMR"
      }
    },
    {
      "cell_type": "code",
      "execution_count": 5,
      "metadata": {
        "id": "SYQXwWyaYZbH"
      },
      "outputs": [],
      "source": [
        "train_df = preguntas_df[preguntas_df['split'] == 'train']\n",
        "test_df = preguntas_df[preguntas_df['split'] == 'test']"
      ]
    },
    {
      "cell_type": "code",
      "source": [
        "train_df.describe()"
      ],
      "metadata": {
        "id": "R7WP6IASMSKf",
        "colab": {
          "base_uri": "https://localhost:8080/",
          "height": 300
        },
        "outputId": "36484ab6-8e29-4c62-e03a-8c093405d534"
      },
      "execution_count": 20,
      "outputs": [
        {
          "output_type": "execute_result",
          "data": {
            "text/plain": [
              "       id_ministerio\n",
              "count   21390.000000\n",
              "mean        8.008462\n",
              "std         3.742166\n",
              "min         2.000000\n",
              "25%         5.000000\n",
              "50%         8.000000\n",
              "75%        11.000000\n",
              "max        14.000000"
            ],
            "text/html": [
              "\n",
              "\n",
              "  <div id=\"df-7bae8bf6-c786-43da-a5c2-f3b76e66d4f5\">\n",
              "    <div class=\"colab-df-container\">\n",
              "      <div>\n",
              "<style scoped>\n",
              "    .dataframe tbody tr th:only-of-type {\n",
              "        vertical-align: middle;\n",
              "    }\n",
              "\n",
              "    .dataframe tbody tr th {\n",
              "        vertical-align: top;\n",
              "    }\n",
              "\n",
              "    .dataframe thead th {\n",
              "        text-align: right;\n",
              "    }\n",
              "</style>\n",
              "<table border=\"1\" class=\"dataframe\">\n",
              "  <thead>\n",
              "    <tr style=\"text-align: right;\">\n",
              "      <th></th>\n",
              "      <th>id_ministerio</th>\n",
              "    </tr>\n",
              "  </thead>\n",
              "  <tbody>\n",
              "    <tr>\n",
              "      <th>count</th>\n",
              "      <td>21390.000000</td>\n",
              "    </tr>\n",
              "    <tr>\n",
              "      <th>mean</th>\n",
              "      <td>8.008462</td>\n",
              "    </tr>\n",
              "    <tr>\n",
              "      <th>std</th>\n",
              "      <td>3.742166</td>\n",
              "    </tr>\n",
              "    <tr>\n",
              "      <th>min</th>\n",
              "      <td>2.000000</td>\n",
              "    </tr>\n",
              "    <tr>\n",
              "      <th>25%</th>\n",
              "      <td>5.000000</td>\n",
              "    </tr>\n",
              "    <tr>\n",
              "      <th>50%</th>\n",
              "      <td>8.000000</td>\n",
              "    </tr>\n",
              "    <tr>\n",
              "      <th>75%</th>\n",
              "      <td>11.000000</td>\n",
              "    </tr>\n",
              "    <tr>\n",
              "      <th>max</th>\n",
              "      <td>14.000000</td>\n",
              "    </tr>\n",
              "  </tbody>\n",
              "</table>\n",
              "</div>\n",
              "      <button class=\"colab-df-convert\" onclick=\"convertToInteractive('df-7bae8bf6-c786-43da-a5c2-f3b76e66d4f5')\"\n",
              "              title=\"Convert this dataframe to an interactive table.\"\n",
              "              style=\"display:none;\">\n",
              "\n",
              "  <svg xmlns=\"http://www.w3.org/2000/svg\" height=\"24px\"viewBox=\"0 0 24 24\"\n",
              "       width=\"24px\">\n",
              "    <path d=\"M0 0h24v24H0V0z\" fill=\"none\"/>\n",
              "    <path d=\"M18.56 5.44l.94 2.06.94-2.06 2.06-.94-2.06-.94-.94-2.06-.94 2.06-2.06.94zm-11 1L8.5 8.5l.94-2.06 2.06-.94-2.06-.94L8.5 2.5l-.94 2.06-2.06.94zm10 10l.94 2.06.94-2.06 2.06-.94-2.06-.94-.94-2.06-.94 2.06-2.06.94z\"/><path d=\"M17.41 7.96l-1.37-1.37c-.4-.4-.92-.59-1.43-.59-.52 0-1.04.2-1.43.59L10.3 9.45l-7.72 7.72c-.78.78-.78 2.05 0 2.83L4 21.41c.39.39.9.59 1.41.59.51 0 1.02-.2 1.41-.59l7.78-7.78 2.81-2.81c.8-.78.8-2.07 0-2.86zM5.41 20L4 18.59l7.72-7.72 1.47 1.35L5.41 20z\"/>\n",
              "  </svg>\n",
              "      </button>\n",
              "\n",
              "\n",
              "\n",
              "    <div id=\"df-3aa7ed96-9ee6-4447-a6eb-2d782db103bc\">\n",
              "      <button class=\"colab-df-quickchart\" onclick=\"quickchart('df-3aa7ed96-9ee6-4447-a6eb-2d782db103bc')\"\n",
              "              title=\"Suggest charts.\"\n",
              "              style=\"display:none;\">\n",
              "\n",
              "<svg xmlns=\"http://www.w3.org/2000/svg\" height=\"24px\"viewBox=\"0 0 24 24\"\n",
              "     width=\"24px\">\n",
              "    <g>\n",
              "        <path d=\"M19 3H5c-1.1 0-2 .9-2 2v14c0 1.1.9 2 2 2h14c1.1 0 2-.9 2-2V5c0-1.1-.9-2-2-2zM9 17H7v-7h2v7zm4 0h-2V7h2v10zm4 0h-2v-4h2v4z\"/>\n",
              "    </g>\n",
              "</svg>\n",
              "      </button>\n",
              "    </div>\n",
              "\n",
              "<style>\n",
              "  .colab-df-quickchart {\n",
              "    background-color: #E8F0FE;\n",
              "    border: none;\n",
              "    border-radius: 50%;\n",
              "    cursor: pointer;\n",
              "    display: none;\n",
              "    fill: #1967D2;\n",
              "    height: 32px;\n",
              "    padding: 0 0 0 0;\n",
              "    width: 32px;\n",
              "  }\n",
              "\n",
              "  .colab-df-quickchart:hover {\n",
              "    background-color: #E2EBFA;\n",
              "    box-shadow: 0px 1px 2px rgba(60, 64, 67, 0.3), 0px 1px 3px 1px rgba(60, 64, 67, 0.15);\n",
              "    fill: #174EA6;\n",
              "  }\n",
              "\n",
              "  [theme=dark] .colab-df-quickchart {\n",
              "    background-color: #3B4455;\n",
              "    fill: #D2E3FC;\n",
              "  }\n",
              "\n",
              "  [theme=dark] .colab-df-quickchart:hover {\n",
              "    background-color: #434B5C;\n",
              "    box-shadow: 0px 1px 3px 1px rgba(0, 0, 0, 0.15);\n",
              "    filter: drop-shadow(0px 1px 2px rgba(0, 0, 0, 0.3));\n",
              "    fill: #FFFFFF;\n",
              "  }\n",
              "</style>\n",
              "\n",
              "    <script>\n",
              "      async function quickchart(key) {\n",
              "        const containerElement = document.querySelector('#' + key);\n",
              "        const charts = await google.colab.kernel.invokeFunction(\n",
              "            'suggestCharts', [key], {});\n",
              "      }\n",
              "    </script>\n",
              "\n",
              "      <script>\n",
              "\n",
              "function displayQuickchartButton(domScope) {\n",
              "  let quickchartButtonEl =\n",
              "    domScope.querySelector('#df-3aa7ed96-9ee6-4447-a6eb-2d782db103bc button.colab-df-quickchart');\n",
              "  quickchartButtonEl.style.display =\n",
              "    google.colab.kernel.accessAllowed ? 'block' : 'none';\n",
              "}\n",
              "\n",
              "        displayQuickchartButton(document);\n",
              "      </script>\n",
              "      <style>\n",
              "    .colab-df-container {\n",
              "      display:flex;\n",
              "      flex-wrap:wrap;\n",
              "      gap: 12px;\n",
              "    }\n",
              "\n",
              "    .colab-df-convert {\n",
              "      background-color: #E8F0FE;\n",
              "      border: none;\n",
              "      border-radius: 50%;\n",
              "      cursor: pointer;\n",
              "      display: none;\n",
              "      fill: #1967D2;\n",
              "      height: 32px;\n",
              "      padding: 0 0 0 0;\n",
              "      width: 32px;\n",
              "    }\n",
              "\n",
              "    .colab-df-convert:hover {\n",
              "      background-color: #E2EBFA;\n",
              "      box-shadow: 0px 1px 2px rgba(60, 64, 67, 0.3), 0px 1px 3px 1px rgba(60, 64, 67, 0.15);\n",
              "      fill: #174EA6;\n",
              "    }\n",
              "\n",
              "    [theme=dark] .colab-df-convert {\n",
              "      background-color: #3B4455;\n",
              "      fill: #D2E3FC;\n",
              "    }\n",
              "\n",
              "    [theme=dark] .colab-df-convert:hover {\n",
              "      background-color: #434B5C;\n",
              "      box-shadow: 0px 1px 3px 1px rgba(0, 0, 0, 0.15);\n",
              "      filter: drop-shadow(0px 1px 2px rgba(0, 0, 0, 0.3));\n",
              "      fill: #FFFFFF;\n",
              "    }\n",
              "  </style>\n",
              "\n",
              "      <script>\n",
              "        const buttonEl =\n",
              "          document.querySelector('#df-7bae8bf6-c786-43da-a5c2-f3b76e66d4f5 button.colab-df-convert');\n",
              "        buttonEl.style.display =\n",
              "          google.colab.kernel.accessAllowed ? 'block' : 'none';\n",
              "\n",
              "        async function convertToInteractive(key) {\n",
              "          const element = document.querySelector('#df-7bae8bf6-c786-43da-a5c2-f3b76e66d4f5');\n",
              "          const dataTable =\n",
              "            await google.colab.kernel.invokeFunction('convertToInteractive',\n",
              "                                                     [key], {});\n",
              "          if (!dataTable) return;\n",
              "\n",
              "          const docLinkHtml = 'Like what you see? Visit the ' +\n",
              "            '<a target=\"_blank\" href=https://colab.research.google.com/notebooks/data_table.ipynb>data table notebook</a>'\n",
              "            + ' to learn more about interactive tables.';\n",
              "          element.innerHTML = '';\n",
              "          dataTable['output_type'] = 'display_data';\n",
              "          await google.colab.output.renderOutput(dataTable, element);\n",
              "          const docLink = document.createElement('div');\n",
              "          docLink.innerHTML = docLinkHtml;\n",
              "          element.appendChild(docLink);\n",
              "        }\n",
              "      </script>\n",
              "    </div>\n",
              "  </div>\n"
            ]
          },
          "metadata": {},
          "execution_count": 20
        }
      ]
    },
    {
      "cell_type": "code",
      "source": [
        "print(train_df)"
      ],
      "metadata": {
        "id": "8xwdNDueMToB",
        "colab": {
          "base_uri": "https://localhost:8080/"
        },
        "outputId": "9b702f53-d4a5-4e61-a5ad-5288a352dec5"
      },
      "execution_count": 21,
      "outputs": [
        {
          "output_type": "stream",
          "name": "stdout",
          "text": [
            "                                                   texto  id_ministerio  split\n",
            "0      ¿Qué inversiones fueron realizadas, detallando...             11  train\n",
            "1      ¿Cuál es el estado de ejecución presupuestaria...             11  train\n",
            "2      ¿Cuál es la variación anual del alumnado en la...             14  train\n",
            "3      ¿Cuál es la media de edad de los miembros de l...              4  train\n",
            "4      ¿Qué presupuesto y actuaciones tiene prevista ...              7  train\n",
            "...                                                  ...            ...    ...\n",
            "21385  el pasado 9 de febrero de 2018 el gobierno de ...             12  train\n",
            "21386  ¿ cual, pero y en que situacion se encuentran ...             12  train\n",
            "21387  ¿ cree el gobierno que deberia reformarse la c...             12  train\n",
            "21388  lo cual es la opinion del gobierno tiene relac...             12  train\n",
            "21389  segun informo el diario el pais, el general 16...             12  train\n",
            "\n",
            "[21390 rows x 3 columns]\n"
          ]
        }
      ]
    },
    {
      "cell_type": "code",
      "source": [
        "test_df.describe()"
      ],
      "metadata": {
        "id": "-iLqzBtuMVx7",
        "colab": {
          "base_uri": "https://localhost:8080/",
          "height": 300
        },
        "outputId": "d29cef84-8491-4267-e99d-783e72dc777b"
      },
      "execution_count": 22,
      "outputs": [
        {
          "output_type": "execute_result",
          "data": {
            "text/plain": [
              "       id_ministerio\n",
              "count    1580.000000\n",
              "mean        7.306962\n",
              "std         3.545071\n",
              "min         2.000000\n",
              "25%         4.000000\n",
              "50%         7.000000\n",
              "75%        11.000000\n",
              "max        14.000000"
            ],
            "text/html": [
              "\n",
              "\n",
              "  <div id=\"df-3d5840bc-7506-4ddf-a3f7-4e490d7c3fff\">\n",
              "    <div class=\"colab-df-container\">\n",
              "      <div>\n",
              "<style scoped>\n",
              "    .dataframe tbody tr th:only-of-type {\n",
              "        vertical-align: middle;\n",
              "    }\n",
              "\n",
              "    .dataframe tbody tr th {\n",
              "        vertical-align: top;\n",
              "    }\n",
              "\n",
              "    .dataframe thead th {\n",
              "        text-align: right;\n",
              "    }\n",
              "</style>\n",
              "<table border=\"1\" class=\"dataframe\">\n",
              "  <thead>\n",
              "    <tr style=\"text-align: right;\">\n",
              "      <th></th>\n",
              "      <th>id_ministerio</th>\n",
              "    </tr>\n",
              "  </thead>\n",
              "  <tbody>\n",
              "    <tr>\n",
              "      <th>count</th>\n",
              "      <td>1580.000000</td>\n",
              "    </tr>\n",
              "    <tr>\n",
              "      <th>mean</th>\n",
              "      <td>7.306962</td>\n",
              "    </tr>\n",
              "    <tr>\n",
              "      <th>std</th>\n",
              "      <td>3.545071</td>\n",
              "    </tr>\n",
              "    <tr>\n",
              "      <th>min</th>\n",
              "      <td>2.000000</td>\n",
              "    </tr>\n",
              "    <tr>\n",
              "      <th>25%</th>\n",
              "      <td>4.000000</td>\n",
              "    </tr>\n",
              "    <tr>\n",
              "      <th>50%</th>\n",
              "      <td>7.000000</td>\n",
              "    </tr>\n",
              "    <tr>\n",
              "      <th>75%</th>\n",
              "      <td>11.000000</td>\n",
              "    </tr>\n",
              "    <tr>\n",
              "      <th>max</th>\n",
              "      <td>14.000000</td>\n",
              "    </tr>\n",
              "  </tbody>\n",
              "</table>\n",
              "</div>\n",
              "      <button class=\"colab-df-convert\" onclick=\"convertToInteractive('df-3d5840bc-7506-4ddf-a3f7-4e490d7c3fff')\"\n",
              "              title=\"Convert this dataframe to an interactive table.\"\n",
              "              style=\"display:none;\">\n",
              "\n",
              "  <svg xmlns=\"http://www.w3.org/2000/svg\" height=\"24px\"viewBox=\"0 0 24 24\"\n",
              "       width=\"24px\">\n",
              "    <path d=\"M0 0h24v24H0V0z\" fill=\"none\"/>\n",
              "    <path d=\"M18.56 5.44l.94 2.06.94-2.06 2.06-.94-2.06-.94-.94-2.06-.94 2.06-2.06.94zm-11 1L8.5 8.5l.94-2.06 2.06-.94-2.06-.94L8.5 2.5l-.94 2.06-2.06.94zm10 10l.94 2.06.94-2.06 2.06-.94-2.06-.94-.94-2.06-.94 2.06-2.06.94z\"/><path d=\"M17.41 7.96l-1.37-1.37c-.4-.4-.92-.59-1.43-.59-.52 0-1.04.2-1.43.59L10.3 9.45l-7.72 7.72c-.78.78-.78 2.05 0 2.83L4 21.41c.39.39.9.59 1.41.59.51 0 1.02-.2 1.41-.59l7.78-7.78 2.81-2.81c.8-.78.8-2.07 0-2.86zM5.41 20L4 18.59l7.72-7.72 1.47 1.35L5.41 20z\"/>\n",
              "  </svg>\n",
              "      </button>\n",
              "\n",
              "\n",
              "\n",
              "    <div id=\"df-bb79b663-bfb0-4cc6-b740-1b8bec19c463\">\n",
              "      <button class=\"colab-df-quickchart\" onclick=\"quickchart('df-bb79b663-bfb0-4cc6-b740-1b8bec19c463')\"\n",
              "              title=\"Suggest charts.\"\n",
              "              style=\"display:none;\">\n",
              "\n",
              "<svg xmlns=\"http://www.w3.org/2000/svg\" height=\"24px\"viewBox=\"0 0 24 24\"\n",
              "     width=\"24px\">\n",
              "    <g>\n",
              "        <path d=\"M19 3H5c-1.1 0-2 .9-2 2v14c0 1.1.9 2 2 2h14c1.1 0 2-.9 2-2V5c0-1.1-.9-2-2-2zM9 17H7v-7h2v7zm4 0h-2V7h2v10zm4 0h-2v-4h2v4z\"/>\n",
              "    </g>\n",
              "</svg>\n",
              "      </button>\n",
              "    </div>\n",
              "\n",
              "<style>\n",
              "  .colab-df-quickchart {\n",
              "    background-color: #E8F0FE;\n",
              "    border: none;\n",
              "    border-radius: 50%;\n",
              "    cursor: pointer;\n",
              "    display: none;\n",
              "    fill: #1967D2;\n",
              "    height: 32px;\n",
              "    padding: 0 0 0 0;\n",
              "    width: 32px;\n",
              "  }\n",
              "\n",
              "  .colab-df-quickchart:hover {\n",
              "    background-color: #E2EBFA;\n",
              "    box-shadow: 0px 1px 2px rgba(60, 64, 67, 0.3), 0px 1px 3px 1px rgba(60, 64, 67, 0.15);\n",
              "    fill: #174EA6;\n",
              "  }\n",
              "\n",
              "  [theme=dark] .colab-df-quickchart {\n",
              "    background-color: #3B4455;\n",
              "    fill: #D2E3FC;\n",
              "  }\n",
              "\n",
              "  [theme=dark] .colab-df-quickchart:hover {\n",
              "    background-color: #434B5C;\n",
              "    box-shadow: 0px 1px 3px 1px rgba(0, 0, 0, 0.15);\n",
              "    filter: drop-shadow(0px 1px 2px rgba(0, 0, 0, 0.3));\n",
              "    fill: #FFFFFF;\n",
              "  }\n",
              "</style>\n",
              "\n",
              "    <script>\n",
              "      async function quickchart(key) {\n",
              "        const containerElement = document.querySelector('#' + key);\n",
              "        const charts = await google.colab.kernel.invokeFunction(\n",
              "            'suggestCharts', [key], {});\n",
              "      }\n",
              "    </script>\n",
              "\n",
              "      <script>\n",
              "\n",
              "function displayQuickchartButton(domScope) {\n",
              "  let quickchartButtonEl =\n",
              "    domScope.querySelector('#df-bb79b663-bfb0-4cc6-b740-1b8bec19c463 button.colab-df-quickchart');\n",
              "  quickchartButtonEl.style.display =\n",
              "    google.colab.kernel.accessAllowed ? 'block' : 'none';\n",
              "}\n",
              "\n",
              "        displayQuickchartButton(document);\n",
              "      </script>\n",
              "      <style>\n",
              "    .colab-df-container {\n",
              "      display:flex;\n",
              "      flex-wrap:wrap;\n",
              "      gap: 12px;\n",
              "    }\n",
              "\n",
              "    .colab-df-convert {\n",
              "      background-color: #E8F0FE;\n",
              "      border: none;\n",
              "      border-radius: 50%;\n",
              "      cursor: pointer;\n",
              "      display: none;\n",
              "      fill: #1967D2;\n",
              "      height: 32px;\n",
              "      padding: 0 0 0 0;\n",
              "      width: 32px;\n",
              "    }\n",
              "\n",
              "    .colab-df-convert:hover {\n",
              "      background-color: #E2EBFA;\n",
              "      box-shadow: 0px 1px 2px rgba(60, 64, 67, 0.3), 0px 1px 3px 1px rgba(60, 64, 67, 0.15);\n",
              "      fill: #174EA6;\n",
              "    }\n",
              "\n",
              "    [theme=dark] .colab-df-convert {\n",
              "      background-color: #3B4455;\n",
              "      fill: #D2E3FC;\n",
              "    }\n",
              "\n",
              "    [theme=dark] .colab-df-convert:hover {\n",
              "      background-color: #434B5C;\n",
              "      box-shadow: 0px 1px 3px 1px rgba(0, 0, 0, 0.15);\n",
              "      filter: drop-shadow(0px 1px 2px rgba(0, 0, 0, 0.3));\n",
              "      fill: #FFFFFF;\n",
              "    }\n",
              "  </style>\n",
              "\n",
              "      <script>\n",
              "        const buttonEl =\n",
              "          document.querySelector('#df-3d5840bc-7506-4ddf-a3f7-4e490d7c3fff button.colab-df-convert');\n",
              "        buttonEl.style.display =\n",
              "          google.colab.kernel.accessAllowed ? 'block' : 'none';\n",
              "\n",
              "        async function convertToInteractive(key) {\n",
              "          const element = document.querySelector('#df-3d5840bc-7506-4ddf-a3f7-4e490d7c3fff');\n",
              "          const dataTable =\n",
              "            await google.colab.kernel.invokeFunction('convertToInteractive',\n",
              "                                                     [key], {});\n",
              "          if (!dataTable) return;\n",
              "\n",
              "          const docLinkHtml = 'Like what you see? Visit the ' +\n",
              "            '<a target=\"_blank\" href=https://colab.research.google.com/notebooks/data_table.ipynb>data table notebook</a>'\n",
              "            + ' to learn more about interactive tables.';\n",
              "          element.innerHTML = '';\n",
              "          dataTable['output_type'] = 'display_data';\n",
              "          await google.colab.output.renderOutput(dataTable, element);\n",
              "          const docLink = document.createElement('div');\n",
              "          docLink.innerHTML = docLinkHtml;\n",
              "          element.appendChild(docLink);\n",
              "        }\n",
              "      </script>\n",
              "    </div>\n",
              "  </div>\n"
            ]
          },
          "metadata": {},
          "execution_count": 22
        }
      ]
    },
    {
      "cell_type": "code",
      "source": [
        "print(test_df)"
      ],
      "metadata": {
        "id": "EaKuq_dIMVhx",
        "colab": {
          "base_uri": "https://localhost:8080/"
        },
        "outputId": "3e4d0ea7-cb9c-440b-ab7a-2ca3559c5ed0"
      },
      "execution_count": 23,
      "outputs": [
        {
          "output_type": "stream",
          "name": "stdout",
          "text": [
            "                                                  texto  id_ministerio split\n",
            "6148  ¿Dispone el Ministerio de Agricultura y Pesca,...             11  test\n",
            "1236  En la provincia de A Coruña: ¿Cuál es la relac...              2  test\n",
            "213   Hace meses el President Carles Puigdemont denu...              4  test\n",
            "3557  ¿Qué compañías de vuelos chárter se han puesto...              5  test\n",
            "4942  ¿Cuál fue el importe de las transferencias, pr...              7  test\n",
            "...                                                 ...            ...   ...\n",
            "1515  ¿Cuál es el número de abogados/as del turno de...              3  test\n",
            "4616  ¿Qué previsión contempla el Gobierno en la eje...              5  test\n",
            "4309  Entre 1 de enero de 2018 y 31 de marzo del mis...              5  test\n",
            "4847  El Instituto Elcano ha venido elaborando el ''...              6  test\n",
            "6201  Río o barranco de Barranc dels Mussols a su pa...             11  test\n",
            "\n",
            "[1580 rows x 3 columns]\n"
          ]
        }
      ]
    },
    {
      "cell_type": "markdown",
      "source": [
        "# Entrenando un modelo de clasificación"
      ],
      "metadata": {
        "id": "EGT--cgoOx_F"
      }
    },
    {
      "cell_type": "markdown",
      "source": [
        "Para desarrollar el ejercicio vamos a entrenar un modelo de clasificación mediante diferentes variantes de un clasificador bayesiano ingenuo (Naïve Bayes).\n",
        "\n",
        "En general, un clasificador bayesiano ingenuo, como todos los modelos de machine learning, necesitan convertir todos los datos de entrada en números, particularmente en vectores de números. Esto es lo que se denomina \"vectorizar\", en nuestro caso, un texto de entrada. Existen diferentes formas de vectorizar, pero nosotros nos vamos a centrar en una: el indicador TF-IDF, que mide la relevancia de los términos (mediante un TfidfVectorizer).\n",
        "\n",
        "Sin embargo, las frases contienen muchos elementos que pueden generar ruido, al margen de que cada fase es, en este momento, una cadena de texto. Para que un vectorizador pueda hacer su trabajo siempre se apoya en un conjunto de parámetros clave:\n",
        "\n",
        "* Una lista de palabras del lenguaje que no aportan valor, lo que denomimos \"stop words\".\n",
        "* Un tamaño mínimo y máximo de los n-gramas que deseamos tener en cuenta (por ejemplo, tokens individuales, conjuntos de 2 tokens y conjuntos de 3 tokens). Para nuestro caso usaremos n-gramas de entre 1 y 3 tokens.\n",
        "* Un tokenizador, es decir, una función que, a partir de las cadenas de texto, extraiga los diferentes términos (tokens)"
      ],
      "metadata": {
        "id": "YLDI3DOzO2zj"
      }
    },
    {
      "cell_type": "markdown",
      "source": [
        "## Opción 1: Algoritmo: Naïve Bayes multinomial - Vectorizador: `TfidfVectorizer`"
      ],
      "metadata": {
        "id": "S_n65kYePcLI"
      }
    },
    {
      "cell_type": "code",
      "source": [
        "!pip install -U scikit-learn"
      ],
      "metadata": {
        "id": "XfVPa6fTOxtY",
        "colab": {
          "base_uri": "https://localhost:8080/"
        },
        "outputId": "26f359db-283c-4034-de7f-643511e48e6d"
      },
      "execution_count": 24,
      "outputs": [
        {
          "output_type": "stream",
          "name": "stdout",
          "text": [
            "Requirement already satisfied: scikit-learn in /usr/local/lib/python3.10/dist-packages (1.2.2)\n",
            "Collecting scikit-learn\n",
            "  Downloading scikit_learn-1.3.0-cp310-cp310-manylinux_2_17_x86_64.manylinux2014_x86_64.whl (10.8 MB)\n",
            "\u001b[2K     \u001b[90m━━━━━━━━━━━━━━━━━━━━━━━━━━━━━━━━━━━━━━━━\u001b[0m \u001b[32m10.8/10.8 MB\u001b[0m \u001b[31m81.8 MB/s\u001b[0m eta \u001b[36m0:00:00\u001b[0m\n",
            "\u001b[?25hRequirement already satisfied: numpy>=1.17.3 in /usr/local/lib/python3.10/dist-packages (from scikit-learn) (1.22.4)\n",
            "Requirement already satisfied: scipy>=1.5.0 in /usr/local/lib/python3.10/dist-packages (from scikit-learn) (1.10.1)\n",
            "Requirement already satisfied: joblib>=1.1.1 in /usr/local/lib/python3.10/dist-packages (from scikit-learn) (1.3.1)\n",
            "Requirement already satisfied: threadpoolctl>=2.0.0 in /usr/local/lib/python3.10/dist-packages (from scikit-learn) (3.1.0)\n",
            "Installing collected packages: scikit-learn\n",
            "  Attempting uninstall: scikit-learn\n",
            "    Found existing installation: scikit-learn 1.2.2\n",
            "    Uninstalling scikit-learn-1.2.2:\n",
            "      Successfully uninstalled scikit-learn-1.2.2\n",
            "Successfully installed scikit-learn-1.3.0\n"
          ]
        }
      ]
    },
    {
      "cell_type": "markdown",
      "source": [
        "Comenzamos con la tokenización y vectorización de los textos:"
      ],
      "metadata": {
        "id": "ae9h0wymQJkf"
      }
    },
    {
      "cell_type": "code",
      "source": [
        "!pip install -U pip setuptools wheel"
      ],
      "metadata": {
        "colab": {
          "base_uri": "https://localhost:8080/",
          "height": 347
        },
        "id": "9i8qvISe6rd9",
        "outputId": "674848b7-46e4-4142-a3cb-7f20fd9aebae"
      },
      "execution_count": 25,
      "outputs": [
        {
          "output_type": "stream",
          "name": "stdout",
          "text": [
            "Requirement already satisfied: pip in /usr/local/lib/python3.10/dist-packages (23.1.2)\n",
            "Requirement already satisfied: setuptools in /usr/local/lib/python3.10/dist-packages (67.7.2)\n",
            "Collecting setuptools\n",
            "  Downloading setuptools-68.0.0-py3-none-any.whl (804 kB)\n",
            "\u001b[2K     \u001b[90m━━━━━━━━━━━━━━━━━━━━━━━━━━━━━━━━━━━━━━\u001b[0m \u001b[32m804.0/804.0 kB\u001b[0m \u001b[31m48.7 MB/s\u001b[0m eta \u001b[36m0:00:00\u001b[0m\n",
            "\u001b[?25hRequirement already satisfied: wheel in /usr/local/lib/python3.10/dist-packages (0.40.0)\n",
            "Installing collected packages: setuptools\n",
            "  Attempting uninstall: setuptools\n",
            "    Found existing installation: setuptools 67.7.2\n",
            "    Uninstalling setuptools-67.7.2:\n",
            "      Successfully uninstalled setuptools-67.7.2\n",
            "\u001b[31mERROR: pip's dependency resolver does not currently take into account all the packages that are installed. This behaviour is the source of the following dependency conflicts.\n",
            "ipython 7.34.0 requires jedi>=0.16, which is not installed.\u001b[0m\u001b[31m\n",
            "\u001b[0mSuccessfully installed setuptools-68.0.0\n"
          ]
        },
        {
          "output_type": "display_data",
          "data": {
            "application/vnd.colab-display-data+json": {
              "pip_warning": {
                "packages": [
                  "_distutils_hack",
                  "pkg_resources",
                  "setuptools"
                ]
              }
            }
          },
          "metadata": {}
        }
      ]
    },
    {
      "cell_type": "code",
      "source": [
        "!pip install -U 'spacy[cuda-autodetect]'"
      ],
      "metadata": {
        "colab": {
          "base_uri": "https://localhost:8080/"
        },
        "id": "IyBrBUM662z5",
        "outputId": "975d33b1-910c-4326-dd3f-5e2200958ab8"
      },
      "execution_count": 1,
      "outputs": [
        {
          "output_type": "stream",
          "name": "stdout",
          "text": [
            "Requirement already satisfied: spacy[cuda-autodetect] in /usr/local/lib/python3.10/dist-packages (3.5.4)\n",
            "Collecting spacy[cuda-autodetect]\n",
            "  Downloading spacy-3.6.0-cp310-cp310-manylinux_2_17_x86_64.manylinux2014_x86_64.whl (6.7 MB)\n",
            "\u001b[2K     \u001b[90m━━━━━━━━━━━━━━━━━━━━━━━━━━━━━━━━━━━━━━━━\u001b[0m \u001b[32m6.7/6.7 MB\u001b[0m \u001b[31m58.9 MB/s\u001b[0m eta \u001b[36m0:00:00\u001b[0m\n",
            "\u001b[?25hRequirement already satisfied: spacy-legacy<3.1.0,>=3.0.11 in /usr/local/lib/python3.10/dist-packages (from spacy[cuda-autodetect]) (3.0.12)\n",
            "Requirement already satisfied: spacy-loggers<2.0.0,>=1.0.0 in /usr/local/lib/python3.10/dist-packages (from spacy[cuda-autodetect]) (1.0.4)\n",
            "Requirement already satisfied: murmurhash<1.1.0,>=0.28.0 in /usr/local/lib/python3.10/dist-packages (from spacy[cuda-autodetect]) (1.0.9)\n",
            "Requirement already satisfied: cymem<2.1.0,>=2.0.2 in /usr/local/lib/python3.10/dist-packages (from spacy[cuda-autodetect]) (2.0.7)\n",
            "Requirement already satisfied: preshed<3.1.0,>=3.0.2 in /usr/local/lib/python3.10/dist-packages (from spacy[cuda-autodetect]) (3.0.8)\n",
            "Requirement already satisfied: thinc<8.2.0,>=8.1.8 in /usr/local/lib/python3.10/dist-packages (from spacy[cuda-autodetect]) (8.1.10)\n",
            "Requirement already satisfied: wasabi<1.2.0,>=0.9.1 in /usr/local/lib/python3.10/dist-packages (from spacy[cuda-autodetect]) (1.1.2)\n",
            "Requirement already satisfied: srsly<3.0.0,>=2.4.3 in /usr/local/lib/python3.10/dist-packages (from spacy[cuda-autodetect]) (2.4.6)\n",
            "Requirement already satisfied: catalogue<2.1.0,>=2.0.6 in /usr/local/lib/python3.10/dist-packages (from spacy[cuda-autodetect]) (2.0.8)\n",
            "Requirement already satisfied: typer<0.10.0,>=0.3.0 in /usr/local/lib/python3.10/dist-packages (from spacy[cuda-autodetect]) (0.9.0)\n",
            "Requirement already satisfied: pathy>=0.10.0 in /usr/local/lib/python3.10/dist-packages (from spacy[cuda-autodetect]) (0.10.2)\n",
            "Requirement already satisfied: smart-open<7.0.0,>=5.2.1 in /usr/local/lib/python3.10/dist-packages (from spacy[cuda-autodetect]) (6.3.0)\n",
            "Requirement already satisfied: tqdm<5.0.0,>=4.38.0 in /usr/local/lib/python3.10/dist-packages (from spacy[cuda-autodetect]) (4.65.0)\n",
            "Requirement already satisfied: numpy>=1.15.0 in /usr/local/lib/python3.10/dist-packages (from spacy[cuda-autodetect]) (1.22.4)\n",
            "Requirement already satisfied: requests<3.0.0,>=2.13.0 in /usr/local/lib/python3.10/dist-packages (from spacy[cuda-autodetect]) (2.27.1)\n",
            "Requirement already satisfied: pydantic!=1.8,!=1.8.1,<1.11.0,>=1.7.4 in /usr/local/lib/python3.10/dist-packages (from spacy[cuda-autodetect]) (1.10.11)\n",
            "Requirement already satisfied: jinja2 in /usr/local/lib/python3.10/dist-packages (from spacy[cuda-autodetect]) (3.1.2)\n",
            "Requirement already satisfied: setuptools in /usr/local/lib/python3.10/dist-packages (from spacy[cuda-autodetect]) (68.0.0)\n",
            "Requirement already satisfied: packaging>=20.0 in /usr/local/lib/python3.10/dist-packages (from spacy[cuda-autodetect]) (23.1)\n",
            "Requirement already satisfied: langcodes<4.0.0,>=3.2.0 in /usr/local/lib/python3.10/dist-packages (from spacy[cuda-autodetect]) (3.3.0)\n",
            "Collecting cupy-wheel<13.0.0,>=11.0.0 (from spacy[cuda-autodetect])\n",
            "  Downloading cupy-wheel-12.1.0.post1.tar.gz (2.9 kB)\n",
            "  Preparing metadata (setup.py) ... \u001b[?25l\u001b[?25hdone\n",
            "Collecting cupy-cuda11x==12.1.0 (from cupy-wheel<13.0.0,>=11.0.0->spacy[cuda-autodetect])\n",
            "  Downloading cupy_cuda11x-12.1.0-cp310-cp310-manylinux2014_x86_64.whl (89.3 MB)\n",
            "\u001b[2K     \u001b[90m━━━━━━━━━━━━━━━━━━━━━━━━━━━━━━━━━━━━━━━━\u001b[0m \u001b[32m89.3/89.3 MB\u001b[0m \u001b[31m18.2 MB/s\u001b[0m eta \u001b[36m0:00:00\u001b[0m\n",
            "\u001b[?25hRequirement already satisfied: fastrlock>=0.5 in /usr/local/lib/python3.10/dist-packages (from cupy-cuda11x==12.1.0->cupy-wheel<13.0.0,>=11.0.0->spacy[cuda-autodetect]) (0.8.1)\n",
            "Requirement already satisfied: typing-extensions>=4.2.0 in /usr/local/lib/python3.10/dist-packages (from pydantic!=1.8,!=1.8.1,<1.11.0,>=1.7.4->spacy[cuda-autodetect]) (4.7.1)\n",
            "Requirement already satisfied: urllib3<1.27,>=1.21.1 in /usr/local/lib/python3.10/dist-packages (from requests<3.0.0,>=2.13.0->spacy[cuda-autodetect]) (1.26.16)\n",
            "Requirement already satisfied: certifi>=2017.4.17 in /usr/local/lib/python3.10/dist-packages (from requests<3.0.0,>=2.13.0->spacy[cuda-autodetect]) (2023.5.7)\n",
            "Requirement already satisfied: charset-normalizer~=2.0.0 in /usr/local/lib/python3.10/dist-packages (from requests<3.0.0,>=2.13.0->spacy[cuda-autodetect]) (2.0.12)\n",
            "Requirement already satisfied: idna<4,>=2.5 in /usr/local/lib/python3.10/dist-packages (from requests<3.0.0,>=2.13.0->spacy[cuda-autodetect]) (3.4)\n",
            "Requirement already satisfied: blis<0.8.0,>=0.7.8 in /usr/local/lib/python3.10/dist-packages (from thinc<8.2.0,>=8.1.8->spacy[cuda-autodetect]) (0.7.9)\n",
            "Requirement already satisfied: confection<1.0.0,>=0.0.1 in /usr/local/lib/python3.10/dist-packages (from thinc<8.2.0,>=8.1.8->spacy[cuda-autodetect]) (0.1.0)\n",
            "Requirement already satisfied: click<9.0.0,>=7.1.1 in /usr/local/lib/python3.10/dist-packages (from typer<0.10.0,>=0.3.0->spacy[cuda-autodetect]) (8.1.4)\n",
            "Requirement already satisfied: MarkupSafe>=2.0 in /usr/local/lib/python3.10/dist-packages (from jinja2->spacy[cuda-autodetect]) (2.1.3)\n",
            "Building wheels for collected packages: cupy-wheel\n",
            "  Building wheel for cupy-wheel (setup.py) ... \u001b[?25l\u001b[?25hdone\n",
            "  Created wheel for cupy-wheel: filename=cupy_wheel-12.1.0.post1-py3-none-any.whl size=1056 sha256=21dfb6aaa81825afef5d10f5b981d013cff3774479500745f178c7e040f6f260\n",
            "  Stored in directory: /root/.cache/pip/wheels/6c/52/1e/81ea89a4b892492c8fd6ab681d6eb0eef1f95c65d4541e746d\n",
            "Successfully built cupy-wheel\n",
            "Installing collected packages: cupy-cuda11x, cupy-wheel, spacy\n",
            "  Attempting uninstall: cupy-cuda11x\n",
            "    Found existing installation: cupy-cuda11x 11.0.0\n",
            "    Uninstalling cupy-cuda11x-11.0.0:\n",
            "      Successfully uninstalled cupy-cuda11x-11.0.0\n",
            "  Attempting uninstall: spacy\n",
            "    Found existing installation: spacy 3.5.4\n",
            "    Uninstalling spacy-3.5.4:\n",
            "      Successfully uninstalled spacy-3.5.4\n",
            "\u001b[31mERROR: pip's dependency resolver does not currently take into account all the packages that are installed. This behaviour is the source of the following dependency conflicts.\n",
            "en-core-web-sm 3.5.0 requires spacy<3.6.0,>=3.5.0, but you have spacy 3.6.0 which is incompatible.\u001b[0m\u001b[31m\n",
            "\u001b[0mSuccessfully installed cupy-cuda11x-12.1.0 cupy-wheel-12.1.0.post1 spacy-3.6.0\n"
          ]
        }
      ]
    },
    {
      "cell_type": "code",
      "source": [
        "!python -m spacy download es_dep_news_trf"
      ],
      "metadata": {
        "colab": {
          "base_uri": "https://localhost:8080/"
        },
        "id": "QygmUJsx7F_7",
        "outputId": "a8a80fdf-d3a3-4682-b587-54f264180795"
      },
      "execution_count": 2,
      "outputs": [
        {
          "output_type": "stream",
          "name": "stdout",
          "text": [
            "2023-07-13 16:45:09.205372: I tensorflow/core/util/port.cc:110] oneDNN custom operations are on. You may see slightly different numerical results due to floating-point round-off errors from different computation orders. To turn them off, set the environment variable `TF_ENABLE_ONEDNN_OPTS=0`.\n",
            "2023-07-13 16:45:09.259949: I tensorflow/core/platform/cpu_feature_guard.cc:182] This TensorFlow binary is optimized to use available CPU instructions in performance-critical operations.\n",
            "To enable the following instructions: AVX2 AVX512F AVX512_VNNI FMA, in other operations, rebuild TensorFlow with the appropriate compiler flags.\n",
            "2023-07-13 16:45:10.297126: W tensorflow/compiler/tf2tensorrt/utils/py_utils.cc:38] TF-TRT Warning: Could not find TensorRT\n",
            "Collecting es-dep-news-trf==3.6.1\n",
            "  Downloading https://github.com/explosion/spacy-models/releases/download/es_dep_news_trf-3.6.1/es_dep_news_trf-3.6.1-py3-none-any.whl (410.2 MB)\n",
            "\u001b[2K     \u001b[90m━━━━━━━━━━━━━━━━━━━━━━━━━━━━━━━━━━━━━━━\u001b[0m \u001b[32m410.2/410.2 MB\u001b[0m \u001b[31m3.5 MB/s\u001b[0m eta \u001b[36m0:00:00\u001b[0m\n",
            "\u001b[?25hRequirement already satisfied: spacy<3.7.0,>=3.6.0 in /usr/local/lib/python3.10/dist-packages (from es-dep-news-trf==3.6.1) (3.6.0)\n",
            "Collecting spacy-transformers<1.3.0,>=1.2.2 (from es-dep-news-trf==3.6.1)\n",
            "  Downloading spacy_transformers-1.2.5-cp310-cp310-manylinux_2_17_x86_64.manylinux2014_x86_64.whl (190 kB)\n",
            "\u001b[2K     \u001b[90m━━━━━━━━━━━━━━━━━━━━━━━━━━━━━━━━━━━━━━\u001b[0m \u001b[32m190.8/190.8 kB\u001b[0m \u001b[31m12.9 MB/s\u001b[0m eta \u001b[36m0:00:00\u001b[0m\n",
            "\u001b[?25hRequirement already satisfied: spacy-legacy<3.1.0,>=3.0.11 in /usr/local/lib/python3.10/dist-packages (from spacy<3.7.0,>=3.6.0->es-dep-news-trf==3.6.1) (3.0.12)\n",
            "Requirement already satisfied: spacy-loggers<2.0.0,>=1.0.0 in /usr/local/lib/python3.10/dist-packages (from spacy<3.7.0,>=3.6.0->es-dep-news-trf==3.6.1) (1.0.4)\n",
            "Requirement already satisfied: murmurhash<1.1.0,>=0.28.0 in /usr/local/lib/python3.10/dist-packages (from spacy<3.7.0,>=3.6.0->es-dep-news-trf==3.6.1) (1.0.9)\n",
            "Requirement already satisfied: cymem<2.1.0,>=2.0.2 in /usr/local/lib/python3.10/dist-packages (from spacy<3.7.0,>=3.6.0->es-dep-news-trf==3.6.1) (2.0.7)\n",
            "Requirement already satisfied: preshed<3.1.0,>=3.0.2 in /usr/local/lib/python3.10/dist-packages (from spacy<3.7.0,>=3.6.0->es-dep-news-trf==3.6.1) (3.0.8)\n",
            "Requirement already satisfied: thinc<8.2.0,>=8.1.8 in /usr/local/lib/python3.10/dist-packages (from spacy<3.7.0,>=3.6.0->es-dep-news-trf==3.6.1) (8.1.10)\n",
            "Requirement already satisfied: wasabi<1.2.0,>=0.9.1 in /usr/local/lib/python3.10/dist-packages (from spacy<3.7.0,>=3.6.0->es-dep-news-trf==3.6.1) (1.1.2)\n",
            "Requirement already satisfied: srsly<3.0.0,>=2.4.3 in /usr/local/lib/python3.10/dist-packages (from spacy<3.7.0,>=3.6.0->es-dep-news-trf==3.6.1) (2.4.6)\n",
            "Requirement already satisfied: catalogue<2.1.0,>=2.0.6 in /usr/local/lib/python3.10/dist-packages (from spacy<3.7.0,>=3.6.0->es-dep-news-trf==3.6.1) (2.0.8)\n",
            "Requirement already satisfied: typer<0.10.0,>=0.3.0 in /usr/local/lib/python3.10/dist-packages (from spacy<3.7.0,>=3.6.0->es-dep-news-trf==3.6.1) (0.9.0)\n",
            "Requirement already satisfied: pathy>=0.10.0 in /usr/local/lib/python3.10/dist-packages (from spacy<3.7.0,>=3.6.0->es-dep-news-trf==3.6.1) (0.10.2)\n",
            "Requirement already satisfied: smart-open<7.0.0,>=5.2.1 in /usr/local/lib/python3.10/dist-packages (from spacy<3.7.0,>=3.6.0->es-dep-news-trf==3.6.1) (6.3.0)\n",
            "Requirement already satisfied: tqdm<5.0.0,>=4.38.0 in /usr/local/lib/python3.10/dist-packages (from spacy<3.7.0,>=3.6.0->es-dep-news-trf==3.6.1) (4.65.0)\n",
            "Requirement already satisfied: numpy>=1.15.0 in /usr/local/lib/python3.10/dist-packages (from spacy<3.7.0,>=3.6.0->es-dep-news-trf==3.6.1) (1.22.4)\n",
            "Requirement already satisfied: requests<3.0.0,>=2.13.0 in /usr/local/lib/python3.10/dist-packages (from spacy<3.7.0,>=3.6.0->es-dep-news-trf==3.6.1) (2.27.1)\n",
            "Requirement already satisfied: pydantic!=1.8,!=1.8.1,<1.11.0,>=1.7.4 in /usr/local/lib/python3.10/dist-packages (from spacy<3.7.0,>=3.6.0->es-dep-news-trf==3.6.1) (1.10.11)\n",
            "Requirement already satisfied: jinja2 in /usr/local/lib/python3.10/dist-packages (from spacy<3.7.0,>=3.6.0->es-dep-news-trf==3.6.1) (3.1.2)\n",
            "Requirement already satisfied: setuptools in /usr/local/lib/python3.10/dist-packages (from spacy<3.7.0,>=3.6.0->es-dep-news-trf==3.6.1) (68.0.0)\n",
            "Requirement already satisfied: packaging>=20.0 in /usr/local/lib/python3.10/dist-packages (from spacy<3.7.0,>=3.6.0->es-dep-news-trf==3.6.1) (23.1)\n",
            "Requirement already satisfied: langcodes<4.0.0,>=3.2.0 in /usr/local/lib/python3.10/dist-packages (from spacy<3.7.0,>=3.6.0->es-dep-news-trf==3.6.1) (3.3.0)\n",
            "Collecting transformers<4.31.0,>=3.4.0 (from spacy-transformers<1.3.0,>=1.2.2->es-dep-news-trf==3.6.1)\n",
            "  Downloading transformers-4.30.2-py3-none-any.whl (7.2 MB)\n",
            "\u001b[2K     \u001b[90m━━━━━━━━━━━━━━━━━━━━━━━━━━━━━━━━━━━━━━━━\u001b[0m \u001b[32m7.2/7.2 MB\u001b[0m \u001b[31m74.3 MB/s\u001b[0m eta \u001b[36m0:00:00\u001b[0m\n",
            "\u001b[?25hRequirement already satisfied: torch>=1.8.0 in /usr/local/lib/python3.10/dist-packages (from spacy-transformers<1.3.0,>=1.2.2->es-dep-news-trf==3.6.1) (2.0.1+cu118)\n",
            "Collecting spacy-alignments<1.0.0,>=0.7.2 (from spacy-transformers<1.3.0,>=1.2.2->es-dep-news-trf==3.6.1)\n",
            "  Downloading spacy_alignments-0.9.0-cp310-cp310-manylinux_2_17_x86_64.manylinux2014_x86_64.whl (1.2 MB)\n",
            "\u001b[2K     \u001b[90m━━━━━━━━━━━━━━━━━━━━━━━━━━━━━━━━━━━━━━━━\u001b[0m \u001b[32m1.2/1.2 MB\u001b[0m \u001b[31m84.5 MB/s\u001b[0m eta \u001b[36m0:00:00\u001b[0m\n",
            "\u001b[?25hRequirement already satisfied: typing-extensions>=4.2.0 in /usr/local/lib/python3.10/dist-packages (from pydantic!=1.8,!=1.8.1,<1.11.0,>=1.7.4->spacy<3.7.0,>=3.6.0->es-dep-news-trf==3.6.1) (4.7.1)\n",
            "Requirement already satisfied: urllib3<1.27,>=1.21.1 in /usr/local/lib/python3.10/dist-packages (from requests<3.0.0,>=2.13.0->spacy<3.7.0,>=3.6.0->es-dep-news-trf==3.6.1) (1.26.16)\n",
            "Requirement already satisfied: certifi>=2017.4.17 in /usr/local/lib/python3.10/dist-packages (from requests<3.0.0,>=2.13.0->spacy<3.7.0,>=3.6.0->es-dep-news-trf==3.6.1) (2023.5.7)\n",
            "Requirement already satisfied: charset-normalizer~=2.0.0 in /usr/local/lib/python3.10/dist-packages (from requests<3.0.0,>=2.13.0->spacy<3.7.0,>=3.6.0->es-dep-news-trf==3.6.1) (2.0.12)\n",
            "Requirement already satisfied: idna<4,>=2.5 in /usr/local/lib/python3.10/dist-packages (from requests<3.0.0,>=2.13.0->spacy<3.7.0,>=3.6.0->es-dep-news-trf==3.6.1) (3.4)\n",
            "Requirement already satisfied: blis<0.8.0,>=0.7.8 in /usr/local/lib/python3.10/dist-packages (from thinc<8.2.0,>=8.1.8->spacy<3.7.0,>=3.6.0->es-dep-news-trf==3.6.1) (0.7.9)\n",
            "Requirement already satisfied: confection<1.0.0,>=0.0.1 in /usr/local/lib/python3.10/dist-packages (from thinc<8.2.0,>=8.1.8->spacy<3.7.0,>=3.6.0->es-dep-news-trf==3.6.1) (0.1.0)\n",
            "Requirement already satisfied: filelock in /usr/local/lib/python3.10/dist-packages (from torch>=1.8.0->spacy-transformers<1.3.0,>=1.2.2->es-dep-news-trf==3.6.1) (3.12.2)\n",
            "Requirement already satisfied: sympy in /usr/local/lib/python3.10/dist-packages (from torch>=1.8.0->spacy-transformers<1.3.0,>=1.2.2->es-dep-news-trf==3.6.1) (1.11.1)\n",
            "Requirement already satisfied: networkx in /usr/local/lib/python3.10/dist-packages (from torch>=1.8.0->spacy-transformers<1.3.0,>=1.2.2->es-dep-news-trf==3.6.1) (3.1)\n",
            "Requirement already satisfied: triton==2.0.0 in /usr/local/lib/python3.10/dist-packages (from torch>=1.8.0->spacy-transformers<1.3.0,>=1.2.2->es-dep-news-trf==3.6.1) (2.0.0)\n",
            "Requirement already satisfied: cmake in /usr/local/lib/python3.10/dist-packages (from triton==2.0.0->torch>=1.8.0->spacy-transformers<1.3.0,>=1.2.2->es-dep-news-trf==3.6.1) (3.25.2)\n",
            "Requirement already satisfied: lit in /usr/local/lib/python3.10/dist-packages (from triton==2.0.0->torch>=1.8.0->spacy-transformers<1.3.0,>=1.2.2->es-dep-news-trf==3.6.1) (16.0.6)\n",
            "Collecting huggingface-hub<1.0,>=0.14.1 (from transformers<4.31.0,>=3.4.0->spacy-transformers<1.3.0,>=1.2.2->es-dep-news-trf==3.6.1)\n",
            "  Downloading huggingface_hub-0.16.4-py3-none-any.whl (268 kB)\n",
            "\u001b[2K     \u001b[90m━━━━━━━━━━━━━━━━━━━━━━━━━━━━━━━━━━━━━━\u001b[0m \u001b[32m268.8/268.8 kB\u001b[0m \u001b[31m38.4 MB/s\u001b[0m eta \u001b[36m0:00:00\u001b[0m\n",
            "\u001b[?25hRequirement already satisfied: pyyaml>=5.1 in /usr/local/lib/python3.10/dist-packages (from transformers<4.31.0,>=3.4.0->spacy-transformers<1.3.0,>=1.2.2->es-dep-news-trf==3.6.1) (6.0)\n",
            "Requirement already satisfied: regex!=2019.12.17 in /usr/local/lib/python3.10/dist-packages (from transformers<4.31.0,>=3.4.0->spacy-transformers<1.3.0,>=1.2.2->es-dep-news-trf==3.6.1) (2022.10.31)\n",
            "Collecting tokenizers!=0.11.3,<0.14,>=0.11.1 (from transformers<4.31.0,>=3.4.0->spacy-transformers<1.3.0,>=1.2.2->es-dep-news-trf==3.6.1)\n",
            "  Downloading tokenizers-0.13.3-cp310-cp310-manylinux_2_17_x86_64.manylinux2014_x86_64.whl (7.8 MB)\n",
            "\u001b[2K     \u001b[90m━━━━━━━━━━━━━━━━━━━━━━━━━━━━━━━━━━━━━━━━\u001b[0m \u001b[32m7.8/7.8 MB\u001b[0m \u001b[31m71.1 MB/s\u001b[0m eta \u001b[36m0:00:00\u001b[0m\n",
            "\u001b[?25hCollecting safetensors>=0.3.1 (from transformers<4.31.0,>=3.4.0->spacy-transformers<1.3.0,>=1.2.2->es-dep-news-trf==3.6.1)\n",
            "  Downloading safetensors-0.3.1-cp310-cp310-manylinux_2_17_x86_64.manylinux2014_x86_64.whl (1.3 MB)\n",
            "\u001b[2K     \u001b[90m━━━━━━━━━━━━━━━━━━━━━━━━━━━━━━━━━━━━━━━━\u001b[0m \u001b[32m1.3/1.3 MB\u001b[0m \u001b[31m88.3 MB/s\u001b[0m eta \u001b[36m0:00:00\u001b[0m\n",
            "\u001b[?25hRequirement already satisfied: click<9.0.0,>=7.1.1 in /usr/local/lib/python3.10/dist-packages (from typer<0.10.0,>=0.3.0->spacy<3.7.0,>=3.6.0->es-dep-news-trf==3.6.1) (8.1.4)\n",
            "Requirement already satisfied: MarkupSafe>=2.0 in /usr/local/lib/python3.10/dist-packages (from jinja2->spacy<3.7.0,>=3.6.0->es-dep-news-trf==3.6.1) (2.1.3)\n",
            "Requirement already satisfied: fsspec in /usr/local/lib/python3.10/dist-packages (from huggingface-hub<1.0,>=0.14.1->transformers<4.31.0,>=3.4.0->spacy-transformers<1.3.0,>=1.2.2->es-dep-news-trf==3.6.1) (2023.6.0)\n",
            "Requirement already satisfied: mpmath>=0.19 in /usr/local/lib/python3.10/dist-packages (from sympy->torch>=1.8.0->spacy-transformers<1.3.0,>=1.2.2->es-dep-news-trf==3.6.1) (1.3.0)\n",
            "Installing collected packages: tokenizers, safetensors, spacy-alignments, huggingface-hub, transformers, spacy-transformers, es-dep-news-trf\n",
            "Successfully installed es-dep-news-trf-3.6.1 huggingface-hub-0.16.4 safetensors-0.3.1 spacy-alignments-0.9.0 spacy-transformers-1.2.5 tokenizers-0.13.3 transformers-4.30.2\n",
            "\u001b[38;5;2m✔ Download and installation successful\u001b[0m\n",
            "You can now load the package via spacy.load('es_dep_news_trf')\n"
          ]
        }
      ]
    },
    {
      "cell_type": "code",
      "source": [
        "import nltk\n",
        "import nltk.data\n",
        "from nltk.tokenize import word_tokenize\n",
        "from sklearn.feature_extraction.text import TfidfVectorizer\n",
        "from spacy.lang.es.stop_words import STOP_WORDS\n",
        "\n",
        "nltk.download('punkt')\n",
        "\n",
        "tfidfv = TfidfVectorizer(stop_words=list(STOP_WORDS), ngram_range = (1, 3), tokenizer = word_tokenize)\n",
        "\n",
        "X1_train = tfidfv.fit_transform(train_df['texto'])\n",
        "X1_test = tfidfv.transform(test_df['texto'])"
      ],
      "metadata": {
        "id": "9AE86TJqP0db",
        "colab": {
          "base_uri": "https://localhost:8080/"
        },
        "outputId": "7dee4d6a-431d-45ed-af90-e9699f46a777"
      },
      "execution_count": 7,
      "outputs": [
        {
          "output_type": "stream",
          "name": "stderr",
          "text": [
            "[nltk_data] Downloading package punkt to /root/nltk_data...\n",
            "[nltk_data]   Unzipping tokenizers/punkt.zip.\n"
          ]
        }
      ]
    },
    {
      "cell_type": "markdown",
      "source": [
        "`X1_train` y `X1_test` son matrices donde cada fila representa un texto del conjunto de entrenamiento y evaluación, respectivamente, y cada columna representa uno de los posibles n-gramas:"
      ],
      "metadata": {
        "id": "hCt2ybyAVew0"
      }
    },
    {
      "cell_type": "code",
      "source": [
        "X1_train.shape"
      ],
      "metadata": {
        "id": "uO2P8_SoYItu",
        "colab": {
          "base_uri": "https://localhost:8080/"
        },
        "outputId": "2f25ba9b-970f-4673-8737-adede7c793fa"
      },
      "execution_count": 40,
      "outputs": [
        {
          "output_type": "execute_result",
          "data": {
            "text/plain": [
              "(21390, 785645)"
            ]
          },
          "metadata": {},
          "execution_count": 40
        }
      ]
    },
    {
      "cell_type": "markdown",
      "source": [
        "Y almacenamos en una Serie de pandas el conjunto de etiquetas (columna `id_ministerio`) tanto del dataset de entrenamiento como del de evaluación, pero transformadas a cadena de texto.\n",
        "\n",
        "Esto lo hacemos así porque más adelante, para evaluar nuestro modelo, necesitamos que las etiquetas sean cadenas de texto, y en este momento son números enteros"
      ],
      "metadata": {
        "id": "hMhWrWFPZO3Z"
      }
    },
    {
      "cell_type": "code",
      "source": [
        "y_train = train_df['id_ministerio'].apply(lambda x: str(x))\n",
        "y_test = test_df['id_ministerio'].apply(lambda x: str(x))"
      ],
      "metadata": {
        "id": "aLehG7fKZTS2"
      },
      "execution_count": 9,
      "outputs": []
    },
    {
      "cell_type": "markdown",
      "source": [
        "Vamos ahora a intentar encontrar el valor más apropiado para alguno de los hiperparámetros del algoritmo de entrenamiento.\n",
        "\n",
        "Para ello podemos utilizar GridSearchCV, una clase de scikit-learn que implementa la búsqueda exhaustiva por rejilla, que permite buscar los mejores hiperparámetros para un modelo utilizando validación cruzada. En nuestro caso, haremos un cálculo de validación cruzada con 6 divisiones (`cv=6`), usando los valores de alpha para la regilla de 0.1, 1 y 10.\n",
        "\n",
        "Y para poder aplicarlo hay que indicarle, previamente, el tipo de algoritmo de clasificación que vamos a utilizar (en nuestro caso, comenzaremos con un clasificador Naïve Bayes multinomial, implementado por la clase `MultinomialNB` de scikit-learn.\n",
        "\n",
        "El parámetro `verbose=3` nos asegura que se mostrará información detallada de lo que hacemos."
      ],
      "metadata": {
        "id": "ZB07LDk2YQF0"
      }
    },
    {
      "cell_type": "code",
      "source": [
        "from sklearn.naive_bayes import MultinomialNB\n",
        "from sklearn.model_selection import GridSearchCV\n",
        "\n",
        "clf_multinomial_nb = MultinomialNB()\n",
        "\n",
        "param_grid = {'alpha': [0.01, 0.1, 1, 10]}\n",
        "grid_search = GridSearchCV(clf_multinomial_nb, param_grid, cv=10, verbose=3)\n",
        "grid_search.fit(X1_train, y_train)\n",
        "\n",
        "print(\"Best hyperparameters:\", grid_search.best_params_)\n",
        "val_score = grid_search.score(X1_test, y_test)\n",
        "print(\"Validation accuracy:\", val_score)"
      ],
      "metadata": {
        "id": "Hu6I-ZX7YX2R",
        "colab": {
          "base_uri": "https://localhost:8080/"
        },
        "outputId": "874adc3b-1d09-48d3-ed36-f5c0950cc00b"
      },
      "execution_count": 10,
      "outputs": [
        {
          "output_type": "stream",
          "name": "stdout",
          "text": [
            "Fitting 10 folds for each of 4 candidates, totalling 40 fits\n",
            "[CV 1/10] END .......................alpha=0.01;, score=0.965 total time=   0.6s\n",
            "[CV 2/10] END .......................alpha=0.01;, score=0.978 total time=   0.6s\n",
            "[CV 3/10] END .......................alpha=0.01;, score=0.985 total time=   0.6s\n",
            "[CV 4/10] END .......................alpha=0.01;, score=0.981 total time=   0.6s\n",
            "[CV 5/10] END .......................alpha=0.01;, score=0.987 total time=   0.6s\n",
            "[CV 6/10] END .......................alpha=0.01;, score=0.982 total time=   0.6s\n",
            "[CV 7/10] END .......................alpha=0.01;, score=0.990 total time=   0.6s\n",
            "[CV 8/10] END .......................alpha=0.01;, score=0.985 total time=   0.6s\n",
            "[CV 9/10] END .......................alpha=0.01;, score=0.983 total time=   0.6s\n",
            "[CV 10/10] END ......................alpha=0.01;, score=0.984 total time=   0.6s\n",
            "[CV 1/10] END ........................alpha=0.1;, score=0.958 total time=   0.6s\n",
            "[CV 2/10] END ........................alpha=0.1;, score=0.970 total time=   0.6s\n",
            "[CV 3/10] END ........................alpha=0.1;, score=0.978 total time=   0.6s\n",
            "[CV 4/10] END ........................alpha=0.1;, score=0.974 total time=   0.6s\n",
            "[CV 5/10] END ........................alpha=0.1;, score=0.981 total time=   0.6s\n",
            "[CV 6/10] END ........................alpha=0.1;, score=0.973 total time=   0.6s\n",
            "[CV 7/10] END ........................alpha=0.1;, score=0.981 total time=   0.6s\n",
            "[CV 8/10] END ........................alpha=0.1;, score=0.975 total time=   0.6s\n",
            "[CV 9/10] END ........................alpha=0.1;, score=0.977 total time=   0.6s\n",
            "[CV 10/10] END .......................alpha=0.1;, score=0.976 total time=   0.6s\n",
            "[CV 1/10] END ..........................alpha=1;, score=0.922 total time=   0.6s\n",
            "[CV 2/10] END ..........................alpha=1;, score=0.933 total time=   0.6s\n",
            "[CV 3/10] END ..........................alpha=1;, score=0.945 total time=   0.6s\n",
            "[CV 4/10] END ..........................alpha=1;, score=0.949 total time=   0.7s\n",
            "[CV 5/10] END ..........................alpha=1;, score=0.946 total time=   0.6s\n",
            "[CV 6/10] END ..........................alpha=1;, score=0.943 total time=   0.6s\n",
            "[CV 7/10] END ..........................alpha=1;, score=0.945 total time=   0.6s\n",
            "[CV 8/10] END ..........................alpha=1;, score=0.941 total time=   0.7s\n",
            "[CV 9/10] END ..........................alpha=1;, score=0.950 total time=   0.7s\n",
            "[CV 10/10] END .........................alpha=1;, score=0.929 total time=   0.6s\n",
            "[CV 1/10] END .........................alpha=10;, score=0.822 total time=   0.6s\n",
            "[CV 2/10] END .........................alpha=10;, score=0.863 total time=   0.6s\n",
            "[CV 3/10] END .........................alpha=10;, score=0.875 total time=   0.6s\n",
            "[CV 4/10] END .........................alpha=10;, score=0.876 total time=   0.6s\n",
            "[CV 5/10] END .........................alpha=10;, score=0.877 total time=   0.6s\n",
            "[CV 6/10] END .........................alpha=10;, score=0.865 total time=   0.6s\n",
            "[CV 7/10] END .........................alpha=10;, score=0.875 total time=   0.6s\n",
            "[CV 8/10] END .........................alpha=10;, score=0.876 total time=   0.6s\n",
            "[CV 9/10] END .........................alpha=10;, score=0.879 total time=   0.6s\n",
            "[CV 10/10] END ........................alpha=10;, score=0.851 total time=   0.6s\n",
            "Best hyperparameters: {'alpha': 0.01}\n",
            "Validation accuracy: 0.8689873417721519\n"
          ]
        }
      ]
    },
    {
      "cell_type": "markdown",
      "source": [
        "Y ahora que tenemos identificado el valor óptimo del hiperparámetro `alpha`, procedemos a entrenar nuestro modelo:"
      ],
      "metadata": {
        "id": "YIfScUJqZ6Fh"
      }
    },
    {
      "cell_type": "code",
      "source": [
        "clf_multinomial_nb = MultinomialNB(alpha=grid_search.best_params_['alpha'])\n",
        "\n",
        "clf_multinomial_nb.fit(X1_train, y_train)\n",
        "\n",
        "test_score = clf_multinomial_nb.score(X1_test, y_test)\n",
        "print(\"Test accuracy:\", test_score)"
      ],
      "metadata": {
        "id": "fBG3-jJyZ6xQ",
        "colab": {
          "base_uri": "https://localhost:8080/"
        },
        "outputId": "953281b1-47e3-4439-825b-0b7d128f7fb7"
      },
      "execution_count": 11,
      "outputs": [
        {
          "output_type": "stream",
          "name": "stdout",
          "text": [
            "Test accuracy: 0.8689873417721519\n"
          ]
        }
      ]
    },
    {
      "cell_type": "markdown",
      "source": [
        "Mostramos, finalmente, los resultados de nuestro modelo para cada posible ministerio y de manera global:"
      ],
      "metadata": {
        "id": "C8OUgc8vaVH_"
      }
    },
    {
      "cell_type": "code",
      "source": [
        "from sklearn.metrics import classification_report\n",
        "\n",
        "y_pred = clf_multinomial_nb.predict(X1_test)\n",
        "\n",
        "# Para las posibles etiquetas, solo se contemplan los valores comprendidos entre 2 y 14,\n",
        "# ambos incluidos, pero expresados como cadena de texto\n",
        "report = classification_report(y_test, y_pred, labels=[str(x) for x in range(2, 15)], target_names=lista_ministerios)\n",
        "\n",
        "print(report)"
      ],
      "metadata": {
        "id": "FpXf5gkJaYYp",
        "colab": {
          "base_uri": "https://localhost:8080/"
        },
        "outputId": "504dfeb0-afed-4531-a726-8a7d62d1890f"
      },
      "execution_count": 39,
      "outputs": [
        {
          "output_type": "stream",
          "name": "stdout",
          "text": [
            "                                                                precision    recall  f1-score   support\n",
            "\n",
            "                                                 M. de Defensa       1.00      0.73      0.85        45\n",
            "                                                M. de Justicia       0.94      0.71      0.81        84\n",
            "                                               M. del Interior       0.86      0.93      0.89       369\n",
            "                                                 M. de Fomento       0.85      0.96      0.90       238\n",
            "                     M. de Asuntos Exteriores y de Cooperación       0.80      0.85      0.82        33\n",
            "                              M. de Hacienda y Función Pública       0.94      0.89      0.92       142\n",
            "                               M. de Empleo y Seguridad Social       0.84      0.85      0.85       139\n",
            "                    M. de Economía, Industria y Competitividad       0.54      0.42      0.47        31\n",
            "                       M. de Energía, Turismo y Agenda Digital       0.84      0.76      0.80        42\n",
            "      M. de Agricultura y Pesca, Alimentación y Medio Ambiente       0.98      0.90      0.94       234\n",
            "M. de la Presidencia y para las Administraciones Territoriales       0.50      0.17      0.25         6\n",
            "                  M. de Sanidad, Servicios Sociales e Igualdad       0.78      0.87      0.82       150\n",
            "                            M. de Educación, Cultura y Deporte       0.90      0.67      0.77        67\n",
            "\n",
            "                                                      accuracy                           0.87      1580\n",
            "                                                     macro avg       0.83      0.75      0.78      1580\n",
            "                                                  weighted avg       0.87      0.87      0.87      1580\n",
            "\n"
          ]
        }
      ]
    },
    {
      "cell_type": "markdown",
      "source": [
        "La verdad es que el modelo ha funcionado razonablemente bien, con valores relativamente altos de F1 tanto la mayoría de los ministerios (pero con excepciones, como el caso del Ministerio de la Presidencia) como para la F1-macro y la F1-ponderada."
      ],
      "metadata": {
        "id": "ay0C82Y5bPzo"
      }
    },
    {
      "cell_type": "markdown",
      "source": [
        "## Opción 2: Algoritmo: Naïve Bayes Bernuilli - Vectorizador: `TfidfVectorizer`"
      ],
      "metadata": {
        "id": "whAfGUkgcPys"
      }
    },
    {
      "cell_type": "markdown",
      "source": [
        "Vamos a probar el resultado del algoritmo de Naïve Bayes de Bernuilli con el vectorizador basado en TF-IDF.\n",
        "\n",
        "Seguimos los pasos análogos a las opciones anteriores:"
      ],
      "metadata": {
        "id": "MXsgF3XKcYUD"
      }
    },
    {
      "cell_type": "code",
      "source": [
        "from sklearn.naive_bayes import BernoulliNB\n",
        "from sklearn.model_selection import GridSearchCV\n",
        "\n",
        "clf_bernoulli_nb = BernoulliNB()\n",
        "\n",
        "param_grid = {'alpha': [0.01, 0.1, 1, 10]}\n",
        "grid_search2 = GridSearchCV(clf_bernoulli_nb, param_grid, cv=10, verbose=3)\n",
        "grid_search2.fit(X1_train, y_train)\n",
        "\n",
        "print(\"Best hyperparameters:\", grid_search2.best_params_)\n",
        "val_score = grid_search2.score(X1_test, y_test)\n",
        "print(\"Validation accuracy:\", val_score)"
      ],
      "metadata": {
        "id": "b9jDa2aXZ7PQ",
        "colab": {
          "base_uri": "https://localhost:8080/"
        },
        "outputId": "435c1fc5-a5b6-48d2-cd80-d2256b727b86"
      },
      "execution_count": 13,
      "outputs": [
        {
          "output_type": "stream",
          "name": "stdout",
          "text": [
            "Fitting 10 folds for each of 4 candidates, totalling 40 fits\n",
            "[CV 1/10] END .......................alpha=0.01;, score=0.836 total time=   0.9s\n",
            "[CV 2/10] END .......................alpha=0.01;, score=0.861 total time=   0.9s\n",
            "[CV 3/10] END .......................alpha=0.01;, score=0.876 total time=   0.9s\n",
            "[CV 4/10] END .......................alpha=0.01;, score=0.865 total time=   0.8s\n",
            "[CV 5/10] END .......................alpha=0.01;, score=0.866 total time=   0.8s\n",
            "[CV 6/10] END .......................alpha=0.01;, score=0.876 total time=   0.9s\n",
            "[CV 7/10] END .......................alpha=0.01;, score=0.864 total time=   0.9s\n",
            "[CV 8/10] END .......................alpha=0.01;, score=0.872 total time=   0.9s\n",
            "[CV 9/10] END .......................alpha=0.01;, score=0.870 total time=   0.9s\n",
            "[CV 10/10] END ......................alpha=0.01;, score=0.862 total time=   0.9s\n",
            "[CV 1/10] END ........................alpha=0.1;, score=0.777 total time=   0.8s\n",
            "[CV 2/10] END ........................alpha=0.1;, score=0.808 total time=   0.8s\n",
            "[CV 3/10] END ........................alpha=0.1;, score=0.827 total time=   0.9s\n",
            "[CV 4/10] END ........................alpha=0.1;, score=0.815 total time=   0.8s\n",
            "[CV 5/10] END ........................alpha=0.1;, score=0.800 total time=   0.8s\n",
            "[CV 6/10] END ........................alpha=0.1;, score=0.813 total time=   0.9s\n",
            "[CV 7/10] END ........................alpha=0.1;, score=0.807 total time=   0.8s\n",
            "[CV 8/10] END ........................alpha=0.1;, score=0.820 total time=   0.8s\n",
            "[CV 9/10] END ........................alpha=0.1;, score=0.804 total time=   0.8s\n",
            "[CV 10/10] END .......................alpha=0.1;, score=0.797 total time=   0.9s\n",
            "[CV 1/10] END ..........................alpha=1;, score=0.658 total time=   0.9s\n",
            "[CV 2/10] END ..........................alpha=1;, score=0.679 total time=   0.9s\n",
            "[CV 3/10] END ..........................alpha=1;, score=0.699 total time=   0.9s\n",
            "[CV 4/10] END ..........................alpha=1;, score=0.695 total time=   0.9s\n",
            "[CV 5/10] END ..........................alpha=1;, score=0.698 total time=   0.9s\n",
            "[CV 6/10] END ..........................alpha=1;, score=0.702 total time=   0.9s\n",
            "[CV 7/10] END ..........................alpha=1;, score=0.695 total time=   0.9s\n",
            "[CV 8/10] END ..........................alpha=1;, score=0.696 total time=   0.9s\n",
            "[CV 9/10] END ..........................alpha=1;, score=0.699 total time=   0.9s\n",
            "[CV 10/10] END .........................alpha=1;, score=0.689 total time=   0.9s\n",
            "[CV 1/10] END .........................alpha=10;, score=0.193 total time=   0.8s\n",
            "[CV 2/10] END .........................alpha=10;, score=0.201 total time=   0.9s\n",
            "[CV 3/10] END .........................alpha=10;, score=0.200 total time=   0.9s\n",
            "[CV 4/10] END .........................alpha=10;, score=0.202 total time=   0.9s\n",
            "[CV 5/10] END .........................alpha=10;, score=0.203 total time=   0.9s\n",
            "[CV 6/10] END .........................alpha=10;, score=0.199 total time=   0.9s\n",
            "[CV 7/10] END .........................alpha=10;, score=0.197 total time=   0.9s\n",
            "[CV 8/10] END .........................alpha=10;, score=0.200 total time=   0.9s\n",
            "[CV 9/10] END .........................alpha=10;, score=0.203 total time=   0.8s\n",
            "[CV 10/10] END ........................alpha=10;, score=0.199 total time=   0.8s\n",
            "Best hyperparameters: {'alpha': 0.01}\n",
            "Validation accuracy: 0.7506329113924051\n"
          ]
        }
      ]
    },
    {
      "cell_type": "markdown",
      "source": [
        "Y ahora que tenemos identificado el valor óptimo del hiperparámetro `alpha`, procedemos a entrenar nuestro modelo:"
      ],
      "metadata": {
        "id": "hQdW4Ljte-VU"
      }
    },
    {
      "cell_type": "code",
      "source": [
        "clf_bernoulli_nb = BernoulliNB(alpha=grid_search2.best_params_['alpha'])\n",
        "\n",
        "clf_bernoulli_nb.fit(X1_train, y_train)\n",
        "\n",
        "test_score = clf_bernoulli_nb.score(X1_test, y_test)\n",
        "print(\"Test accuracy:\", test_score)"
      ],
      "metadata": {
        "id": "PIwIbiy7dBg4",
        "colab": {
          "base_uri": "https://localhost:8080/"
        },
        "outputId": "91f583f1-1547-454d-87e3-a41786bc3c06"
      },
      "execution_count": 14,
      "outputs": [
        {
          "output_type": "stream",
          "name": "stdout",
          "text": [
            "Test accuracy: 0.7506329113924051\n"
          ]
        }
      ]
    },
    {
      "cell_type": "markdown",
      "source": [
        "Mostramos, finalmente, los resultados de nuestro modelo para cada posible ministerio y de manera global:"
      ],
      "metadata": {
        "id": "x39Wt_cQfBD4"
      }
    },
    {
      "cell_type": "code",
      "source": [
        "y_pred = clf_bernoulli_nb.predict(X1_test)\n",
        "report2 = classification_report(y_test, y_pred, labels=[str(x) for x in range(2, 15)], target_names=lista_ministerios)\n",
        "\n",
        "print(report2)"
      ],
      "metadata": {
        "id": "JbHLrJ8udQ62",
        "colab": {
          "base_uri": "https://localhost:8080/"
        },
        "outputId": "dc176fed-9eb4-4991-9fc7-1416b5a5991a"
      },
      "execution_count": 38,
      "outputs": [
        {
          "output_type": "stream",
          "name": "stdout",
          "text": [
            "                                                                precision    recall  f1-score   support\n",
            "\n",
            "                                                 M. de Defensa       1.00      0.53      0.70        45\n",
            "                                                M. de Justicia       0.93      0.31      0.46        84\n",
            "                                               M. del Interior       0.73      0.93      0.82       369\n",
            "                                                 M. de Fomento       0.83      0.84      0.83       238\n",
            "                     M. de Asuntos Exteriores y de Cooperación       0.79      0.45      0.58        33\n",
            "                              M. de Hacienda y Función Pública       0.77      0.89      0.82       142\n",
            "                               M. de Empleo y Seguridad Social       0.46      0.88      0.60       139\n",
            "                    M. de Economía, Industria y Competitividad       0.75      0.19      0.31        31\n",
            "                       M. de Energía, Turismo y Agenda Digital       0.95      0.48      0.63        42\n",
            "      M. de Agricultura y Pesca, Alimentación y Medio Ambiente       0.99      0.70      0.82       234\n",
            "M. de la Presidencia y para las Administraciones Territoriales       1.00      0.17      0.29         6\n",
            "                  M. de Sanidad, Servicios Sociales e Igualdad       0.79      0.77      0.78       150\n",
            "                            M. de Educación, Cultura y Deporte       0.92      0.34      0.50        67\n",
            "\n",
            "                                                      accuracy                           0.75      1580\n",
            "                                                     macro avg       0.84      0.58      0.63      1580\n",
            "                                                  weighted avg       0.80      0.75      0.74      1580\n",
            "\n"
          ]
        }
      ]
    },
    {
      "cell_type": "markdown",
      "source": [
        "El rendimiento del algoritmo ha sido en este caso considerablemente peor, tanto en la precisión global como en la métrica F1 en todas sus visiones: por categoría, macro y ponderada."
      ],
      "metadata": {
        "id": "Dl4w9qlTdrWq"
      }
    },
    {
      "cell_type": "markdown",
      "source": [
        "## Opción 3: Algoritmo: Complement Naïve Bayes - Vectorizador: `TfidfVectorizer`"
      ],
      "metadata": {
        "id": "IqouhJCOfZu8"
      }
    },
    {
      "cell_type": "markdown",
      "source": [
        "Acabamos nuestro ciclo de experimentos de machine learning basadas en Naïve Bayes usando el algoritmo Complement Naïve Bayes y el vectorizador basado en TF-IDF, como en los casos anteriores"
      ],
      "metadata": {
        "id": "wRK_uPGrf3K6"
      }
    },
    {
      "cell_type": "code",
      "source": [
        "from sklearn.naive_bayes import ComplementNB\n",
        "from sklearn.model_selection import GridSearchCV\n",
        "import numpy as np\n",
        "\n",
        "clf_complement_nb = ComplementNB()\n",
        "\n",
        "param_grid = {'alpha': np.logspace(1,-9, num=110)}\n",
        "grid_search4 = GridSearchCV(clf_complement_nb, param_grid, cv=6, verbose=3)\n",
        "grid_search4.fit(X1_train, y_train)\n",
        "\n",
        "print(\"Best hyperparameters:\", grid_search4.best_params_)\n",
        "val_score = grid_search4.score(X1_test, y_test)\n",
        "print(\"Validation accuracy:\", val_score)"
      ],
      "metadata": {
        "id": "joKOrQebf3kr",
        "colab": {
          "base_uri": "https://localhost:8080/"
        },
        "outputId": "4045ad0d-28e7-4775-af87-4964756cce70"
      },
      "execution_count": 16,
      "outputs": [
        {
          "output_type": "stream",
          "name": "stdout",
          "text": [
            "Fitting 6 folds for each of 110 candidates, totalling 660 fits\n",
            "[CV 1/6] END ........................alpha=10.0;, score=0.901 total time=   0.6s\n",
            "[CV 2/6] END ........................alpha=10.0;, score=0.915 total time=   0.6s\n",
            "[CV 3/6] END ........................alpha=10.0;, score=0.921 total time=   0.6s\n",
            "[CV 4/6] END ........................alpha=10.0;, score=0.910 total time=   0.6s\n",
            "[CV 5/6] END ........................alpha=10.0;, score=0.913 total time=   0.6s\n",
            "[CV 6/6] END ........................alpha=10.0;, score=0.908 total time=   0.6s\n",
            "[CV 1/6] END ...........alpha=8.095746126715333;, score=0.905 total time=   0.6s\n",
            "[CV 2/6] END ...........alpha=8.095746126715333;, score=0.920 total time=   0.6s\n",
            "[CV 3/6] END ...........alpha=8.095746126715333;, score=0.926 total time=   0.6s\n",
            "[CV 4/6] END ...........alpha=8.095746126715333;, score=0.915 total time=   0.6s\n",
            "[CV 5/6] END ...........alpha=8.095746126715333;, score=0.919 total time=   0.6s\n",
            "[CV 6/6] END ...........alpha=8.095746126715333;, score=0.914 total time=   0.6s\n",
            "[CV 1/6] END ...........alpha=6.554110534822632;, score=0.912 total time=   0.6s\n",
            "[CV 2/6] END ...........alpha=6.554110534822632;, score=0.928 total time=   0.6s\n",
            "[CV 3/6] END ...........alpha=6.554110534822632;, score=0.931 total time=   0.6s\n",
            "[CV 4/6] END ...........alpha=6.554110534822632;, score=0.921 total time=   0.6s\n",
            "[CV 5/6] END ...........alpha=6.554110534822632;, score=0.927 total time=   0.6s\n",
            "[CV 6/6] END ...........alpha=6.554110534822632;, score=0.919 total time=   0.6s\n",
            "[CV 1/6] END ...........alpha=5.306041497635449;, score=0.915 total time=   0.6s\n",
            "[CV 2/6] END ...........alpha=5.306041497635449;, score=0.934 total time=   0.6s\n",
            "[CV 3/6] END ...........alpha=5.306041497635449;, score=0.939 total time=   0.6s\n",
            "[CV 4/6] END ...........alpha=5.306041497635449;, score=0.925 total time=   0.6s\n",
            "[CV 5/6] END ...........alpha=5.306041497635449;, score=0.933 total time=   0.6s\n",
            "[CV 6/6] END ...........alpha=5.306041497635449;, score=0.925 total time=   0.6s\n",
            "[CV 1/6] END ..........alpha=4.2956364902673005;, score=0.921 total time=   0.6s\n",
            "[CV 2/6] END ..........alpha=4.2956364902673005;, score=0.940 total time=   0.6s\n",
            "[CV 3/6] END ..........alpha=4.2956364902673005;, score=0.944 total time=   0.6s\n",
            "[CV 4/6] END ..........alpha=4.2956364902673005;, score=0.933 total time=   0.6s\n",
            "[CV 5/6] END ..........alpha=4.2956364902673005;, score=0.939 total time=   0.6s\n",
            "[CV 6/6] END ..........alpha=4.2956364902673005;, score=0.931 total time=   0.6s\n",
            "[CV 1/6] END ..........alpha=3.4776382477858547;, score=0.926 total time=   0.6s\n",
            "[CV 2/6] END ..........alpha=3.4776382477858547;, score=0.947 total time=   0.6s\n",
            "[CV 3/6] END ..........alpha=3.4776382477858547;, score=0.948 total time=   0.6s\n",
            "[CV 4/6] END ..........alpha=3.4776382477858547;, score=0.941 total time=   0.6s\n",
            "[CV 5/6] END ..........alpha=3.4776382477858547;, score=0.945 total time=   0.6s\n",
            "[CV 6/6] END ..........alpha=3.4776382477858547;, score=0.940 total time=   0.6s\n",
            "[CV 1/6] END ..........alpha=2.8154076374629433;, score=0.930 total time=   0.6s\n",
            "[CV 2/6] END ..........alpha=2.8154076374629433;, score=0.954 total time=   0.6s\n",
            "[CV 3/6] END ..........alpha=2.8154076374629433;, score=0.954 total time=   0.6s\n",
            "[CV 4/6] END ..........alpha=2.8154076374629433;, score=0.948 total time=   0.6s\n",
            "[CV 5/6] END ..........alpha=2.8154076374629433;, score=0.949 total time=   0.6s\n",
            "[CV 6/6] END ..........alpha=2.8154076374629433;, score=0.949 total time=   0.6s\n",
            "[CV 1/6] END ...........alpha=2.279282547611539;, score=0.935 total time=   0.6s\n",
            "[CV 2/6] END ...........alpha=2.279282547611539;, score=0.959 total time=   0.6s\n",
            "[CV 3/6] END ...........alpha=2.279282547611539;, score=0.959 total time=   0.6s\n",
            "[CV 4/6] END ...........alpha=2.279282547611539;, score=0.953 total time=   0.6s\n",
            "[CV 5/6] END ...........alpha=2.279282547611539;, score=0.955 total time=   0.6s\n",
            "[CV 6/6] END ...........alpha=2.279282547611539;, score=0.955 total time=   0.6s\n",
            "[CV 1/6] END ..........alpha=1.8452492856515974;, score=0.938 total time=   0.6s\n",
            "[CV 2/6] END ..........alpha=1.8452492856515974;, score=0.965 total time=   0.6s\n",
            "[CV 3/6] END ..........alpha=1.8452492856515974;, score=0.962 total time=   0.6s\n",
            "[CV 4/6] END ..........alpha=1.8452492856515974;, score=0.959 total time=   0.6s\n",
            "[CV 5/6] END ..........alpha=1.8452492856515974;, score=0.962 total time=   0.6s\n",
            "[CV 6/6] END ..........alpha=1.8452492856515974;, score=0.960 total time=   0.6s\n",
            "[CV 1/6] END ..........alpha=1.4938669757138154;, score=0.941 total time=   0.6s\n",
            "[CV 2/6] END ..........alpha=1.4938669757138154;, score=0.969 total time=   0.6s\n",
            "[CV 3/6] END ..........alpha=1.4938669757138154;, score=0.964 total time=   0.6s\n",
            "[CV 4/6] END ..........alpha=1.4938669757138154;, score=0.965 total time=   0.6s\n",
            "[CV 5/6] END ..........alpha=1.4938669757138154;, score=0.964 total time=   0.6s\n",
            "[CV 6/6] END ..........alpha=1.4938669757138154;, score=0.963 total time=   0.6s\n",
            "[CV 1/6] END ...........alpha=1.209396778246307;, score=0.943 total time=   0.6s\n",
            "[CV 2/6] END ...........alpha=1.209396778246307;, score=0.973 total time=   0.6s\n",
            "[CV 3/6] END ...........alpha=1.209396778246307;, score=0.969 total time=   0.6s\n",
            "[CV 4/6] END ...........alpha=1.209396778246307;, score=0.966 total time=   0.6s\n",
            "[CV 5/6] END ...........alpha=1.209396778246307;, score=0.967 total time=   0.6s\n",
            "[CV 6/6] END ...........alpha=1.209396778246307;, score=0.965 total time=   0.6s\n",
            "[CV 1/6] END ..........alpha=0.9790969283149541;, score=0.946 total time=   0.6s\n",
            "[CV 2/6] END ..........alpha=0.9790969283149541;, score=0.975 total time=   0.6s\n",
            "[CV 3/6] END ..........alpha=0.9790969283149541;, score=0.972 total time=   0.6s\n",
            "[CV 4/6] END ..........alpha=0.9790969283149541;, score=0.968 total time=   0.6s\n",
            "[CV 5/6] END ..........alpha=0.9790969283149541;, score=0.969 total time=   0.6s\n",
            "[CV 6/6] END ..........alpha=0.9790969283149541;, score=0.967 total time=   0.6s\n",
            "[CV 1/6] END ..........alpha=0.7926520165084672;, score=0.949 total time=   0.6s\n",
            "[CV 2/6] END ..........alpha=0.7926520165084672;, score=0.977 total time=   0.6s\n",
            "[CV 3/6] END ..........alpha=0.7926520165084672;, score=0.974 total time=   0.6s\n",
            "[CV 4/6] END ..........alpha=0.7926520165084672;, score=0.971 total time=   0.6s\n",
            "[CV 5/6] END ..........alpha=0.7926520165084672;, score=0.973 total time=   0.6s\n",
            "[CV 6/6] END ..........alpha=0.7926520165084672;, score=0.969 total time=   0.6s\n",
            "[CV 1/6] END ..........alpha=0.6417109492481523;, score=0.953 total time=   0.6s\n",
            "[CV 2/6] END ..........alpha=0.6417109492481523;, score=0.980 total time=   0.6s\n",
            "[CV 3/6] END ..........alpha=0.6417109492481523;, score=0.976 total time=   0.6s\n",
            "[CV 4/6] END ..........alpha=0.6417109492481523;, score=0.973 total time=   0.6s\n",
            "[CV 5/6] END ..........alpha=0.6417109492481523;, score=0.975 total time=   0.6s\n",
            "[CV 6/6] END ..........alpha=0.6417109492481523;, score=0.973 total time=   0.6s\n",
            "[CV 1/6] END ..........alpha=0.5195128931846548;, score=0.958 total time=   0.6s\n",
            "[CV 2/6] END ..........alpha=0.5195128931846548;, score=0.981 total time=   0.6s\n",
            "[CV 3/6] END ..........alpha=0.5195128931846548;, score=0.977 total time=   0.6s\n",
            "[CV 4/6] END ..........alpha=0.5195128931846548;, score=0.974 total time=   0.6s\n",
            "[CV 5/6] END ..........alpha=0.5195128931846548;, score=0.977 total time=   0.6s\n",
            "[CV 6/6] END ..........alpha=0.5195128931846548;, score=0.975 total time=   0.6s\n",
            "[CV 1/6] END .........alpha=0.42058444927783445;, score=0.961 total time=   0.6s\n",
            "[CV 2/6] END .........alpha=0.42058444927783445;, score=0.982 total time=   0.6s\n",
            "[CV 3/6] END .........alpha=0.42058444927783445;, score=0.978 total time=   0.6s\n",
            "[CV 4/6] END .........alpha=0.42058444927783445;, score=0.976 total time=   0.6s\n",
            "[CV 5/6] END .........alpha=0.42058444927783445;, score=0.978 total time=   0.6s\n",
            "[CV 6/6] END .........alpha=0.42058444927783445;, score=0.977 total time=   0.6s\n",
            "[CV 1/6] END .........alpha=0.34049449261977305;, score=0.965 total time=   0.6s\n",
            "[CV 2/6] END .........alpha=0.34049449261977305;, score=0.982 total time=   0.6s\n",
            "[CV 3/6] END .........alpha=0.34049449261977305;, score=0.980 total time=   0.6s\n",
            "[CV 4/6] END .........alpha=0.34049449261977305;, score=0.978 total time=   0.6s\n",
            "[CV 5/6] END .........alpha=0.34049449261977305;, score=0.979 total time=   0.6s\n",
            "[CV 6/6] END .........alpha=0.34049449261977305;, score=0.979 total time=   0.6s\n",
            "[CV 1/6] END ..........alpha=0.2756556969794431;, score=0.969 total time=   0.6s\n",
            "[CV 2/6] END ..........alpha=0.2756556969794431;, score=0.983 total time=   0.6s\n",
            "[CV 3/6] END ..........alpha=0.2756556969794431;, score=0.980 total time=   0.6s\n",
            "[CV 4/6] END ..........alpha=0.2756556969794431;, score=0.979 total time=   0.6s\n",
            "[CV 5/6] END ..........alpha=0.2756556969794431;, score=0.980 total time=   0.6s\n",
            "[CV 6/6] END ..........alpha=0.2756556969794431;, score=0.980 total time=   0.6s\n",
            "[CV 1/6] END .........alpha=0.22316385411283415;, score=0.971 total time=   0.6s\n",
            "[CV 2/6] END .........alpha=0.22316385411283415;, score=0.985 total time=   0.6s\n",
            "[CV 3/6] END .........alpha=0.22316385411283415;, score=0.981 total time=   0.6s\n",
            "[CV 4/6] END .........alpha=0.22316385411283415;, score=0.980 total time=   0.6s\n",
            "[CV 5/6] END .........alpha=0.22316385411283415;, score=0.980 total time=   0.6s\n",
            "[CV 6/6] END .........alpha=0.22316385411283415;, score=0.980 total time=   0.6s\n",
            "[CV 1/6] END .........alpha=0.18066779075568423;, score=0.973 total time=   0.6s\n",
            "[CV 2/6] END .........alpha=0.18066779075568423;, score=0.986 total time=   0.6s\n",
            "[CV 3/6] END .........alpha=0.18066779075568423;, score=0.983 total time=   0.6s\n",
            "[CV 4/6] END .........alpha=0.18066779075568423;, score=0.980 total time=   0.6s\n",
            "[CV 5/6] END .........alpha=0.18066779075568423;, score=0.981 total time=   0.6s\n",
            "[CV 6/6] END .........alpha=0.18066779075568423;, score=0.981 total time=   0.6s\n",
            "[CV 1/6] END .........alpha=0.14626405672325474;, score=0.976 total time=   0.6s\n",
            "[CV 2/6] END .........alpha=0.14626405672325474;, score=0.986 total time=   0.6s\n",
            "[CV 3/6] END .........alpha=0.14626405672325474;, score=0.983 total time=   0.6s\n",
            "[CV 4/6] END .........alpha=0.14626405672325474;, score=0.982 total time=   0.6s\n",
            "[CV 5/6] END .........alpha=0.14626405672325474;, score=0.982 total time=   0.6s\n",
            "[CV 6/6] END .........alpha=0.14626405672325474;, score=0.982 total time=   0.6s\n",
            "[CV 1/6] END .........alpha=0.11841166706949616;, score=0.976 total time=   0.6s\n",
            "[CV 2/6] END .........alpha=0.11841166706949616;, score=0.987 total time=   0.6s\n",
            "[CV 3/6] END .........alpha=0.11841166706949616;, score=0.983 total time=   0.6s\n",
            "[CV 4/6] END .........alpha=0.11841166706949616;, score=0.983 total time=   0.6s\n",
            "[CV 5/6] END .........alpha=0.11841166706949616;, score=0.983 total time=   0.6s\n",
            "[CV 6/6] END .........alpha=0.11841166706949616;, score=0.983 total time=   0.6s\n",
            "[CV 1/6] END .........alpha=0.09586307950357784;, score=0.976 total time=   0.6s\n",
            "[CV 2/6] END .........alpha=0.09586307950357784;, score=0.987 total time=   0.6s\n",
            "[CV 3/6] END .........alpha=0.09586307950357784;, score=0.985 total time=   0.6s\n",
            "[CV 4/6] END .........alpha=0.09586307950357784;, score=0.984 total time=   0.6s\n",
            "[CV 5/6] END .........alpha=0.09586307950357784;, score=0.983 total time=   0.6s\n",
            "[CV 6/6] END .........alpha=0.09586307950357784;, score=0.984 total time=   0.6s\n",
            "[CV 1/6] END .........alpha=0.07760831545860945;, score=0.976 total time=   0.6s\n",
            "[CV 2/6] END .........alpha=0.07760831545860945;, score=0.987 total time=   0.6s\n",
            "[CV 3/6] END .........alpha=0.07760831545860945;, score=0.985 total time=   0.6s\n",
            "[CV 4/6] END .........alpha=0.07760831545860945;, score=0.985 total time=   0.6s\n",
            "[CV 5/6] END .........alpha=0.07760831545860945;, score=0.984 total time=   0.6s\n",
            "[CV 6/6] END .........alpha=0.07760831545860945;, score=0.985 total time=   0.6s\n",
            "[CV 1/6] END .........alpha=0.06282972192749393;, score=0.978 total time=   0.6s\n",
            "[CV 2/6] END .........alpha=0.06282972192749393;, score=0.988 total time=   0.6s\n",
            "[CV 3/6] END .........alpha=0.06282972192749393;, score=0.985 total time=   0.6s\n",
            "[CV 4/6] END .........alpha=0.06282972192749393;, score=0.986 total time=   0.6s\n",
            "[CV 5/6] END .........alpha=0.06282972192749393;, score=0.985 total time=   0.6s\n",
            "[CV 6/6] END .........alpha=0.06282972192749393;, score=0.986 total time=   0.6s\n",
            "[CV 1/6] END .........alpha=0.05086534779371106;, score=0.979 total time=   0.6s\n",
            "[CV 2/6] END .........alpha=0.05086534779371106;, score=0.988 total time=   0.6s\n",
            "[CV 3/6] END .........alpha=0.05086534779371106;, score=0.985 total time=   0.6s\n",
            "[CV 4/6] END .........alpha=0.05086534779371106;, score=0.986 total time=   0.6s\n",
            "[CV 5/6] END .........alpha=0.05086534779371106;, score=0.986 total time=   0.6s\n",
            "[CV 6/6] END .........alpha=0.05086534779371106;, score=0.987 total time=   0.6s\n",
            "[CV 1/6] END .........alpha=0.04117929423849647;, score=0.980 total time=   0.6s\n",
            "[CV 2/6] END .........alpha=0.04117929423849647;, score=0.988 total time=   0.6s\n",
            "[CV 3/6] END .........alpha=0.04117929423849647;, score=0.986 total time=   0.6s\n",
            "[CV 4/6] END .........alpha=0.04117929423849647;, score=0.986 total time=   0.6s\n",
            "[CV 5/6] END .........alpha=0.04117929423849647;, score=0.986 total time=   0.6s\n",
            "[CV 6/6] END .........alpha=0.04117929423849647;, score=0.986 total time=   0.6s\n",
            "[CV 1/6] END ........alpha=0.033337711183217864;, score=0.981 total time=   0.6s\n",
            "[CV 2/6] END ........alpha=0.033337711183217864;, score=0.988 total time=   0.6s\n",
            "[CV 3/6] END ........alpha=0.033337711183217864;, score=0.986 total time=   0.6s\n",
            "[CV 4/6] END ........alpha=0.033337711183217864;, score=0.987 total time=   0.6s\n",
            "[CV 5/6] END ........alpha=0.033337711183217864;, score=0.987 total time=   0.6s\n",
            "[CV 6/6] END ........alpha=0.033337711183217864;, score=0.986 total time=   0.6s\n",
            "[CV 1/6] END .........alpha=0.02698936461850905;, score=0.981 total time=   0.6s\n",
            "[CV 2/6] END .........alpha=0.02698936461850905;, score=0.989 total time=   0.6s\n",
            "[CV 3/6] END .........alpha=0.02698936461850905;, score=0.987 total time=   0.6s\n",
            "[CV 4/6] END .........alpha=0.02698936461850905;, score=0.987 total time=   0.6s\n",
            "[CV 5/6] END .........alpha=0.02698936461850905;, score=0.987 total time=   0.6s\n",
            "[CV 6/6] END .........alpha=0.02698936461850905;, score=0.987 total time=   0.6s\n",
            "[CV 1/6] END ........alpha=0.021849904407280258;, score=0.982 total time=   0.6s\n",
            "[CV 2/6] END ........alpha=0.021849904407280258;, score=0.989 total time=   0.6s\n",
            "[CV 3/6] END ........alpha=0.021849904407280258;, score=0.986 total time=   0.6s\n",
            "[CV 4/6] END ........alpha=0.021849904407280258;, score=0.988 total time=   0.6s\n",
            "[CV 5/6] END ........alpha=0.021849904407280258;, score=0.987 total time=   0.6s\n",
            "[CV 6/6] END ........alpha=0.021849904407280258;, score=0.987 total time=   0.6s\n",
            "[CV 1/6] END ........alpha=0.017689127897433928;, score=0.983 total time=   0.6s\n",
            "[CV 2/6] END ........alpha=0.017689127897433928;, score=0.989 total time=   0.6s\n",
            "[CV 3/6] END ........alpha=0.017689127897433928;, score=0.987 total time=   0.6s\n",
            "[CV 4/6] END ........alpha=0.017689127897433928;, score=0.989 total time=   0.6s\n",
            "[CV 5/6] END ........alpha=0.017689127897433928;, score=0.987 total time=   0.6s\n",
            "[CV 6/6] END ........alpha=0.017689127897433928;, score=0.987 total time=   0.6s\n",
            "[CV 1/6] END ........alpha=0.014320668866062291;, score=0.983 total time=   0.6s\n",
            "[CV 2/6] END ........alpha=0.014320668866062291;, score=0.989 total time=   0.6s\n",
            "[CV 3/6] END ........alpha=0.014320668866062291;, score=0.987 total time=   0.6s\n",
            "[CV 4/6] END ........alpha=0.014320668866062291;, score=0.989 total time=   0.6s\n",
            "[CV 5/6] END ........alpha=0.014320668866062291;, score=0.987 total time=   0.6s\n",
            "[CV 6/6] END ........alpha=0.014320668866062291;, score=0.987 total time=   0.6s\n",
            "[CV 1/6] END ........alpha=0.011593649950439669;, score=0.984 total time=   0.6s\n",
            "[CV 2/6] END ........alpha=0.011593649950439669;, score=0.990 total time=   0.6s\n",
            "[CV 3/6] END ........alpha=0.011593649950439669;, score=0.987 total time=   0.6s\n",
            "[CV 4/6] END ........alpha=0.011593649950439669;, score=0.989 total time=   0.6s\n",
            "[CV 5/6] END ........alpha=0.011593649950439669;, score=0.987 total time=   0.6s\n",
            "[CV 6/6] END ........alpha=0.011593649950439669;, score=0.987 total time=   0.6s\n",
            "[CV 1/6] END ........alpha=0.009385924668076539;, score=0.985 total time=   0.6s\n",
            "[CV 2/6] END ........alpha=0.009385924668076539;, score=0.990 total time=   0.6s\n",
            "[CV 3/6] END ........alpha=0.009385924668076539;, score=0.988 total time=   0.6s\n",
            "[CV 4/6] END ........alpha=0.009385924668076539;, score=0.989 total time=   0.6s\n",
            "[CV 5/6] END ........alpha=0.009385924668076539;, score=0.987 total time=   0.6s\n",
            "[CV 6/6] END ........alpha=0.009385924668076539;, score=0.988 total time=   0.6s\n",
            "[CV 1/6] END ........alpha=0.007598606327722256;, score=0.985 total time=   0.6s\n",
            "[CV 2/6] END ........alpha=0.007598606327722256;, score=0.990 total time=   0.6s\n",
            "[CV 3/6] END ........alpha=0.007598606327722256;, score=0.988 total time=   0.6s\n",
            "[CV 4/6] END ........alpha=0.007598606327722256;, score=0.989 total time=   0.6s\n",
            "[CV 5/6] END ........alpha=0.007598606327722256;, score=0.987 total time=   0.6s\n",
            "[CV 6/6] END ........alpha=0.007598606327722256;, score=0.988 total time=   0.6s\n",
            "[CV 1/6] END ........alpha=0.006151638774609203;, score=0.985 total time=   0.6s\n",
            "[CV 2/6] END ........alpha=0.006151638774609203;, score=0.990 total time=   0.6s\n",
            "[CV 3/6] END ........alpha=0.006151638774609203;, score=0.988 total time=   0.6s\n",
            "[CV 4/6] END ........alpha=0.006151638774609203;, score=0.989 total time=   0.6s\n",
            "[CV 5/6] END ........alpha=0.006151638774609203;, score=0.988 total time=   0.6s\n",
            "[CV 6/6] END ........alpha=0.006151638774609203;, score=0.988 total time=   0.6s\n",
            "[CV 1/6] END ........alpha=0.004980210578249432;, score=0.985 total time=   0.6s\n",
            "[CV 2/6] END ........alpha=0.004980210578249432;, score=0.990 total time=   0.6s\n",
            "[CV 3/6] END ........alpha=0.004980210578249432;, score=0.988 total time=   0.6s\n",
            "[CV 4/6] END ........alpha=0.004980210578249432;, score=0.989 total time=   0.6s\n",
            "[CV 5/6] END ........alpha=0.004980210578249432;, score=0.988 total time=   0.6s\n",
            "[CV 6/6] END ........alpha=0.004980210578249432;, score=0.988 total time=   0.6s\n",
            "[CV 1/6] END ........alpha=0.004031852049908959;, score=0.985 total time=   0.6s\n",
            "[CV 2/6] END ........alpha=0.004031852049908959;, score=0.990 total time=   0.6s\n",
            "[CV 3/6] END ........alpha=0.004031852049908959;, score=0.988 total time=   0.6s\n",
            "[CV 4/6] END ........alpha=0.004031852049908959;, score=0.989 total time=   0.6s\n",
            "[CV 5/6] END ........alpha=0.004031852049908959;, score=0.988 total time=   0.6s\n",
            "[CV 6/6] END ........alpha=0.004031852049908959;, score=0.988 total time=   0.6s\n",
            "[CV 1/6] END .........alpha=0.00326408506165397;, score=0.985 total time=   0.6s\n",
            "[CV 2/6] END .........alpha=0.00326408506165397;, score=0.990 total time=   0.6s\n",
            "[CV 3/6] END .........alpha=0.00326408506165397;, score=0.987 total time=   0.6s\n",
            "[CV 4/6] END .........alpha=0.00326408506165397;, score=0.989 total time=   0.6s\n",
            "[CV 5/6] END .........alpha=0.00326408506165397;, score=0.988 total time=   0.6s\n",
            "[CV 6/6] END .........alpha=0.00326408506165397;, score=0.988 total time=   0.6s\n",
            "[CV 1/6] END .......alpha=0.0026425203995154517;, score=0.986 total time=   0.6s\n",
            "[CV 2/6] END .......alpha=0.0026425203995154517;, score=0.990 total time=   0.6s\n",
            "[CV 3/6] END .......alpha=0.0026425203995154517;, score=0.987 total time=   0.6s\n",
            "[CV 4/6] END .......alpha=0.0026425203995154517;, score=0.989 total time=   0.6s\n",
            "[CV 5/6] END .......alpha=0.0026425203995154517;, score=0.988 total time=   0.6s\n",
            "[CV 6/6] END .......alpha=0.0026425203995154517;, score=0.988 total time=   0.6s\n",
            "[CV 1/6] END .......alpha=0.0021393174289143476;, score=0.985 total time=   0.6s\n",
            "[CV 2/6] END .......alpha=0.0021393174289143476;, score=0.990 total time=   0.6s\n",
            "[CV 3/6] END .......alpha=0.0021393174289143476;, score=0.987 total time=   0.6s\n",
            "[CV 4/6] END .......alpha=0.0021393174289143476;, score=0.989 total time=   0.6s\n",
            "[CV 5/6] END .......alpha=0.0021393174289143476;, score=0.988 total time=   0.6s\n",
            "[CV 6/6] END .......alpha=0.0021393174289143476;, score=0.988 total time=   0.6s\n",
            "[CV 1/6] END .......alpha=0.0017319370788947941;, score=0.986 total time=   0.6s\n",
            "[CV 2/6] END .......alpha=0.0017319370788947941;, score=0.990 total time=   0.6s\n",
            "[CV 3/6] END .......alpha=0.0017319370788947941;, score=0.987 total time=   0.6s\n",
            "[CV 4/6] END .......alpha=0.0017319370788947941;, score=0.989 total time=   0.6s\n",
            "[CV 5/6] END .......alpha=0.0017319370788947941;, score=0.988 total time=   0.6s\n",
            "[CV 6/6] END .......alpha=0.0017319370788947941;, score=0.988 total time=   0.6s\n",
            "[CV 1/6] END .......alpha=0.0014021322898177201;, score=0.985 total time=   0.6s\n",
            "[CV 2/6] END .......alpha=0.0014021322898177201;, score=0.990 total time=   0.6s\n",
            "[CV 3/6] END .......alpha=0.0014021322898177201;, score=0.987 total time=   0.6s\n",
            "[CV 4/6] END .......alpha=0.0014021322898177201;, score=0.989 total time=   0.6s\n",
            "[CV 5/6] END .......alpha=0.0014021322898177201;, score=0.988 total time=   0.6s\n",
            "[CV 6/6] END .......alpha=0.0014021322898177201;, score=0.988 total time=   0.6s\n",
            "[CV 1/6] END .........alpha=0.00113513070544343;, score=0.985 total time=   0.6s\n",
            "[CV 2/6] END .........alpha=0.00113513070544343;, score=0.990 total time=   0.6s\n",
            "[CV 3/6] END .........alpha=0.00113513070544343;, score=0.987 total time=   0.6s\n",
            "[CV 4/6] END .........alpha=0.00113513070544343;, score=0.989 total time=   0.6s\n",
            "[CV 5/6] END .........alpha=0.00113513070544343;, score=0.988 total time=   0.6s\n",
            "[CV 6/6] END .........alpha=0.00113513070544343;, score=0.988 total time=   0.6s\n",
            "[CV 1/6] END .......alpha=0.0009189730011909286;, score=0.985 total time=   0.6s\n",
            "[CV 2/6] END .......alpha=0.0009189730011909286;, score=0.991 total time=   0.6s\n",
            "[CV 3/6] END .......alpha=0.0009189730011909286;, score=0.987 total time=   0.6s\n",
            "[CV 4/6] END .......alpha=0.0009189730011909286;, score=0.988 total time=   0.6s\n",
            "[CV 5/6] END .......alpha=0.0009189730011909286;, score=0.988 total time=   0.6s\n",
            "[CV 6/6] END .......alpha=0.0009189730011909286;, score=0.988 total time=   0.6s\n",
            "[CV 1/6] END .......alpha=0.0007439772114947427;, score=0.985 total time=   0.6s\n",
            "[CV 2/6] END .......alpha=0.0007439772114947427;, score=0.991 total time=   0.6s\n",
            "[CV 3/6] END .......alpha=0.0007439772114947427;, score=0.987 total time=   0.6s\n",
            "[CV 4/6] END .......alpha=0.0007439772114947427;, score=0.988 total time=   0.6s\n",
            "[CV 5/6] END .......alpha=0.0007439772114947427;, score=0.988 total time=   0.6s\n",
            "[CV 6/6] END .......alpha=0.0007439772114947427;, score=0.988 total time=   0.6s\n",
            "[CV 1/6] END .......alpha=0.0006023050628323038;, score=0.984 total time=   0.6s\n",
            "[CV 2/6] END .......alpha=0.0006023050628323038;, score=0.990 total time=   0.6s\n",
            "[CV 3/6] END .......alpha=0.0006023050628323038;, score=0.987 total time=   0.6s\n",
            "[CV 4/6] END .......alpha=0.0006023050628323038;, score=0.988 total time=   0.7s\n",
            "[CV 5/6] END .......alpha=0.0006023050628323038;, score=0.988 total time=   0.6s\n",
            "[CV 6/6] END .......alpha=0.0006023050628323038;, score=0.988 total time=   0.6s\n",
            "[CV 1/6] END .......alpha=0.0004876108879525661;, score=0.984 total time=   0.6s\n",
            "[CV 2/6] END .......alpha=0.0004876108879525661;, score=0.990 total time=   0.6s\n",
            "[CV 3/6] END .......alpha=0.0004876108879525661;, score=0.987 total time=   0.6s\n",
            "[CV 4/6] END .......alpha=0.0004876108879525661;, score=0.988 total time=   0.6s\n",
            "[CV 5/6] END .......alpha=0.0004876108879525661;, score=0.988 total time=   0.6s\n",
            "[CV 6/6] END .......alpha=0.0004876108879525661;, score=0.988 total time=   0.6s\n",
            "[CV 1/6] END ......alpha=0.00039475739574862124;, score=0.984 total time=   0.6s\n",
            "[CV 2/6] END ......alpha=0.00039475739574862124;, score=0.990 total time=   0.6s\n",
            "[CV 3/6] END ......alpha=0.00039475739574862124;, score=0.987 total time=   0.6s\n",
            "[CV 4/6] END ......alpha=0.00039475739574862124;, score=0.988 total time=   0.6s\n",
            "[CV 5/6] END ......alpha=0.00039475739574862124;, score=0.988 total time=   0.6s\n",
            "[CV 6/6] END ......alpha=0.00039475739574862124;, score=0.988 total time=   0.6s\n",
            "[CV 1/6] END .......alpha=0.0003195855657624133;, score=0.984 total time=   0.6s\n",
            "[CV 2/6] END .......alpha=0.0003195855657624133;, score=0.990 total time=   0.6s\n",
            "[CV 3/6] END .......alpha=0.0003195855657624133;, score=0.987 total time=   0.6s\n",
            "[CV 4/6] END .......alpha=0.0003195855657624133;, score=0.988 total time=   0.6s\n",
            "[CV 5/6] END .......alpha=0.0003195855657624133;, score=0.988 total time=   0.6s\n",
            "[CV 6/6] END .......alpha=0.0003195855657624133;, score=0.988 total time=   0.6s\n",
            "[CV 1/6] END ......alpha=0.00025872836061751866;, score=0.983 total time=   0.6s\n",
            "[CV 2/6] END ......alpha=0.00025872836061751866;, score=0.990 total time=   0.6s\n",
            "[CV 3/6] END ......alpha=0.00025872836061751866;, score=0.987 total time=   0.6s\n",
            "[CV 4/6] END ......alpha=0.00025872836061751866;, score=0.988 total time=   0.6s\n",
            "[CV 5/6] END ......alpha=0.00025872836061751866;, score=0.988 total time=   0.6s\n",
            "[CV 6/6] END ......alpha=0.00025872836061751866;, score=0.988 total time=   0.6s\n",
            "[CV 1/6] END .......alpha=0.0002094599123340685;, score=0.983 total time=   0.6s\n",
            "[CV 2/6] END .......alpha=0.0002094599123340685;, score=0.990 total time=   0.6s\n",
            "[CV 3/6] END .......alpha=0.0002094599123340685;, score=0.987 total time=   0.6s\n",
            "[CV 4/6] END .......alpha=0.0002094599123340685;, score=0.988 total time=   0.6s\n",
            "[CV 5/6] END .......alpha=0.0002094599123340685;, score=0.988 total time=   0.6s\n",
            "[CV 6/6] END .......alpha=0.0002094599123340685;, score=0.988 total time=   0.6s\n",
            "[CV 1/6] END .......alpha=0.0001695734273980669;, score=0.983 total time=   0.6s\n",
            "[CV 2/6] END .......alpha=0.0001695734273980669;, score=0.991 total time=   0.6s\n",
            "[CV 3/6] END .......alpha=0.0001695734273980669;, score=0.987 total time=   0.6s\n",
            "[CV 4/6] END .......alpha=0.0001695734273980669;, score=0.988 total time=   0.6s\n",
            "[CV 5/6] END .......alpha=0.0001695734273980669;, score=0.988 total time=   0.6s\n",
            "[CV 6/6] END .......alpha=0.0001695734273980669;, score=0.988 total time=   0.6s\n",
            "[CV 1/6] END ......alpha=0.00013728234180517413;, score=0.983 total time=   0.6s\n",
            "[CV 2/6] END ......alpha=0.00013728234180517413;, score=0.990 total time=   0.6s\n",
            "[CV 3/6] END ......alpha=0.00013728234180517413;, score=0.987 total time=   0.6s\n",
            "[CV 4/6] END ......alpha=0.00013728234180517413;, score=0.988 total time=   0.6s\n",
            "[CV 5/6] END ......alpha=0.00013728234180517413;, score=0.988 total time=   0.6s\n",
            "[CV 6/6] END ......alpha=0.00013728234180517413;, score=0.988 total time=   0.7s\n",
            "[CV 1/6] END ......alpha=0.00011114029869356493;, score=0.983 total time=   0.6s\n",
            "[CV 2/6] END ......alpha=0.00011114029869356493;, score=0.990 total time=   0.6s\n",
            "[CV 3/6] END ......alpha=0.00011114029869356493;, score=0.987 total time=   0.6s\n",
            "[CV 4/6] END ......alpha=0.00011114029869356493;, score=0.987 total time=   0.6s\n",
            "[CV 5/6] END ......alpha=0.00011114029869356493;, score=0.988 total time=   0.6s\n",
            "[CV 6/6] END ......alpha=0.00011114029869356493;, score=0.988 total time=   0.6s\n",
            "[CV 1/6] END .......alpha=8.997636426704137e-05;, score=0.983 total time=   0.6s\n",
            "[CV 2/6] END .......alpha=8.997636426704137e-05;, score=0.991 total time=   0.6s\n",
            "[CV 3/6] END .......alpha=8.997636426704137e-05;, score=0.987 total time=   0.6s\n",
            "[CV 4/6] END .......alpha=8.997636426704137e-05;, score=0.988 total time=   0.6s\n",
            "[CV 5/6] END .......alpha=8.997636426704137e-05;, score=0.988 total time=   0.6s\n",
            "[CV 6/6] END .......alpha=8.997636426704137e-05;, score=0.988 total time=   0.6s\n",
            "[CV 1/6] END .......alpha=7.284258025108282e-05;, score=0.983 total time=   0.6s\n",
            "[CV 2/6] END .......alpha=7.284258025108282e-05;, score=0.991 total time=   0.6s\n",
            "[CV 3/6] END .......alpha=7.284258025108282e-05;, score=0.987 total time=   0.6s\n",
            "[CV 4/6] END .......alpha=7.284258025108282e-05;, score=0.988 total time=   0.6s\n",
            "[CV 5/6] END .......alpha=7.284258025108282e-05;, score=0.988 total time=   0.6s\n",
            "[CV 6/6] END .......alpha=7.284258025108282e-05;, score=0.988 total time=   0.6s\n",
            "[CV 1/6] END .......alpha=5.897150369276548e-05;, score=0.983 total time=   0.6s\n",
            "[CV 2/6] END .......alpha=5.897150369276548e-05;, score=0.991 total time=   0.6s\n",
            "[CV 3/6] END .......alpha=5.897150369276548e-05;, score=0.987 total time=   0.6s\n",
            "[CV 4/6] END .......alpha=5.897150369276548e-05;, score=0.988 total time=   0.6s\n",
            "[CV 5/6] END .......alpha=5.897150369276548e-05;, score=0.988 total time=   0.6s\n",
            "[CV 6/6] END .......alpha=5.897150369276548e-05;, score=0.988 total time=   0.6s\n",
            "[CV 1/6] END .......alpha=4.774183226072852e-05;, score=0.983 total time=   0.6s\n",
            "[CV 2/6] END .......alpha=4.774183226072852e-05;, score=0.991 total time=   0.6s\n",
            "[CV 3/6] END .......alpha=4.774183226072852e-05;, score=0.987 total time=   0.6s\n",
            "[CV 4/6] END .......alpha=4.774183226072852e-05;, score=0.988 total time=   0.6s\n",
            "[CV 5/6] END .......alpha=4.774183226072852e-05;, score=0.988 total time=   0.6s\n",
            "[CV 6/6] END .......alpha=4.774183226072852e-05;, score=0.988 total time=   0.6s\n",
            "[CV 1/6] END .......alpha=3.865057536070862e-05;, score=0.983 total time=   0.6s\n",
            "[CV 2/6] END .......alpha=3.865057536070862e-05;, score=0.991 total time=   0.6s\n",
            "[CV 3/6] END .......alpha=3.865057536070862e-05;, score=0.987 total time=   0.6s\n",
            "[CV 4/6] END .......alpha=3.865057536070862e-05;, score=0.987 total time=   0.6s\n",
            "[CV 5/6] END .......alpha=3.865057536070862e-05;, score=0.988 total time=   0.6s\n",
            "[CV 6/6] END .......alpha=3.865057536070862e-05;, score=0.988 total time=   0.6s\n",
            "[CV 1/6] END ......alpha=3.1290524577177534e-05;, score=0.983 total time=   0.6s\n",
            "[CV 2/6] END ......alpha=3.1290524577177534e-05;, score=0.991 total time=   0.6s\n",
            "[CV 3/6] END ......alpha=3.1290524577177534e-05;, score=0.987 total time=   0.6s\n",
            "[CV 4/6] END ......alpha=3.1290524577177534e-05;, score=0.987 total time=   0.6s\n",
            "[CV 5/6] END ......alpha=3.1290524577177534e-05;, score=0.988 total time=   0.6s\n",
            "[CV 6/6] END ......alpha=3.1290524577177534e-05;, score=0.988 total time=   0.6s\n",
            "[CV 1/6] END ........alpha=2.53320143148576e-05;, score=0.983 total time=   0.6s\n",
            "[CV 2/6] END ........alpha=2.53320143148576e-05;, score=0.991 total time=   0.6s\n",
            "[CV 3/6] END ........alpha=2.53320143148576e-05;, score=0.987 total time=   0.6s\n",
            "[CV 4/6] END ........alpha=2.53320143148576e-05;, score=0.987 total time=   0.6s\n",
            "[CV 5/6] END ........alpha=2.53320143148576e-05;, score=0.988 total time=   0.6s\n",
            "[CV 6/6] END ........alpha=2.53320143148576e-05;, score=0.988 total time=   0.6s\n",
            "[CV 1/6] END ......alpha=2.0508155677140586e-05;, score=0.983 total time=   0.6s\n",
            "[CV 2/6] END ......alpha=2.0508155677140586e-05;, score=0.991 total time=   0.6s\n",
            "[CV 3/6] END ......alpha=2.0508155677140586e-05;, score=0.987 total time=   0.6s\n",
            "[CV 4/6] END ......alpha=2.0508155677140586e-05;, score=0.987 total time=   0.6s\n",
            "[CV 5/6] END ......alpha=2.0508155677140586e-05;, score=0.988 total time=   0.6s\n",
            "[CV 6/6] END ......alpha=2.0508155677140586e-05;, score=0.988 total time=   0.6s\n",
            "[CV 1/6] END ........alpha=1.66028821889286e-05;, score=0.983 total time=   0.6s\n",
            "[CV 2/6] END ........alpha=1.66028821889286e-05;, score=0.991 total time=   0.6s\n",
            "[CV 3/6] END ........alpha=1.66028821889286e-05;, score=0.987 total time=   0.6s\n",
            "[CV 4/6] END ........alpha=1.66028821889286e-05;, score=0.987 total time=   0.6s\n",
            "[CV 5/6] END ........alpha=1.66028821889286e-05;, score=0.988 total time=   0.6s\n",
            "[CV 6/6] END ........alpha=1.66028821889286e-05;, score=0.988 total time=   0.6s\n",
            "[CV 1/6] END ......alpha=1.3441271917332974e-05;, score=0.983 total time=   0.6s\n",
            "[CV 2/6] END ......alpha=1.3441271917332974e-05;, score=0.991 total time=   0.6s\n",
            "[CV 3/6] END ......alpha=1.3441271917332974e-05;, score=0.987 total time=   0.6s\n",
            "[CV 4/6] END ......alpha=1.3441271917332974e-05;, score=0.987 total time=   0.6s\n",
            "[CV 5/6] END ......alpha=1.3441271917332974e-05;, score=0.988 total time=   0.6s\n",
            "[CV 6/6] END ......alpha=1.3441271917332974e-05;, score=0.988 total time=   0.6s\n",
            "[CV 1/6] END ......alpha=1.0881712506287604e-05;, score=0.983 total time=   0.6s\n",
            "[CV 2/6] END ......alpha=1.0881712506287604e-05;, score=0.991 total time=   0.6s\n",
            "[CV 3/6] END ......alpha=1.0881712506287604e-05;, score=0.987 total time=   0.6s\n",
            "[CV 4/6] END ......alpha=1.0881712506287604e-05;, score=0.987 total time=   0.6s\n",
            "[CV 5/6] END ......alpha=1.0881712506287604e-05;, score=0.988 total time=   0.6s\n",
            "[CV 6/6] END ......alpha=1.0881712506287604e-05;, score=0.988 total time=   0.6s\n",
            "[CV 1/6] END ........alpha=8.80955818748077e-06;, score=0.983 total time=   0.6s\n",
            "[CV 2/6] END ........alpha=8.80955818748077e-06;, score=0.991 total time=   0.6s\n",
            "[CV 3/6] END ........alpha=8.80955818748077e-06;, score=0.987 total time=   0.6s\n",
            "[CV 4/6] END ........alpha=8.80955818748077e-06;, score=0.987 total time=   0.6s\n",
            "[CV 5/6] END ........alpha=8.80955818748077e-06;, score=0.988 total time=   0.6s\n",
            "[CV 6/6] END ........alpha=8.80955818748077e-06;, score=0.988 total time=   0.6s\n",
            "[CV 1/6] END .......alpha=7.131994657437081e-06;, score=0.983 total time=   0.6s\n",
            "[CV 2/6] END .......alpha=7.131994657437081e-06;, score=0.991 total time=   0.6s\n",
            "[CV 3/6] END .......alpha=7.131994657437081e-06;, score=0.987 total time=   0.6s\n",
            "[CV 4/6] END .......alpha=7.131994657437081e-06;, score=0.987 total time=   0.6s\n",
            "[CV 5/6] END .......alpha=7.131994657437081e-06;, score=0.988 total time=   0.6s\n",
            "[CV 6/6] END .......alpha=7.131994657437081e-06;, score=0.988 total time=   0.6s\n",
            "[CV 1/6] END .......alpha=5.773881812370071e-06;, score=0.983 total time=   0.6s\n",
            "[CV 2/6] END .......alpha=5.773881812370071e-06;, score=0.991 total time=   0.6s\n",
            "[CV 3/6] END .......alpha=5.773881812370071e-06;, score=0.987 total time=   0.6s\n",
            "[CV 4/6] END .......alpha=5.773881812370071e-06;, score=0.987 total time=   0.6s\n",
            "[CV 5/6] END .......alpha=5.773881812370071e-06;, score=0.988 total time=   0.6s\n",
            "[CV 6/6] END .......alpha=5.773881812370071e-06;, score=0.988 total time=   0.6s\n",
            "[CV 1/6] END .......alpha=4.674388131860702e-06;, score=0.983 total time=   0.6s\n",
            "[CV 2/6] END .......alpha=4.674388131860702e-06;, score=0.991 total time=   0.6s\n",
            "[CV 3/6] END .......alpha=4.674388131860702e-06;, score=0.987 total time=   0.6s\n",
            "[CV 4/6] END .......alpha=4.674388131860702e-06;, score=0.987 total time=   0.6s\n",
            "[CV 5/6] END .......alpha=4.674388131860702e-06;, score=0.988 total time=   0.6s\n",
            "[CV 6/6] END .......alpha=4.674388131860702e-06;, score=0.988 total time=   0.6s\n",
            "[CV 1/6] END ......alpha=3.7842659613275417e-06;, score=0.983 total time=   0.6s\n",
            "[CV 2/6] END ......alpha=3.7842659613275417e-06;, score=0.991 total time=   0.6s\n",
            "[CV 3/6] END ......alpha=3.7842659613275417e-06;, score=0.987 total time=   0.6s\n",
            "[CV 4/6] END ......alpha=3.7842659613275417e-06;, score=0.987 total time=   0.6s\n",
            "[CV 5/6] END ......alpha=3.7842659613275417e-06;, score=0.988 total time=   0.6s\n",
            "[CV 6/6] END ......alpha=3.7842659613275417e-06;, score=0.988 total time=   0.6s\n",
            "[CV 1/6] END .......alpha=3.063645649887813e-06;, score=0.983 total time=   0.6s\n",
            "[CV 2/6] END .......alpha=3.063645649887813e-06;, score=0.991 total time=   0.6s\n",
            "[CV 3/6] END .......alpha=3.063645649887813e-06;, score=0.987 total time=   0.6s\n",
            "[CV 4/6] END .......alpha=3.063645649887813e-06;, score=0.987 total time=   0.6s\n",
            "[CV 5/6] END .......alpha=3.063645649887813e-06;, score=0.988 total time=   0.6s\n",
            "[CV 6/6] END .......alpha=3.063645649887813e-06;, score=0.988 total time=   0.6s\n",
            "[CV 1/6] END .......alpha=2.480249740370755e-06;, score=0.983 total time=   0.6s\n",
            "[CV 2/6] END .......alpha=2.480249740370755e-06;, score=0.990 total time=   0.6s\n",
            "[CV 3/6] END .......alpha=2.480249740370755e-06;, score=0.987 total time=   0.6s\n",
            "[CV 4/6] END .......alpha=2.480249740370755e-06;, score=0.987 total time=   0.6s\n",
            "[CV 5/6] END .......alpha=2.480249740370755e-06;, score=0.988 total time=   0.6s\n",
            "[CV 6/6] END .......alpha=2.480249740370755e-06;, score=0.988 total time=   0.6s\n",
            "[CV 1/6] END ......alpha=2.0079472228893256e-06;, score=0.983 total time=   0.6s\n",
            "[CV 2/6] END ......alpha=2.0079472228893256e-06;, score=0.990 total time=   0.6s\n",
            "[CV 3/6] END ......alpha=2.0079472228893256e-06;, score=0.987 total time=   0.6s\n",
            "[CV 4/6] END ......alpha=2.0079472228893256e-06;, score=0.987 total time=   0.6s\n",
            "[CV 5/6] END ......alpha=2.0079472228893256e-06;, score=0.988 total time=   0.6s\n",
            "[CV 6/6] END ......alpha=2.0079472228893256e-06;, score=0.988 total time=   0.6s\n",
            "[CV 1/6] END .......alpha=1.625583095235507e-06;, score=0.983 total time=   0.6s\n",
            "[CV 2/6] END .......alpha=1.625583095235507e-06;, score=0.990 total time=   0.6s\n",
            "[CV 3/6] END .......alpha=1.625583095235507e-06;, score=0.987 total time=   0.6s\n",
            "[CV 4/6] END .......alpha=1.625583095235507e-06;, score=0.987 total time=   0.6s\n",
            "[CV 5/6] END .......alpha=1.625583095235507e-06;, score=0.988 total time=   0.6s\n",
            "[CV 6/6] END .......alpha=1.625583095235507e-06;, score=0.988 total time=   0.6s\n",
            "[CV 1/6] END ......alpha=1.3160308046906782e-06;, score=0.983 total time=   0.6s\n",
            "[CV 2/6] END ......alpha=1.3160308046906782e-06;, score=0.990 total time=   0.6s\n",
            "[CV 3/6] END ......alpha=1.3160308046906782e-06;, score=0.987 total time=   0.6s\n",
            "[CV 4/6] END ......alpha=1.3160308046906782e-06;, score=0.987 total time=   0.6s\n",
            "[CV 5/6] END ......alpha=1.3160308046906782e-06;, score=0.988 total time=   0.6s\n",
            "[CV 6/6] END ......alpha=1.3160308046906782e-06;, score=0.988 total time=   0.6s\n",
            "[CV 1/6] END ......alpha=1.0654251289712602e-06;, score=0.983 total time=   0.6s\n",
            "[CV 2/6] END ......alpha=1.0654251289712602e-06;, score=0.990 total time=   0.6s\n",
            "[CV 3/6] END ......alpha=1.0654251289712602e-06;, score=0.987 total time=   0.6s\n",
            "[CV 4/6] END ......alpha=1.0654251289712602e-06;, score=0.988 total time=   0.6s\n",
            "[CV 5/6] END ......alpha=1.0654251289712602e-06;, score=0.988 total time=   0.6s\n",
            "[CV 6/6] END ......alpha=1.0654251289712602e-06;, score=0.988 total time=   0.6s\n",
            "[CV 1/6] END .......alpha=8.625411361174267e-07;, score=0.983 total time=   0.6s\n",
            "[CV 2/6] END .......alpha=8.625411361174267e-07;, score=0.990 total time=   0.6s\n",
            "[CV 3/6] END .......alpha=8.625411361174267e-07;, score=0.987 total time=   0.6s\n",
            "[CV 4/6] END .......alpha=8.625411361174267e-07;, score=0.988 total time=   0.6s\n",
            "[CV 5/6] END .......alpha=8.625411361174267e-07;, score=0.988 total time=   0.6s\n",
            "[CV 6/6] END .......alpha=8.625411361174267e-07;, score=0.988 total time=   0.6s\n",
            "[CV 1/6] END .......alpha=6.982914061855302e-07;, score=0.983 total time=   0.6s\n",
            "[CV 2/6] END .......alpha=6.982914061855302e-07;, score=0.990 total time=   0.6s\n",
            "[CV 3/6] END .......alpha=6.982914061855302e-07;, score=0.987 total time=   0.6s\n",
            "[CV 4/6] END .......alpha=6.982914061855302e-07;, score=0.988 total time=   0.6s\n",
            "[CV 5/6] END .......alpha=6.982914061855302e-07;, score=0.988 total time=   0.6s\n",
            "[CV 6/6] END .......alpha=6.982914061855302e-07;, score=0.988 total time=   0.6s\n",
            "[CV 1/6] END .......alpha=5.653189946945111e-07;, score=0.983 total time=   0.6s\n",
            "[CV 2/6] END .......alpha=5.653189946945111e-07;, score=0.990 total time=   0.6s\n",
            "[CV 3/6] END .......alpha=5.653189946945111e-07;, score=0.987 total time=   0.6s\n",
            "[CV 4/6] END .......alpha=5.653189946945111e-07;, score=0.988 total time=   0.6s\n",
            "[CV 5/6] END .......alpha=5.653189946945111e-07;, score=0.988 total time=   0.6s\n",
            "[CV 6/6] END .......alpha=5.653189946945111e-07;, score=0.988 total time=   0.6s\n",
            "[CV 1/6] END ......alpha=4.5766790616566956e-07;, score=0.983 total time=   0.6s\n",
            "[CV 2/6] END ......alpha=4.5766790616566956e-07;, score=0.990 total time=   0.6s\n",
            "[CV 3/6] END ......alpha=4.5766790616566956e-07;, score=0.987 total time=   0.6s\n",
            "[CV 4/6] END ......alpha=4.5766790616566956e-07;, score=0.988 total time=   0.6s\n",
            "[CV 5/6] END ......alpha=4.5766790616566956e-07;, score=0.988 total time=   0.6s\n",
            "[CV 6/6] END ......alpha=4.5766790616566956e-07;, score=0.988 total time=   0.6s\n",
            "[CV 1/6] END ......alpha=3.7051631786626366e-07;, score=0.983 total time=   0.6s\n",
            "[CV 2/6] END ......alpha=3.7051631786626366e-07;, score=0.990 total time=   0.6s\n",
            "[CV 3/6] END ......alpha=3.7051631786626366e-07;, score=0.987 total time=   0.6s\n",
            "[CV 4/6] END ......alpha=3.7051631786626366e-07;, score=0.988 total time=   0.6s\n",
            "[CV 5/6] END ......alpha=3.7051631786626366e-07;, score=0.988 total time=   0.6s\n",
            "[CV 6/6] END ......alpha=3.7051631786626366e-07;, score=0.988 total time=   0.6s\n",
            "[CV 1/6] END .......alpha=2.999606045250632e-07;, score=0.983 total time=   0.6s\n",
            "[CV 2/6] END .......alpha=2.999606045250632e-07;, score=0.990 total time=   0.6s\n",
            "[CV 3/6] END .......alpha=2.999606045250632e-07;, score=0.987 total time=   0.6s\n",
            "[CV 4/6] END .......alpha=2.999606045250632e-07;, score=0.988 total time=   0.6s\n",
            "[CV 5/6] END .......alpha=2.999606045250632e-07;, score=0.988 total time=   0.6s\n",
            "[CV 6/6] END .......alpha=2.999606045250632e-07;, score=0.988 total time=   0.6s\n",
            "[CV 1/6] END .......alpha=2.428404902250971e-07;, score=0.983 total time=   0.6s\n",
            "[CV 2/6] END .......alpha=2.428404902250971e-07;, score=0.990 total time=   0.6s\n",
            "[CV 3/6] END .......alpha=2.428404902250971e-07;, score=0.987 total time=   0.6s\n",
            "[CV 4/6] END .......alpha=2.428404902250971e-07;, score=0.988 total time=   0.6s\n",
            "[CV 5/6] END .......alpha=2.428404902250971e-07;, score=0.988 total time=   0.6s\n",
            "[CV 6/6] END .......alpha=2.428404902250971e-07;, score=0.988 total time=   0.6s\n",
            "[CV 1/6] END .......alpha=1.965974958149483e-07;, score=0.983 total time=   0.6s\n",
            "[CV 2/6] END .......alpha=1.965974958149483e-07;, score=0.990 total time=   0.6s\n",
            "[CV 3/6] END .......alpha=1.965974958149483e-07;, score=0.987 total time=   0.6s\n",
            "[CV 4/6] END .......alpha=1.965974958149483e-07;, score=0.988 total time=   0.6s\n",
            "[CV 5/6] END .......alpha=1.965974958149483e-07;, score=0.988 total time=   0.6s\n",
            "[CV 6/6] END .......alpha=1.965974958149483e-07;, score=0.988 total time=   0.6s\n",
            "[CV 1/6] END .......alpha=1.591603415265799e-07;, score=0.983 total time=   0.6s\n",
            "[CV 2/6] END .......alpha=1.591603415265799e-07;, score=0.990 total time=   0.6s\n",
            "[CV 3/6] END .......alpha=1.591603415265799e-07;, score=0.987 total time=   0.6s\n",
            "[CV 4/6] END .......alpha=1.591603415265799e-07;, score=0.987 total time=   0.6s\n",
            "[CV 5/6] END .......alpha=1.591603415265799e-07;, score=0.988 total time=   0.6s\n",
            "[CV 6/6] END .......alpha=1.591603415265799e-07;, score=0.988 total time=   0.6s\n",
            "[CV 1/6] END .......alpha=1.288521718440499e-07;, score=0.983 total time=   0.6s\n",
            "[CV 2/6] END .......alpha=1.288521718440499e-07;, score=0.990 total time=   0.6s\n",
            "[CV 3/6] END .......alpha=1.288521718440499e-07;, score=0.987 total time=   0.6s\n",
            "[CV 4/6] END .......alpha=1.288521718440499e-07;, score=0.987 total time=   0.6s\n",
            "[CV 5/6] END .......alpha=1.288521718440499e-07;, score=0.988 total time=   0.6s\n",
            "[CV 6/6] END .......alpha=1.288521718440499e-07;, score=0.988 total time=   0.6s\n",
            "[CV 1/6] END ......alpha=1.0431544711253257e-07;, score=0.983 total time=   0.6s\n",
            "[CV 2/6] END ......alpha=1.0431544711253257e-07;, score=0.990 total time=   0.6s\n",
            "[CV 3/6] END ......alpha=1.0431544711253257e-07;, score=0.987 total time=   0.6s\n",
            "[CV 4/6] END ......alpha=1.0431544711253257e-07;, score=0.987 total time=   0.6s\n",
            "[CV 5/6] END ......alpha=1.0431544711253257e-07;, score=0.988 total time=   0.6s\n",
            "[CV 6/6] END ......alpha=1.0431544711253257e-07;, score=0.988 total time=   0.6s\n",
            "[CV 1/6] END .......alpha=8.445113769178623e-08;, score=0.983 total time=   0.6s\n",
            "[CV 2/6] END .......alpha=8.445113769178623e-08;, score=0.990 total time=   0.6s\n",
            "[CV 3/6] END .......alpha=8.445113769178623e-08;, score=0.987 total time=   0.6s\n",
            "[CV 4/6] END .......alpha=8.445113769178623e-08;, score=0.987 total time=   0.6s\n",
            "[CV 5/6] END .......alpha=8.445113769178623e-08;, score=0.988 total time=   0.6s\n",
            "[CV 6/6] END .......alpha=8.445113769178623e-08;, score=0.988 total time=   0.6s\n",
            "[CV 1/6] END .......alpha=6.836949708649833e-08;, score=0.983 total time=   0.6s\n",
            "[CV 2/6] END .......alpha=6.836949708649833e-08;, score=0.990 total time=   0.6s\n",
            "[CV 3/6] END .......alpha=6.836949708649833e-08;, score=0.987 total time=   0.6s\n",
            "[CV 4/6] END .......alpha=6.836949708649833e-08;, score=0.987 total time=   0.6s\n",
            "[CV 5/6] END .......alpha=6.836949708649833e-08;, score=0.988 total time=   0.6s\n",
            "[CV 6/6] END .......alpha=6.836949708649833e-08;, score=0.988 total time=   0.6s\n",
            "[CV 1/6] END .......alpha=5.535020912234931e-08;, score=0.983 total time=   0.6s\n",
            "[CV 2/6] END .......alpha=5.535020912234931e-08;, score=0.990 total time=   0.6s\n",
            "[CV 3/6] END .......alpha=5.535020912234931e-08;, score=0.987 total time=   0.6s\n",
            "[CV 4/6] END .......alpha=5.535020912234931e-08;, score=0.987 total time=   0.6s\n",
            "[CV 5/6] END .......alpha=5.535020912234931e-08;, score=0.988 total time=   0.6s\n",
            "[CV 6/6] END .......alpha=5.535020912234931e-08;, score=0.988 total time=   0.6s\n",
            "[CV 1/6] END .......alpha=4.481012411151441e-08;, score=0.983 total time=   0.6s\n",
            "[CV 2/6] END .......alpha=4.481012411151441e-08;, score=0.990 total time=   0.6s\n",
            "[CV 3/6] END .......alpha=4.481012411151441e-08;, score=0.987 total time=   0.6s\n",
            "[CV 4/6] END .......alpha=4.481012411151441e-08;, score=0.987 total time=   0.6s\n",
            "[CV 5/6] END .......alpha=4.481012411151441e-08;, score=0.988 total time=   0.6s\n",
            "[CV 6/6] END .......alpha=4.481012411151441e-08;, score=0.988 total time=   0.6s\n",
            "[CV 1/6] END ......alpha=3.6277138871342553e-08;, score=0.983 total time=   0.6s\n",
            "[CV 2/6] END ......alpha=3.6277138871342553e-08;, score=0.990 total time=   0.6s\n",
            "[CV 3/6] END ......alpha=3.6277138871342553e-08;, score=0.987 total time=   0.6s\n",
            "[CV 4/6] END ......alpha=3.6277138871342553e-08;, score=0.987 total time=   0.6s\n",
            "[CV 5/6] END ......alpha=3.6277138871342553e-08;, score=0.988 total time=   0.6s\n",
            "[CV 6/6] END ......alpha=3.6277138871342553e-08;, score=0.988 total time=   0.6s\n",
            "[CV 1/6] END .......alpha=2.936905065059864e-08;, score=0.983 total time=   0.6s\n",
            "[CV 2/6] END .......alpha=2.936905065059864e-08;, score=0.990 total time=   0.6s\n",
            "[CV 3/6] END .......alpha=2.936905065059864e-08;, score=0.987 total time=   0.6s\n",
            "[CV 4/6] END .......alpha=2.936905065059864e-08;, score=0.987 total time=   0.6s\n",
            "[CV 5/6] END .......alpha=2.936905065059864e-08;, score=0.988 total time=   0.6s\n",
            "[CV 6/6] END .......alpha=2.936905065059864e-08;, score=0.988 total time=   0.6s\n",
            "[CV 1/6] END ......alpha=2.3776437804988995e-08;, score=0.983 total time=   0.6s\n",
            "[CV 2/6] END ......alpha=2.3776437804988995e-08;, score=0.990 total time=   0.6s\n",
            "[CV 3/6] END ......alpha=2.3776437804988995e-08;, score=0.987 total time=   0.6s\n",
            "[CV 4/6] END ......alpha=2.3776437804988995e-08;, score=0.987 total time=   0.6s\n",
            "[CV 5/6] END ......alpha=2.3776437804988995e-08;, score=0.988 total time=   0.6s\n",
            "[CV 6/6] END ......alpha=2.3776437804988995e-08;, score=0.988 total time=   0.6s\n",
            "[CV 1/6] END ......alpha=1.9248800426682813e-08;, score=0.983 total time=   0.6s\n",
            "[CV 2/6] END ......alpha=1.9248800426682813e-08;, score=0.990 total time=   0.6s\n",
            "[CV 3/6] END ......alpha=1.9248800426682813e-08;, score=0.987 total time=   0.6s\n",
            "[CV 4/6] END ......alpha=1.9248800426682813e-08;, score=0.987 total time=   0.6s\n",
            "[CV 5/6] END ......alpha=1.9248800426682813e-08;, score=0.988 total time=   0.6s\n",
            "[CV 6/6] END ......alpha=1.9248800426682813e-08;, score=0.988 total time=   0.6s\n",
            "[CV 1/6] END ......alpha=1.5583340149823357e-08;, score=0.983 total time=   0.6s\n",
            "[CV 2/6] END ......alpha=1.5583340149823357e-08;, score=0.990 total time=   0.6s\n",
            "[CV 3/6] END ......alpha=1.5583340149823357e-08;, score=0.987 total time=   0.6s\n",
            "[CV 4/6] END ......alpha=1.5583340149823357e-08;, score=0.988 total time=   0.6s\n",
            "[CV 5/6] END ......alpha=1.5583340149823357e-08;, score=0.988 total time=   0.6s\n",
            "[CV 6/6] END ......alpha=1.5583340149823357e-08;, score=0.988 total time=   0.6s\n",
            "[CV 1/6] END ......alpha=1.2615876565921974e-08;, score=0.983 total time=   0.6s\n",
            "[CV 2/6] END ......alpha=1.2615876565921974e-08;, score=0.990 total time=   0.6s\n",
            "[CV 3/6] END ......alpha=1.2615876565921974e-08;, score=0.987 total time=   0.6s\n",
            "[CV 4/6] END ......alpha=1.2615876565921974e-08;, score=0.988 total time=   0.6s\n",
            "[CV 5/6] END ......alpha=1.2615876565921974e-08;, score=0.988 total time=   0.6s\n",
            "[CV 6/6] END ......alpha=1.2615876565921974e-08;, score=0.988 total time=   0.6s\n",
            "[CV 1/6] END .......alpha=1.021349338436818e-08;, score=0.983 total time=   0.6s\n",
            "[CV 2/6] END .......alpha=1.021349338436818e-08;, score=0.990 total time=   0.6s\n",
            "[CV 3/6] END .......alpha=1.021349338436818e-08;, score=0.987 total time=   0.6s\n",
            "[CV 4/6] END .......alpha=1.021349338436818e-08;, score=0.988 total time=   0.6s\n",
            "[CV 5/6] END .......alpha=1.021349338436818e-08;, score=0.988 total time=   0.6s\n",
            "[CV 6/6] END .......alpha=1.021349338436818e-08;, score=0.988 total time=   0.6s\n",
            "[CV 1/6] END .......alpha=8.268584950673122e-09;, score=0.983 total time=   0.6s\n",
            "[CV 2/6] END .......alpha=8.268584950673122e-09;, score=0.990 total time=   0.6s\n",
            "[CV 3/6] END .......alpha=8.268584950673122e-09;, score=0.987 total time=   0.6s\n",
            "[CV 4/6] END .......alpha=8.268584950673122e-09;, score=0.988 total time=   0.6s\n",
            "[CV 5/6] END .......alpha=8.268584950673122e-09;, score=0.988 total time=   0.6s\n",
            "[CV 6/6] END .......alpha=8.268584950673122e-09;, score=0.988 total time=   0.6s\n",
            "[CV 1/6] END .......alpha=6.694036458782878e-09;, score=0.983 total time=   0.6s\n",
            "[CV 2/6] END .......alpha=6.694036458782878e-09;, score=0.990 total time=   0.6s\n",
            "[CV 3/6] END .......alpha=6.694036458782878e-09;, score=0.987 total time=   0.6s\n",
            "[CV 4/6] END .......alpha=6.694036458782878e-09;, score=0.988 total time=   0.6s\n",
            "[CV 5/6] END .......alpha=6.694036458782878e-09;, score=0.988 total time=   0.6s\n",
            "[CV 6/6] END .......alpha=6.694036458782878e-09;, score=0.988 total time=   0.6s\n",
            "[CV 1/6] END ......alpha=5.4193219733282614e-09;, score=0.983 total time=   0.6s\n",
            "[CV 2/6] END ......alpha=5.4193219733282614e-09;, score=0.990 total time=   0.6s\n",
            "[CV 3/6] END ......alpha=5.4193219733282614e-09;, score=0.987 total time=   0.6s\n",
            "[CV 4/6] END ......alpha=5.4193219733282614e-09;, score=0.988 total time=   0.6s\n",
            "[CV 5/6] END ......alpha=5.4193219733282614e-09;, score=0.988 total time=   0.6s\n",
            "[CV 6/6] END ......alpha=5.4193219733282614e-09;, score=0.988 total time=   0.6s\n",
            "[CV 1/6] END .......alpha=4.387345487499567e-09;, score=0.983 total time=   0.6s\n",
            "[CV 2/6] END .......alpha=4.387345487499567e-09;, score=0.990 total time=   0.6s\n",
            "[CV 3/6] END .......alpha=4.387345487499567e-09;, score=0.987 total time=   0.6s\n",
            "[CV 4/6] END .......alpha=4.387345487499567e-09;, score=0.988 total time=   0.6s\n",
            "[CV 5/6] END .......alpha=4.387345487499567e-09;, score=0.988 total time=   0.6s\n",
            "[CV 6/6] END .......alpha=4.387345487499567e-09;, score=0.988 total time=   0.6s\n",
            "[CV 1/6] END .......alpha=3.551883523698655e-09;, score=0.983 total time=   0.6s\n",
            "[CV 2/6] END .......alpha=3.551883523698655e-09;, score=0.990 total time=   0.6s\n",
            "[CV 3/6] END .......alpha=3.551883523698655e-09;, score=0.987 total time=   0.6s\n",
            "[CV 4/6] END .......alpha=3.551883523698655e-09;, score=0.988 total time=   0.6s\n",
            "[CV 5/6] END .......alpha=3.551883523698655e-09;, score=0.988 total time=   0.6s\n",
            "[CV 6/6] END .......alpha=3.551883523698655e-09;, score=0.988 total time=   0.6s\n",
            "[CV 1/6] END .......alpha=2.875514727952746e-09;, score=0.983 total time=   0.6s\n",
            "[CV 2/6] END .......alpha=2.875514727952746e-09;, score=0.990 total time=   0.6s\n",
            "[CV 3/6] END .......alpha=2.875514727952746e-09;, score=0.987 total time=   0.6s\n",
            "[CV 4/6] END .......alpha=2.875514727952746e-09;, score=0.988 total time=   0.6s\n",
            "[CV 5/6] END .......alpha=2.875514727952746e-09;, score=0.988 total time=   0.6s\n",
            "[CV 6/6] END .......alpha=2.875514727952746e-09;, score=0.988 total time=   0.6s\n",
            "[CV 1/6] END ........alpha=2.32794372211363e-09;, score=0.983 total time=   0.6s\n",
            "[CV 2/6] END ........alpha=2.32794372211363e-09;, score=0.990 total time=   0.6s\n",
            "[CV 3/6] END ........alpha=2.32794372211363e-09;, score=0.987 total time=   0.6s\n",
            "[CV 4/6] END ........alpha=2.32794372211363e-09;, score=0.988 total time=   0.6s\n",
            "[CV 5/6] END ........alpha=2.32794372211363e-09;, score=0.988 total time=   0.6s\n",
            "[CV 6/6] END ........alpha=2.32794372211363e-09;, score=0.988 total time=   0.6s\n",
            "[CV 1/6] END .......alpha=1.884644137151266e-09;, score=0.983 total time=   0.6s\n",
            "[CV 2/6] END .......alpha=1.884644137151266e-09;, score=0.990 total time=   0.6s\n",
            "[CV 3/6] END .......alpha=1.884644137151266e-09;, score=0.987 total time=   0.6s\n",
            "[CV 4/6] END .......alpha=1.884644137151266e-09;, score=0.988 total time=   0.6s\n",
            "[CV 5/6] END .......alpha=1.884644137151266e-09;, score=0.988 total time=   0.6s\n",
            "[CV 6/6] END .......alpha=1.884644137151266e-09;, score=0.988 total time=   0.6s\n",
            "[CV 1/6] END .......alpha=1.525760047357916e-09;, score=0.983 total time=   0.6s\n",
            "[CV 2/6] END .......alpha=1.525760047357916e-09;, score=0.990 total time=   0.6s\n",
            "[CV 3/6] END .......alpha=1.525760047357916e-09;, score=0.987 total time=   0.6s\n",
            "[CV 4/6] END .......alpha=1.525760047357916e-09;, score=0.987 total time=   0.6s\n",
            "[CV 5/6] END .......alpha=1.525760047357916e-09;, score=0.988 total time=   0.6s\n",
            "[CV 6/6] END .......alpha=1.525760047357916e-09;, score=0.988 total time=   0.6s\n",
            "[CV 1/6] END .......alpha=1.235216599369483e-09;, score=0.983 total time=   0.6s\n",
            "[CV 2/6] END .......alpha=1.235216599369483e-09;, score=0.990 total time=   0.6s\n",
            "[CV 3/6] END .......alpha=1.235216599369483e-09;, score=0.987 total time=   0.6s\n",
            "[CV 4/6] END .......alpha=1.235216599369483e-09;, score=0.987 total time=   0.6s\n",
            "[CV 5/6] END .......alpha=1.235216599369483e-09;, score=0.988 total time=   0.6s\n",
            "[CV 6/6] END .......alpha=1.235216599369483e-09;, score=0.988 total time=   0.6s\n",
            "[CV 1/6] END .......................alpha=1e-09;, score=0.983 total time=   0.6s\n",
            "[CV 2/6] END .......................alpha=1e-09;, score=0.990 total time=   0.6s\n",
            "[CV 3/6] END .......................alpha=1e-09;, score=0.987 total time=   0.6s\n",
            "[CV 4/6] END .......................alpha=1e-09;, score=0.987 total time=   0.6s\n",
            "[CV 5/6] END .......................alpha=1e-09;, score=0.988 total time=   0.6s\n",
            "[CV 6/6] END .......................alpha=1e-09;, score=0.988 total time=   0.6s\n",
            "Best hyperparameters: {'alpha': 0.004031852049908959}\n",
            "Validation accuracy: 0.8778481012658228\n"
          ]
        }
      ]
    },
    {
      "cell_type": "markdown",
      "source": [
        "Y ahora que tenemos identificado el valor óptimo del hiperparámetro `alpha`, procedemos a entrenar nuestro modelo:"
      ],
      "metadata": {
        "id": "SAHZ9DK9hzyq"
      }
    },
    {
      "cell_type": "code",
      "source": [
        "clf_complement_nb = ComplementNB(alpha=grid_search4.best_params_['alpha'])\n",
        "\n",
        "clf_complement_nb.fit(X1_train, y_train)\n",
        "\n",
        "test_score = clf_complement_nb.score(X1_test, y_test)\n",
        "print(\"Test accuracy:\", test_score)"
      ],
      "metadata": {
        "id": "THgrDNLNhyZT",
        "colab": {
          "base_uri": "https://localhost:8080/"
        },
        "outputId": "c0b6b3bf-d1a2-4c43-de9b-e193e577ea7a"
      },
      "execution_count": 17,
      "outputs": [
        {
          "output_type": "stream",
          "name": "stdout",
          "text": [
            "Test accuracy: 0.8778481012658228\n"
          ]
        }
      ]
    },
    {
      "cell_type": "markdown",
      "source": [
        "Finalizamos el análisis de esta opción con el reporte habitual:"
      ],
      "metadata": {
        "id": "rorJ3E0shyEN"
      }
    },
    {
      "cell_type": "code",
      "source": [
        "from sklearn.metrics import classification_report\n",
        "\n",
        "y_pred = clf_complement_nb.predict(X1_test.toarray())\n",
        "report3 = classification_report(y_test, y_pred, labels=[str(x) for x in range(2, 15)], target_names=lista_ministerios)\n",
        "\n",
        "print(report3)"
      ],
      "metadata": {
        "id": "u4bhkh4ih2cj",
        "colab": {
          "base_uri": "https://localhost:8080/"
        },
        "outputId": "cafa787b-4237-47de-ad26-f44dc1204ccc"
      },
      "execution_count": 37,
      "outputs": [
        {
          "output_type": "stream",
          "name": "stdout",
          "text": [
            "                                                                precision    recall  f1-score   support\n",
            "\n",
            "                                                 M. de Defensa       0.88      0.78      0.82        45\n",
            "                                                M. de Justicia       0.85      0.67      0.75        84\n",
            "                                               M. del Interior       0.91      0.93      0.92       369\n",
            "                                                 M. de Fomento       0.87      0.95      0.91       238\n",
            "                     M. de Asuntos Exteriores y de Cooperación       0.65      0.85      0.74        33\n",
            "                              M. de Hacienda y Función Pública       0.94      0.88      0.91       142\n",
            "                               M. de Empleo y Seguridad Social       0.89      0.84      0.87       139\n",
            "                    M. de Economía, Industria y Competitividad       0.62      0.65      0.63        31\n",
            "                       M. de Energía, Turismo y Agenda Digital       0.74      0.81      0.77        42\n",
            "      M. de Agricultura y Pesca, Alimentación y Medio Ambiente       0.95      0.92      0.93       234\n",
            "M. de la Presidencia y para las Administraciones Territoriales       0.25      0.17      0.20         6\n",
            "                  M. de Sanidad, Servicios Sociales e Igualdad       0.82      0.91      0.86       150\n",
            "                            M. de Educación, Cultura y Deporte       0.89      0.76      0.82        67\n",
            "\n",
            "                                                      accuracy                           0.88      1580\n",
            "                                                     macro avg       0.79      0.78      0.78      1580\n",
            "                                                  weighted avg       0.88      0.88      0.88      1580\n",
            "\n"
          ]
        }
      ]
    },
    {
      "cell_type": "markdown",
      "source": [
        "Esta variante de clasificador Naïve Bayes mejora ligeramente la versión multinomial a la vista de la puntuación F1, tanto para las categorías individuales (con la excepción del Ministerio de la Presidencia) como para la versión ponderada (de 0.87 sube a 0.88). La versión macro se mantiene inalterada en 0.78."
      ],
      "metadata": {
        "id": "FihCT_8fh3Bn"
      }
    },
    {
      "cell_type": "markdown",
      "source": [
        "# Evaluando el modelo de preguntas preprocesadas con preguntas crudas"
      ],
      "metadata": {
        "id": "YgDca2DcNmQq"
      }
    },
    {
      "cell_type": "markdown",
      "source": [
        "En el contexto real, a pesar de haber empleado un dataset preprocesado para realizar el entrenamiento, el modelo va a recibir como entrada siempre textos crudos, sin preprocesar.\n",
        "\n",
        "Vemos a continuación, para cada uno de los modelos generados, cómo varían las métricas de evaluación cuando usamos como dataset de test el formado por las preguntas crudas."
      ],
      "metadata": {
        "id": "f4hcZFz_Nrs8"
      }
    },
    {
      "cell_type": "code",
      "source": [
        "!gsutil cp gs://dataprep-staging-f1ae6292-d58f-4922-af3a-1cf0b5492123/mendoza.dc6@gmail.com/jobrun/preguntas-crudo-aumentado.parquet /content/preguntas-crudo.parquet"
      ],
      "metadata": {
        "colab": {
          "base_uri": "https://localhost:8080/"
        },
        "id": "OYC9W_eiOBih",
        "outputId": "17966056-e9b7-442c-c2b2-1ff8988f87fc"
      },
      "execution_count": 19,
      "outputs": [
        {
          "output_type": "stream",
          "name": "stdout",
          "text": [
            "Copying gs://dataprep-staging-f1ae6292-d58f-4922-af3a-1cf0b5492123/mendoza.dc6@gmail.com/jobrun/preguntas-crudo-aumentado.parquet...\n",
            "\\ [1 files][ 14.4 MiB/ 14.4 MiB]                                                \n",
            "Operation completed over 1 objects/14.4 MiB.                                     \n"
          ]
        }
      ]
    },
    {
      "cell_type": "code",
      "source": [
        "preguntas_crudas_df = pd.read_parquet('/content/preguntas-crudo.parquet', engine='pyarrow')"
      ],
      "metadata": {
        "id": "wkPHG_7SOFss"
      },
      "execution_count": 20,
      "outputs": []
    },
    {
      "cell_type": "code",
      "source": [
        "preguntas_crudas_df = preguntas_crudas_df[['texto', 'id_ministerio', 'split']]\n",
        "preguntas_crudas_df"
      ],
      "metadata": {
        "colab": {
          "base_uri": "https://localhost:8080/",
          "height": 424
        },
        "id": "x82Hkw8FOMrQ",
        "outputId": "96320a28-f7bd-4892-9b83-3fe8e95e9096"
      },
      "execution_count": 21,
      "outputs": [
        {
          "output_type": "execute_result",
          "data": {
            "text/plain": [
              "                                                  texto  id_ministerio  split\n",
              "0     Grupo Parlamentario Socialista de Cortes Gener...              5  train\n",
              "1     C.DIP 80898 20/03/2018 19:46 CS Congreso de lo...             10  train\n",
              "2     C.DIP 79938 14/03/2018 17:32 A LA MESA DEL CON...              5  train\n",
              "3     BRE 6 SENADO AUTOR: SENADO XII LEGISLATURA REG...             11  train\n",
              "4     BRE 6 SENADO AUTOR: SENADO XII LEGISLATURA REG...             11  train\n",
              "...                                                 ...            ...    ...\n",
              "7608  Grupo Parlamentario Socialista de Cortes Gener...             13   test\n",
              "2915  C. DIP 84160 11/04/2018 18:22 GRUPO PARLAMENTA...              5   test\n",
              "7874  BRE 6 SENADO AUTOR: SENADO XII LEGISLATURA REG...             14   test\n",
              "3582  Grupo Parlamentario Socialista de Cortes Gener...              5   test\n",
              "4126  BRE 6 SENADO AUTORES: SENADO XII LEGISLATURA R...              7   test\n",
              "\n",
              "[23088 rows x 3 columns]"
            ],
            "text/html": [
              "\n",
              "\n",
              "  <div id=\"df-465c2c68-8fbc-4bdf-ac21-de16a05cf217\">\n",
              "    <div class=\"colab-df-container\">\n",
              "      <div>\n",
              "<style scoped>\n",
              "    .dataframe tbody tr th:only-of-type {\n",
              "        vertical-align: middle;\n",
              "    }\n",
              "\n",
              "    .dataframe tbody tr th {\n",
              "        vertical-align: top;\n",
              "    }\n",
              "\n",
              "    .dataframe thead th {\n",
              "        text-align: right;\n",
              "    }\n",
              "</style>\n",
              "<table border=\"1\" class=\"dataframe\">\n",
              "  <thead>\n",
              "    <tr style=\"text-align: right;\">\n",
              "      <th></th>\n",
              "      <th>texto</th>\n",
              "      <th>id_ministerio</th>\n",
              "      <th>split</th>\n",
              "    </tr>\n",
              "  </thead>\n",
              "  <tbody>\n",
              "    <tr>\n",
              "      <th>0</th>\n",
              "      <td>Grupo Parlamentario Socialista de Cortes Gener...</td>\n",
              "      <td>5</td>\n",
              "      <td>train</td>\n",
              "    </tr>\n",
              "    <tr>\n",
              "      <th>1</th>\n",
              "      <td>C.DIP 80898 20/03/2018 19:46 CS Congreso de lo...</td>\n",
              "      <td>10</td>\n",
              "      <td>train</td>\n",
              "    </tr>\n",
              "    <tr>\n",
              "      <th>2</th>\n",
              "      <td>C.DIP 79938 14/03/2018 17:32 A LA MESA DEL CON...</td>\n",
              "      <td>5</td>\n",
              "      <td>train</td>\n",
              "    </tr>\n",
              "    <tr>\n",
              "      <th>3</th>\n",
              "      <td>BRE 6 SENADO AUTOR: SENADO XII LEGISLATURA REG...</td>\n",
              "      <td>11</td>\n",
              "      <td>train</td>\n",
              "    </tr>\n",
              "    <tr>\n",
              "      <th>4</th>\n",
              "      <td>BRE 6 SENADO AUTOR: SENADO XII LEGISLATURA REG...</td>\n",
              "      <td>11</td>\n",
              "      <td>train</td>\n",
              "    </tr>\n",
              "    <tr>\n",
              "      <th>...</th>\n",
              "      <td>...</td>\n",
              "      <td>...</td>\n",
              "      <td>...</td>\n",
              "    </tr>\n",
              "    <tr>\n",
              "      <th>7608</th>\n",
              "      <td>Grupo Parlamentario Socialista de Cortes Gener...</td>\n",
              "      <td>13</td>\n",
              "      <td>test</td>\n",
              "    </tr>\n",
              "    <tr>\n",
              "      <th>2915</th>\n",
              "      <td>C. DIP 84160 11/04/2018 18:22 GRUPO PARLAMENTA...</td>\n",
              "      <td>5</td>\n",
              "      <td>test</td>\n",
              "    </tr>\n",
              "    <tr>\n",
              "      <th>7874</th>\n",
              "      <td>BRE 6 SENADO AUTOR: SENADO XII LEGISLATURA REG...</td>\n",
              "      <td>14</td>\n",
              "      <td>test</td>\n",
              "    </tr>\n",
              "    <tr>\n",
              "      <th>3582</th>\n",
              "      <td>Grupo Parlamentario Socialista de Cortes Gener...</td>\n",
              "      <td>5</td>\n",
              "      <td>test</td>\n",
              "    </tr>\n",
              "    <tr>\n",
              "      <th>4126</th>\n",
              "      <td>BRE 6 SENADO AUTORES: SENADO XII LEGISLATURA R...</td>\n",
              "      <td>7</td>\n",
              "      <td>test</td>\n",
              "    </tr>\n",
              "  </tbody>\n",
              "</table>\n",
              "<p>23088 rows × 3 columns</p>\n",
              "</div>\n",
              "      <button class=\"colab-df-convert\" onclick=\"convertToInteractive('df-465c2c68-8fbc-4bdf-ac21-de16a05cf217')\"\n",
              "              title=\"Convert this dataframe to an interactive table.\"\n",
              "              style=\"display:none;\">\n",
              "\n",
              "  <svg xmlns=\"http://www.w3.org/2000/svg\" height=\"24px\"viewBox=\"0 0 24 24\"\n",
              "       width=\"24px\">\n",
              "    <path d=\"M0 0h24v24H0V0z\" fill=\"none\"/>\n",
              "    <path d=\"M18.56 5.44l.94 2.06.94-2.06 2.06-.94-2.06-.94-.94-2.06-.94 2.06-2.06.94zm-11 1L8.5 8.5l.94-2.06 2.06-.94-2.06-.94L8.5 2.5l-.94 2.06-2.06.94zm10 10l.94 2.06.94-2.06 2.06-.94-2.06-.94-.94-2.06-.94 2.06-2.06.94z\"/><path d=\"M17.41 7.96l-1.37-1.37c-.4-.4-.92-.59-1.43-.59-.52 0-1.04.2-1.43.59L10.3 9.45l-7.72 7.72c-.78.78-.78 2.05 0 2.83L4 21.41c.39.39.9.59 1.41.59.51 0 1.02-.2 1.41-.59l7.78-7.78 2.81-2.81c.8-.78.8-2.07 0-2.86zM5.41 20L4 18.59l7.72-7.72 1.47 1.35L5.41 20z\"/>\n",
              "  </svg>\n",
              "      </button>\n",
              "\n",
              "\n",
              "\n",
              "    <div id=\"df-fb1163d8-0264-477c-b3a0-539649fa468c\">\n",
              "      <button class=\"colab-df-quickchart\" onclick=\"quickchart('df-fb1163d8-0264-477c-b3a0-539649fa468c')\"\n",
              "              title=\"Suggest charts.\"\n",
              "              style=\"display:none;\">\n",
              "\n",
              "<svg xmlns=\"http://www.w3.org/2000/svg\" height=\"24px\"viewBox=\"0 0 24 24\"\n",
              "     width=\"24px\">\n",
              "    <g>\n",
              "        <path d=\"M19 3H5c-1.1 0-2 .9-2 2v14c0 1.1.9 2 2 2h14c1.1 0 2-.9 2-2V5c0-1.1-.9-2-2-2zM9 17H7v-7h2v7zm4 0h-2V7h2v10zm4 0h-2v-4h2v4z\"/>\n",
              "    </g>\n",
              "</svg>\n",
              "      </button>\n",
              "    </div>\n",
              "\n",
              "<style>\n",
              "  .colab-df-quickchart {\n",
              "    background-color: #E8F0FE;\n",
              "    border: none;\n",
              "    border-radius: 50%;\n",
              "    cursor: pointer;\n",
              "    display: none;\n",
              "    fill: #1967D2;\n",
              "    height: 32px;\n",
              "    padding: 0 0 0 0;\n",
              "    width: 32px;\n",
              "  }\n",
              "\n",
              "  .colab-df-quickchart:hover {\n",
              "    background-color: #E2EBFA;\n",
              "    box-shadow: 0px 1px 2px rgba(60, 64, 67, 0.3), 0px 1px 3px 1px rgba(60, 64, 67, 0.15);\n",
              "    fill: #174EA6;\n",
              "  }\n",
              "\n",
              "  [theme=dark] .colab-df-quickchart {\n",
              "    background-color: #3B4455;\n",
              "    fill: #D2E3FC;\n",
              "  }\n",
              "\n",
              "  [theme=dark] .colab-df-quickchart:hover {\n",
              "    background-color: #434B5C;\n",
              "    box-shadow: 0px 1px 3px 1px rgba(0, 0, 0, 0.15);\n",
              "    filter: drop-shadow(0px 1px 2px rgba(0, 0, 0, 0.3));\n",
              "    fill: #FFFFFF;\n",
              "  }\n",
              "</style>\n",
              "\n",
              "    <script>\n",
              "      async function quickchart(key) {\n",
              "        const containerElement = document.querySelector('#' + key);\n",
              "        const charts = await google.colab.kernel.invokeFunction(\n",
              "            'suggestCharts', [key], {});\n",
              "      }\n",
              "    </script>\n",
              "\n",
              "      <script>\n",
              "\n",
              "function displayQuickchartButton(domScope) {\n",
              "  let quickchartButtonEl =\n",
              "    domScope.querySelector('#df-fb1163d8-0264-477c-b3a0-539649fa468c button.colab-df-quickchart');\n",
              "  quickchartButtonEl.style.display =\n",
              "    google.colab.kernel.accessAllowed ? 'block' : 'none';\n",
              "}\n",
              "\n",
              "        displayQuickchartButton(document);\n",
              "      </script>\n",
              "      <style>\n",
              "    .colab-df-container {\n",
              "      display:flex;\n",
              "      flex-wrap:wrap;\n",
              "      gap: 12px;\n",
              "    }\n",
              "\n",
              "    .colab-df-convert {\n",
              "      background-color: #E8F0FE;\n",
              "      border: none;\n",
              "      border-radius: 50%;\n",
              "      cursor: pointer;\n",
              "      display: none;\n",
              "      fill: #1967D2;\n",
              "      height: 32px;\n",
              "      padding: 0 0 0 0;\n",
              "      width: 32px;\n",
              "    }\n",
              "\n",
              "    .colab-df-convert:hover {\n",
              "      background-color: #E2EBFA;\n",
              "      box-shadow: 0px 1px 2px rgba(60, 64, 67, 0.3), 0px 1px 3px 1px rgba(60, 64, 67, 0.15);\n",
              "      fill: #174EA6;\n",
              "    }\n",
              "\n",
              "    [theme=dark] .colab-df-convert {\n",
              "      background-color: #3B4455;\n",
              "      fill: #D2E3FC;\n",
              "    }\n",
              "\n",
              "    [theme=dark] .colab-df-convert:hover {\n",
              "      background-color: #434B5C;\n",
              "      box-shadow: 0px 1px 3px 1px rgba(0, 0, 0, 0.15);\n",
              "      filter: drop-shadow(0px 1px 2px rgba(0, 0, 0, 0.3));\n",
              "      fill: #FFFFFF;\n",
              "    }\n",
              "  </style>\n",
              "\n",
              "      <script>\n",
              "        const buttonEl =\n",
              "          document.querySelector('#df-465c2c68-8fbc-4bdf-ac21-de16a05cf217 button.colab-df-convert');\n",
              "        buttonEl.style.display =\n",
              "          google.colab.kernel.accessAllowed ? 'block' : 'none';\n",
              "\n",
              "        async function convertToInteractive(key) {\n",
              "          const element = document.querySelector('#df-465c2c68-8fbc-4bdf-ac21-de16a05cf217');\n",
              "          const dataTable =\n",
              "            await google.colab.kernel.invokeFunction('convertToInteractive',\n",
              "                                                     [key], {});\n",
              "          if (!dataTable) return;\n",
              "\n",
              "          const docLinkHtml = 'Like what you see? Visit the ' +\n",
              "            '<a target=\"_blank\" href=https://colab.research.google.com/notebooks/data_table.ipynb>data table notebook</a>'\n",
              "            + ' to learn more about interactive tables.';\n",
              "          element.innerHTML = '';\n",
              "          dataTable['output_type'] = 'display_data';\n",
              "          await google.colab.output.renderOutput(dataTable, element);\n",
              "          const docLink = document.createElement('div');\n",
              "          docLink.innerHTML = docLinkHtml;\n",
              "          element.appendChild(docLink);\n",
              "        }\n",
              "      </script>\n",
              "    </div>\n",
              "  </div>\n"
            ]
          },
          "metadata": {},
          "execution_count": 21
        }
      ]
    },
    {
      "cell_type": "code",
      "source": [
        "test_crudas_df = preguntas_crudas_df[preguntas_crudas_df['split'] == 'test']\n",
        "test_crudas_df"
      ],
      "metadata": {
        "colab": {
          "base_uri": "https://localhost:8080/",
          "height": 424
        },
        "id": "6l05yhDuOQLL",
        "outputId": "6665ef0d-e667-451b-aa3d-becb63ba643e"
      },
      "execution_count": 22,
      "outputs": [
        {
          "output_type": "execute_result",
          "data": {
            "text/plain": [
              "                                                  texto  id_ministerio split\n",
              "5182  Grupo Parlamentario Socialista de Cortes Gener...              8  test\n",
              "4486  BRE 6 SENADO AUTORES: SENADO XII LEGISLATURA R...              7  test\n",
              "6217  BRE 6 SENADO AUTOR: SENADO XII LEGISLATURA REG...             11  test\n",
              "4702  BRE 6 SENADO AUTORES: SENADO XII LEGISLATURA R...              8  test\n",
              "619   BRE 6 SENADO AUTOR: SENADO XII LEGISLATURA REG...              3  test\n",
              "...                                                 ...            ...   ...\n",
              "7608  Grupo Parlamentario Socialista de Cortes Gener...             13  test\n",
              "2915  C. DIP 84160 11/04/2018 18:22 GRUPO PARLAMENTA...              5  test\n",
              "7874  BRE 6 SENADO AUTOR: SENADO XII LEGISLATURA REG...             14  test\n",
              "3582  Grupo Parlamentario Socialista de Cortes Gener...              5  test\n",
              "4126  BRE 6 SENADO AUTORES: SENADO XII LEGISLATURA R...              7  test\n",
              "\n",
              "[1589 rows x 3 columns]"
            ],
            "text/html": [
              "\n",
              "\n",
              "  <div id=\"df-e4a960ca-0124-41a7-bccb-45a522a2102f\">\n",
              "    <div class=\"colab-df-container\">\n",
              "      <div>\n",
              "<style scoped>\n",
              "    .dataframe tbody tr th:only-of-type {\n",
              "        vertical-align: middle;\n",
              "    }\n",
              "\n",
              "    .dataframe tbody tr th {\n",
              "        vertical-align: top;\n",
              "    }\n",
              "\n",
              "    .dataframe thead th {\n",
              "        text-align: right;\n",
              "    }\n",
              "</style>\n",
              "<table border=\"1\" class=\"dataframe\">\n",
              "  <thead>\n",
              "    <tr style=\"text-align: right;\">\n",
              "      <th></th>\n",
              "      <th>texto</th>\n",
              "      <th>id_ministerio</th>\n",
              "      <th>split</th>\n",
              "    </tr>\n",
              "  </thead>\n",
              "  <tbody>\n",
              "    <tr>\n",
              "      <th>5182</th>\n",
              "      <td>Grupo Parlamentario Socialista de Cortes Gener...</td>\n",
              "      <td>8</td>\n",
              "      <td>test</td>\n",
              "    </tr>\n",
              "    <tr>\n",
              "      <th>4486</th>\n",
              "      <td>BRE 6 SENADO AUTORES: SENADO XII LEGISLATURA R...</td>\n",
              "      <td>7</td>\n",
              "      <td>test</td>\n",
              "    </tr>\n",
              "    <tr>\n",
              "      <th>6217</th>\n",
              "      <td>BRE 6 SENADO AUTOR: SENADO XII LEGISLATURA REG...</td>\n",
              "      <td>11</td>\n",
              "      <td>test</td>\n",
              "    </tr>\n",
              "    <tr>\n",
              "      <th>4702</th>\n",
              "      <td>BRE 6 SENADO AUTORES: SENADO XII LEGISLATURA R...</td>\n",
              "      <td>8</td>\n",
              "      <td>test</td>\n",
              "    </tr>\n",
              "    <tr>\n",
              "      <th>619</th>\n",
              "      <td>BRE 6 SENADO AUTOR: SENADO XII LEGISLATURA REG...</td>\n",
              "      <td>3</td>\n",
              "      <td>test</td>\n",
              "    </tr>\n",
              "    <tr>\n",
              "      <th>...</th>\n",
              "      <td>...</td>\n",
              "      <td>...</td>\n",
              "      <td>...</td>\n",
              "    </tr>\n",
              "    <tr>\n",
              "      <th>7608</th>\n",
              "      <td>Grupo Parlamentario Socialista de Cortes Gener...</td>\n",
              "      <td>13</td>\n",
              "      <td>test</td>\n",
              "    </tr>\n",
              "    <tr>\n",
              "      <th>2915</th>\n",
              "      <td>C. DIP 84160 11/04/2018 18:22 GRUPO PARLAMENTA...</td>\n",
              "      <td>5</td>\n",
              "      <td>test</td>\n",
              "    </tr>\n",
              "    <tr>\n",
              "      <th>7874</th>\n",
              "      <td>BRE 6 SENADO AUTOR: SENADO XII LEGISLATURA REG...</td>\n",
              "      <td>14</td>\n",
              "      <td>test</td>\n",
              "    </tr>\n",
              "    <tr>\n",
              "      <th>3582</th>\n",
              "      <td>Grupo Parlamentario Socialista de Cortes Gener...</td>\n",
              "      <td>5</td>\n",
              "      <td>test</td>\n",
              "    </tr>\n",
              "    <tr>\n",
              "      <th>4126</th>\n",
              "      <td>BRE 6 SENADO AUTORES: SENADO XII LEGISLATURA R...</td>\n",
              "      <td>7</td>\n",
              "      <td>test</td>\n",
              "    </tr>\n",
              "  </tbody>\n",
              "</table>\n",
              "<p>1589 rows × 3 columns</p>\n",
              "</div>\n",
              "      <button class=\"colab-df-convert\" onclick=\"convertToInteractive('df-e4a960ca-0124-41a7-bccb-45a522a2102f')\"\n",
              "              title=\"Convert this dataframe to an interactive table.\"\n",
              "              style=\"display:none;\">\n",
              "\n",
              "  <svg xmlns=\"http://www.w3.org/2000/svg\" height=\"24px\"viewBox=\"0 0 24 24\"\n",
              "       width=\"24px\">\n",
              "    <path d=\"M0 0h24v24H0V0z\" fill=\"none\"/>\n",
              "    <path d=\"M18.56 5.44l.94 2.06.94-2.06 2.06-.94-2.06-.94-.94-2.06-.94 2.06-2.06.94zm-11 1L8.5 8.5l.94-2.06 2.06-.94-2.06-.94L8.5 2.5l-.94 2.06-2.06.94zm10 10l.94 2.06.94-2.06 2.06-.94-2.06-.94-.94-2.06-.94 2.06-2.06.94z\"/><path d=\"M17.41 7.96l-1.37-1.37c-.4-.4-.92-.59-1.43-.59-.52 0-1.04.2-1.43.59L10.3 9.45l-7.72 7.72c-.78.78-.78 2.05 0 2.83L4 21.41c.39.39.9.59 1.41.59.51 0 1.02-.2 1.41-.59l7.78-7.78 2.81-2.81c.8-.78.8-2.07 0-2.86zM5.41 20L4 18.59l7.72-7.72 1.47 1.35L5.41 20z\"/>\n",
              "  </svg>\n",
              "      </button>\n",
              "\n",
              "\n",
              "\n",
              "    <div id=\"df-b12cc12f-83bb-413f-94aa-29bbf0b5a50b\">\n",
              "      <button class=\"colab-df-quickchart\" onclick=\"quickchart('df-b12cc12f-83bb-413f-94aa-29bbf0b5a50b')\"\n",
              "              title=\"Suggest charts.\"\n",
              "              style=\"display:none;\">\n",
              "\n",
              "<svg xmlns=\"http://www.w3.org/2000/svg\" height=\"24px\"viewBox=\"0 0 24 24\"\n",
              "     width=\"24px\">\n",
              "    <g>\n",
              "        <path d=\"M19 3H5c-1.1 0-2 .9-2 2v14c0 1.1.9 2 2 2h14c1.1 0 2-.9 2-2V5c0-1.1-.9-2-2-2zM9 17H7v-7h2v7zm4 0h-2V7h2v10zm4 0h-2v-4h2v4z\"/>\n",
              "    </g>\n",
              "</svg>\n",
              "      </button>\n",
              "    </div>\n",
              "\n",
              "<style>\n",
              "  .colab-df-quickchart {\n",
              "    background-color: #E8F0FE;\n",
              "    border: none;\n",
              "    border-radius: 50%;\n",
              "    cursor: pointer;\n",
              "    display: none;\n",
              "    fill: #1967D2;\n",
              "    height: 32px;\n",
              "    padding: 0 0 0 0;\n",
              "    width: 32px;\n",
              "  }\n",
              "\n",
              "  .colab-df-quickchart:hover {\n",
              "    background-color: #E2EBFA;\n",
              "    box-shadow: 0px 1px 2px rgba(60, 64, 67, 0.3), 0px 1px 3px 1px rgba(60, 64, 67, 0.15);\n",
              "    fill: #174EA6;\n",
              "  }\n",
              "\n",
              "  [theme=dark] .colab-df-quickchart {\n",
              "    background-color: #3B4455;\n",
              "    fill: #D2E3FC;\n",
              "  }\n",
              "\n",
              "  [theme=dark] .colab-df-quickchart:hover {\n",
              "    background-color: #434B5C;\n",
              "    box-shadow: 0px 1px 3px 1px rgba(0, 0, 0, 0.15);\n",
              "    filter: drop-shadow(0px 1px 2px rgba(0, 0, 0, 0.3));\n",
              "    fill: #FFFFFF;\n",
              "  }\n",
              "</style>\n",
              "\n",
              "    <script>\n",
              "      async function quickchart(key) {\n",
              "        const containerElement = document.querySelector('#' + key);\n",
              "        const charts = await google.colab.kernel.invokeFunction(\n",
              "            'suggestCharts', [key], {});\n",
              "      }\n",
              "    </script>\n",
              "\n",
              "      <script>\n",
              "\n",
              "function displayQuickchartButton(domScope) {\n",
              "  let quickchartButtonEl =\n",
              "    domScope.querySelector('#df-b12cc12f-83bb-413f-94aa-29bbf0b5a50b button.colab-df-quickchart');\n",
              "  quickchartButtonEl.style.display =\n",
              "    google.colab.kernel.accessAllowed ? 'block' : 'none';\n",
              "}\n",
              "\n",
              "        displayQuickchartButton(document);\n",
              "      </script>\n",
              "      <style>\n",
              "    .colab-df-container {\n",
              "      display:flex;\n",
              "      flex-wrap:wrap;\n",
              "      gap: 12px;\n",
              "    }\n",
              "\n",
              "    .colab-df-convert {\n",
              "      background-color: #E8F0FE;\n",
              "      border: none;\n",
              "      border-radius: 50%;\n",
              "      cursor: pointer;\n",
              "      display: none;\n",
              "      fill: #1967D2;\n",
              "      height: 32px;\n",
              "      padding: 0 0 0 0;\n",
              "      width: 32px;\n",
              "    }\n",
              "\n",
              "    .colab-df-convert:hover {\n",
              "      background-color: #E2EBFA;\n",
              "      box-shadow: 0px 1px 2px rgba(60, 64, 67, 0.3), 0px 1px 3px 1px rgba(60, 64, 67, 0.15);\n",
              "      fill: #174EA6;\n",
              "    }\n",
              "\n",
              "    [theme=dark] .colab-df-convert {\n",
              "      background-color: #3B4455;\n",
              "      fill: #D2E3FC;\n",
              "    }\n",
              "\n",
              "    [theme=dark] .colab-df-convert:hover {\n",
              "      background-color: #434B5C;\n",
              "      box-shadow: 0px 1px 3px 1px rgba(0, 0, 0, 0.15);\n",
              "      filter: drop-shadow(0px 1px 2px rgba(0, 0, 0, 0.3));\n",
              "      fill: #FFFFFF;\n",
              "    }\n",
              "  </style>\n",
              "\n",
              "      <script>\n",
              "        const buttonEl =\n",
              "          document.querySelector('#df-e4a960ca-0124-41a7-bccb-45a522a2102f button.colab-df-convert');\n",
              "        buttonEl.style.display =\n",
              "          google.colab.kernel.accessAllowed ? 'block' : 'none';\n",
              "\n",
              "        async function convertToInteractive(key) {\n",
              "          const element = document.querySelector('#df-e4a960ca-0124-41a7-bccb-45a522a2102f');\n",
              "          const dataTable =\n",
              "            await google.colab.kernel.invokeFunction('convertToInteractive',\n",
              "                                                     [key], {});\n",
              "          if (!dataTable) return;\n",
              "\n",
              "          const docLinkHtml = 'Like what you see? Visit the ' +\n",
              "            '<a target=\"_blank\" href=https://colab.research.google.com/notebooks/data_table.ipynb>data table notebook</a>'\n",
              "            + ' to learn more about interactive tables.';\n",
              "          element.innerHTML = '';\n",
              "          dataTable['output_type'] = 'display_data';\n",
              "          await google.colab.output.renderOutput(dataTable, element);\n",
              "          const docLink = document.createElement('div');\n",
              "          docLink.innerHTML = docLinkHtml;\n",
              "          element.appendChild(docLink);\n",
              "        }\n",
              "      </script>\n",
              "    </div>\n",
              "  </div>\n"
            ]
          },
          "metadata": {},
          "execution_count": 22
        }
      ]
    },
    {
      "cell_type": "code",
      "source": [
        "X1_crudas_test = tfidfv.transform(test_crudas_df['texto'])"
      ],
      "metadata": {
        "id": "BDAxz98ZO8VZ"
      },
      "execution_count": 23,
      "outputs": []
    },
    {
      "cell_type": "code",
      "source": [
        "y_crudas_test = test_crudas_df['id_ministerio'].apply(lambda x: str(x))"
      ],
      "metadata": {
        "id": "HajX9wEFO_-2"
      },
      "execution_count": 24,
      "outputs": []
    },
    {
      "cell_type": "markdown",
      "source": [
        "## Evaluación del modelo NB Multinomial con preguntas crudas"
      ],
      "metadata": {
        "id": "_6HXMp5HOjgH"
      }
    },
    {
      "cell_type": "code",
      "source": [
        "from sklearn.metrics import classification_report\n",
        "\n",
        "y_pred = clf_multinomial_nb.predict(X1_crudas_test)\n",
        "\n",
        "# Para las posibles etiquetas, solo se contemplan los valores comprendidos entre 2 y 14,\n",
        "# ambos incluidos, pero expresados como cadena de texto\n",
        "report = classification_report(y_crudas_test, y_pred, labels=[str(x) for x in range(2, 15)], target_names=lista_ministerios)\n",
        "\n",
        "print(report)"
      ],
      "metadata": {
        "colab": {
          "base_uri": "https://localhost:8080/"
        },
        "id": "HyezORr3OgBI",
        "outputId": "f93218bc-f4e0-4ca0-9931-f046f1e380de"
      },
      "execution_count": 36,
      "outputs": [
        {
          "output_type": "stream",
          "name": "stdout",
          "text": [
            "                                                                precision    recall  f1-score   support\n",
            "\n",
            "                                                 M. de Defensa       0.98      0.89      0.93        45\n",
            "                                                M. de Justicia       0.83      0.91      0.87        85\n",
            "                                               M. del Interior       0.80      0.98      0.88       370\n",
            "                                                 M. de Fomento       0.90      0.88      0.89       240\n",
            "                     M. de Asuntos Exteriores y de Cooperación       0.94      0.88      0.91        33\n",
            "                              M. de Hacienda y Función Pública       0.97      0.97      0.97       142\n",
            "                               M. de Empleo y Seguridad Social       0.94      0.79      0.86       140\n",
            "                    M. de Economía, Industria y Competitividad       0.95      0.61      0.75        31\n",
            "                       M. de Energía, Turismo y Agenda Digital       0.97      0.83      0.90        42\n",
            "      M. de Agricultura y Pesca, Alimentación y Medio Ambiente       0.99      0.90      0.94       238\n",
            "M. de la Presidencia y para las Administraciones Territoriales       1.00      0.83      0.91         6\n",
            "                  M. de Sanidad, Servicios Sociales e Igualdad       0.86      0.83      0.84       150\n",
            "                            M. de Educación, Cultura y Deporte       0.98      0.79      0.88        67\n",
            "\n",
            "                                                      accuracy                           0.89      1589\n",
            "                                                     macro avg       0.93      0.85      0.89      1589\n",
            "                                                  weighted avg       0.90      0.89      0.89      1589\n",
            "\n"
          ]
        }
      ]
    },
    {
      "cell_type": "markdown",
      "source": [
        "Sorprendentemente, el modelo entrenado con preguntas preprocesadas se comporta mejor cuando recibe preguntas crudas que cuando las recibía también preprocesadas. Todas las categorías tienen una puntuación alta en la métrica F1, así como las versiones macro y ponderada."
      ],
      "metadata": {
        "id": "fZ0gZz30PgJm"
      }
    },
    {
      "cell_type": "markdown",
      "source": [
        "## Evaluación del modelo NB Bernoulli con preguntas crudas"
      ],
      "metadata": {
        "id": "Smm-aOFzPzze"
      }
    },
    {
      "cell_type": "code",
      "source": [
        "from sklearn.metrics import classification_report\n",
        "\n",
        "y_pred = clf_bernoulli_nb.predict(X1_crudas_test)\n",
        "\n",
        "# Para las posibles etiquetas, solo se contemplan los valores comprendidos entre 2 y 14,\n",
        "# ambos incluidos, pero expresados como cadena de texto\n",
        "report = classification_report(y_crudas_test, y_pred, labels=[str(x) for x in range(2, 15)], target_names=lista_ministerios)\n",
        "\n",
        "print(report)"
      ],
      "metadata": {
        "colab": {
          "base_uri": "https://localhost:8080/"
        },
        "id": "P3B44ZcBPcg2",
        "outputId": "1c0aaeb5-62b1-4078-c674-67adecfdeb0b"
      },
      "execution_count": 35,
      "outputs": [
        {
          "output_type": "stream",
          "name": "stdout",
          "text": [
            "                                                                precision    recall  f1-score   support\n",
            "\n",
            "                                                 M. de Defensa       1.00      0.82      0.90        45\n",
            "                                                M. de Justicia       0.98      0.76      0.86        85\n",
            "                                               M. del Interior       0.68      0.99      0.80       370\n",
            "                                                 M. de Fomento       0.81      0.82      0.81       240\n",
            "                     M. de Asuntos Exteriores y de Cooperación       0.90      0.55      0.68        33\n",
            "                              M. de Hacienda y Función Pública       0.85      0.96      0.90       142\n",
            "                               M. de Empleo y Seguridad Social       0.97      0.71      0.82       140\n",
            "                    M. de Economía, Industria y Competitividad       0.92      0.39      0.55        31\n",
            "                       M. de Energía, Turismo y Agenda Digital       0.96      0.62      0.75        42\n",
            "      M. de Agricultura y Pesca, Alimentación y Medio Ambiente       1.00      0.77      0.87       238\n",
            "M. de la Presidencia y para las Administraciones Territoriales       1.00      0.83      0.91         6\n",
            "                  M. de Sanidad, Servicios Sociales e Igualdad       0.84      0.82      0.83       150\n",
            "                            M. de Educación, Cultura y Deporte       0.98      0.69      0.81        67\n",
            "\n",
            "                                                      accuracy                           0.83      1589\n",
            "                                                     macro avg       0.92      0.75      0.81      1589\n",
            "                                                  weighted avg       0.86      0.83      0.83      1589\n",
            "\n"
          ]
        }
      ]
    },
    {
      "cell_type": "markdown",
      "source": [
        "También en este caso mejora respecto a preguntas de evaluación preprocesadas, pero no llega al nivel del caso anterior."
      ],
      "metadata": {
        "id": "JFM7FCh2QFIT"
      }
    },
    {
      "cell_type": "markdown",
      "source": [
        "## Evaluación del modelo Complement NB con preguntas crudas"
      ],
      "metadata": {
        "id": "zrIgFb4UQN8Y"
      }
    },
    {
      "cell_type": "code",
      "source": [
        "from sklearn.metrics import classification_report\n",
        "\n",
        "y_pred = clf_complement_nb.predict(X1_crudas_test)\n",
        "\n",
        "# Para las posibles etiquetas, solo se contemplan los valores comprendidos entre 2 y 14,\n",
        "# ambos incluidos, pero expresados como cadena de texto\n",
        "report = classification_report(y_crudas_test, y_pred, labels=[str(x) for x in range(2, 15)], target_names=lista_ministerios)\n",
        "\n",
        "print(report)"
      ],
      "metadata": {
        "colab": {
          "base_uri": "https://localhost:8080/"
        },
        "id": "q37hsLVLQC3B",
        "outputId": "edd94ec7-109a-42d7-ddc4-9e2e4287edd7"
      },
      "execution_count": 34,
      "outputs": [
        {
          "output_type": "stream",
          "name": "stdout",
          "text": [
            "                                                                precision    recall  f1-score   support\n",
            "\n",
            "                                                 M. de Defensa       0.95      0.93      0.94        45\n",
            "                                                M. de Justicia       0.90      0.91      0.90        85\n",
            "                                               M. del Interior       0.91      0.99      0.95       370\n",
            "                                                 M. de Fomento       0.97      0.89      0.93       240\n",
            "                     M. de Asuntos Exteriores y de Cooperación       0.91      0.88      0.89        33\n",
            "                              M. de Hacienda y Función Pública       0.96      0.97      0.97       142\n",
            "                               M. de Empleo y Seguridad Social       0.95      0.84      0.89       140\n",
            "                    M. de Economía, Industria y Competitividad       0.92      0.77      0.84        31\n",
            "                       M. de Energía, Turismo y Agenda Digital       0.93      0.90      0.92        42\n",
            "      M. de Agricultura y Pesca, Alimentación y Medio Ambiente       0.95      0.98      0.97       238\n",
            "M. de la Presidencia y para las Administraciones Territoriales       1.00      0.83      0.91         6\n",
            "                  M. de Sanidad, Servicios Sociales e Igualdad       0.90      0.93      0.92       150\n",
            "                            M. de Educación, Cultura y Deporte       0.95      0.91      0.93        67\n",
            "\n",
            "                                                      accuracy                           0.93      1589\n",
            "                                                     macro avg       0.94      0.90      0.92      1589\n",
            "                                                  weighted avg       0.94      0.93      0.93      1589\n",
            "\n"
          ]
        }
      ]
    },
    {
      "cell_type": "markdown",
      "source": [
        "De nuevo, los resultados son significativamente mejores con este modelo, usando preguntas sin procesar para su evaluación."
      ],
      "metadata": {
        "id": "p_y87ztmQZ8s"
      }
    },
    {
      "cell_type": "markdown",
      "source": [
        "# Versión multi-etiqueta"
      ],
      "metadata": {
        "id": "81aqBA81x39C"
      }
    },
    {
      "cell_type": "markdown",
      "source": [
        "Nuestro caso de uso es atípico, ya que nuestro dataset de origen es mono-etiqueta. Lo que se desea es, en realidad, etiquetar cada pregunta con los tres ministerios más probables, ordenados de manera decreciente.\n",
        "\n",
        "Por tanto, no se trata de un caso al uso de entrenamiento multi-etiqueta, sino de utilizar los modelos ya generados mono-etiqueta y hacer la valoración de las probabilidades de cada categoría, para quedarnos con las 3 más altas.\n",
        "\n",
        "Para esto nos apoyaremos en la función `predict_proba`, que devuelve para cada texto un array con las probabilidades asociadas a cada categoría. Usaremos este array para generar las respuestas"
      ],
      "metadata": {
        "id": "wtKn-L4Wx_XM"
      }
    },
    {
      "cell_type": "code",
      "source": [
        "categorias = ['10', '11', '12', '13', '14', '2', '3', '4', '5', '6', '7', '8', '9']\n",
        "\n",
        "def predecir_multi_prob(pregunta):\n",
        "  pregunta_vectorizada = tfidfv.transform([pregunta])\n",
        "  y_pred_prob = clf_complement_nb.predict_proba(pregunta_vectorizada)\n",
        "  y_pred_prob_etiquetados = zip(categorias, y_pred_prob.tolist()[0])\n",
        "  y_pred_prob_etiquetados = list(y_pred_prob_etiquetados)\n",
        "  y_pred_prob_etiquetados.sort(reverse=True, key=lambda x:x[1])\n",
        "  return y_pred_prob_etiquetados[0:3]\n",
        "\n",
        "mis_y_pred_prob_etiquetados = predecir_multi_prob('¿Van a subir este año las pensiones?')"
      ],
      "metadata": {
        "id": "CYm4_YTLxwjb"
      },
      "execution_count": 84,
      "outputs": []
    },
    {
      "cell_type": "code",
      "source": [
        "print(mis_y_pred_prob_etiquetados)"
      ],
      "metadata": {
        "colab": {
          "base_uri": "https://localhost:8080/"
        },
        "id": "hn-EJy7K0keZ",
        "outputId": "e595e927-821f-4796-cc8e-f78a82ecddc9"
      },
      "execution_count": 85,
      "outputs": [
        {
          "output_type": "stream",
          "name": "stdout",
          "text": [
            "[('7', 0.34578280370801706), ('5', 0.08393971767817138), ('8', 0.07717103372780786)]\n"
          ]
        }
      ]
    },
    {
      "cell_type": "code",
      "source": [
        "def predecir_multi(pregunta):\n",
        "  pregunta_vectorizada = tfidfv.transform([pregunta])\n",
        "  y_pred_prob = clf_complement_nb.predict_proba(pregunta_vectorizada)\n",
        "  y_pred_prob_etiquetados = zip(categorias, y_pred_prob.tolist()[0])\n",
        "  y_pred_prob_etiquetados = list(y_pred_prob_etiquetados)\n",
        "  y_pred_prob_etiquetados.sort(reverse=True, key=lambda x:x[1])\n",
        "  y_pred = list(map(lambda x:x[0], y_pred_prob_etiquetados))\n",
        "  return y_pred[0:3]\n",
        "\n",
        "mis_y_pred_etiquetados = predecir_multi('¿Van a subir este año las pensiones?')"
      ],
      "metadata": {
        "id": "vK0PPYRk2IBT"
      },
      "execution_count": 87,
      "outputs": []
    },
    {
      "cell_type": "code",
      "source": [
        "print(mis_y_pred_etiquetados)"
      ],
      "metadata": {
        "colab": {
          "base_uri": "https://localhost:8080/"
        },
        "id": "oIPqgI1U4kn9",
        "outputId": "7060029e-d00b-436f-9b96-b8d35c0bf2f3"
      },
      "execution_count": 88,
      "outputs": [
        {
          "output_type": "stream",
          "name": "stdout",
          "text": [
            "['7', '5', '8']\n"
          ]
        }
      ]
    },
    {
      "cell_type": "code",
      "source": [],
      "metadata": {
        "id": "wO5XvfTP4rc8"
      },
      "execution_count": null,
      "outputs": []
    }
  ],
  "metadata": {
    "accelerator": "GPU",
    "colab": {
      "machine_shape": "hm",
      "provenance": [],
      "gpuType": "A100",
      "toc_visible": true,
      "authorship_tag": "ABX9TyNL6kFsvp9ITyE3wRBpEhoR",
      "include_colab_link": true
    },
    "kernelspec": {
      "display_name": "Python 3",
      "name": "python3"
    },
    "language_info": {
      "name": "python"
    }
  },
  "nbformat": 4,
  "nbformat_minor": 0
}